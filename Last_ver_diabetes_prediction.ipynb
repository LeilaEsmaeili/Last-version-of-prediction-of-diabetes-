{
  "nbformat": 4,
  "nbformat_minor": 0,
  "metadata": {
    "colab": {
      "provenance": []
    },
    "kernelspec": {
      "name": "python3",
      "display_name": "Python 3"
    },
    "language_info": {
      "name": "python"
    }
  },
  "cells": [
    {
      "cell_type": "code",
      "execution_count": 92,
      "metadata": {
        "colab": {
          "base_uri": "https://localhost:8080/"
        },
        "id": "Cof6NbeIvvIU",
        "outputId": "1ace4b2e-4c9b-4623-ba51-1b3fb8a3bc4d"
      },
      "outputs": [
        {
          "output_type": "stream",
          "name": "stdout",
          "text": [
            "Drive already mounted at /content/drive; to attempt to forcibly remount, call drive.mount(\"/content/drive\", force_remount=True).\n"
          ]
        }
      ],
      "source": [
        "from google.colab import drive\n",
        "drive.mount('/content/drive')"
      ]
    },
    {
      "cell_type": "markdown",
      "source": [
        "#Optimization"
      ],
      "metadata": {
        "id": "_Ptgdd4ROsdJ"
      }
    },
    {
      "cell_type": "markdown",
      "source": [
        "**Optuna**, en iyi hiperparametreleri bulmak için verimli arama tekniklerini kullanan gelişmiş bir hiperparametre optimizasyon kitaplığıdır. Burada, Optuna kullanarak KNN, MLP ve SVM modellerinin hiperparametre optimizasyonunu göstereceğim."
      ],
      "metadata": {
        "id": "762bQNDlOUHm"
      }
    },
    {
      "cell_type": "code",
      "source": [
        "pip install optuna\n"
      ],
      "metadata": {
        "colab": {
          "base_uri": "https://localhost:8080/"
        },
        "id": "kbmau1PwPza8",
        "outputId": "ea51ffa4-3252-4560-a2bd-89e2d9f04a2a"
      },
      "execution_count": 2,
      "outputs": [
        {
          "output_type": "stream",
          "name": "stdout",
          "text": [
            "Collecting optuna\n",
            "  Downloading optuna-3.6.1-py3-none-any.whl (380 kB)\n",
            "\u001b[2K     \u001b[90m━━━━━━━━━━━━━━━━━━━━━━━━━━━━━━━━━━━━━━━━\u001b[0m \u001b[32m380.1/380.1 kB\u001b[0m \u001b[31m4.5 MB/s\u001b[0m eta \u001b[36m0:00:00\u001b[0m\n",
            "\u001b[?25hCollecting alembic>=1.5.0 (from optuna)\n",
            "  Downloading alembic-1.13.1-py3-none-any.whl (233 kB)\n",
            "\u001b[2K     \u001b[90m━━━━━━━━━━━━━━━━━━━━━━━━━━━━━━━━━━━━━━━━\u001b[0m \u001b[32m233.4/233.4 kB\u001b[0m \u001b[31m6.9 MB/s\u001b[0m eta \u001b[36m0:00:00\u001b[0m\n",
            "\u001b[?25hCollecting colorlog (from optuna)\n",
            "  Downloading colorlog-6.8.2-py3-none-any.whl (11 kB)\n",
            "Requirement already satisfied: numpy in /usr/local/lib/python3.10/dist-packages (from optuna) (1.25.2)\n",
            "Requirement already satisfied: packaging>=20.0 in /usr/local/lib/python3.10/dist-packages (from optuna) (24.0)\n",
            "Requirement already satisfied: sqlalchemy>=1.3.0 in /usr/local/lib/python3.10/dist-packages (from optuna) (2.0.30)\n",
            "Requirement already satisfied: tqdm in /usr/local/lib/python3.10/dist-packages (from optuna) (4.66.4)\n",
            "Requirement already satisfied: PyYAML in /usr/local/lib/python3.10/dist-packages (from optuna) (6.0.1)\n",
            "Collecting Mako (from alembic>=1.5.0->optuna)\n",
            "  Downloading Mako-1.3.5-py3-none-any.whl (78 kB)\n",
            "\u001b[2K     \u001b[90m━━━━━━━━━━━━━━━━━━━━━━━━━━━━━━━━━━━━━━━━\u001b[0m \u001b[32m78.6/78.6 kB\u001b[0m \u001b[31m8.9 MB/s\u001b[0m eta \u001b[36m0:00:00\u001b[0m\n",
            "\u001b[?25hRequirement already satisfied: typing-extensions>=4 in /usr/local/lib/python3.10/dist-packages (from alembic>=1.5.0->optuna) (4.12.1)\n",
            "Requirement already satisfied: greenlet!=0.4.17 in /usr/local/lib/python3.10/dist-packages (from sqlalchemy>=1.3.0->optuna) (3.0.3)\n",
            "Requirement already satisfied: MarkupSafe>=0.9.2 in /usr/local/lib/python3.10/dist-packages (from Mako->alembic>=1.5.0->optuna) (2.1.5)\n",
            "Installing collected packages: Mako, colorlog, alembic, optuna\n",
            "Successfully installed Mako-1.3.5 alembic-1.13.1 colorlog-6.8.2 optuna-3.6.1\n"
          ]
        }
      ]
    },
    {
      "cell_type": "code",
      "source": [
        "import optuna\n",
        "import pandas as pd\n",
        "from sklearn.preprocessing import MinMaxScaler\n",
        "from sklearn.model_selection import train_test_split\n",
        "from sklearn.linear_model import LinearRegression, LogisticRegression\n",
        "from sklearn.metrics import mean_squared_error, accuracy_score, recall_score, confusion_matrix, f1_score, roc_auc_score\n",
        "from sklearn.naive_bayes import GaussianNB\n",
        "import matplotlib.pyplot as plt\n",
        "from sklearn.preprocessing import StandardScaler, LabelEncoder\n",
        "from sklearn.neighbors import KNeighborsClassifier\n",
        "from sklearn.neural_network import MLPClassifier\n",
        "from sklearn.svm import SVC\n",
        "from sklearn.metrics import roc_curve, roc_auc_score\n",
        "from sklearn.model_selection import cross_val_score\n",
        "import numpy as np\n"
      ],
      "metadata": {
        "id": "vWqgcw7ww19U"
      },
      "execution_count": 151,
      "outputs": []
    },
    {
      "cell_type": "markdown",
      "source": [
        "#Load Data"
      ],
      "metadata": {
        "id": "_xV2WOwnxLZq"
      }
    },
    {
      "cell_type": "code",
      "source": [
        "data_path = '/content/drive/My Drive/veri-seti.txt'\n"
      ],
      "metadata": {
        "id": "u8HXR3hjwenu"
      },
      "execution_count": 94,
      "outputs": []
    },
    {
      "cell_type": "code",
      "source": [
        "column_names = ['Pregnancies', 'Glucose', 'BloodPressure', 'SkinThickness', 'Insulin', 'BMI', 'DiabetesPedigreeFunction', 'Age', 'Outcome']\n",
        "data = pd.read_csv(data_path, header=None, names=column_names, delimiter='\\t')\n",
        "data.head()"
      ],
      "metadata": {
        "colab": {
          "base_uri": "https://localhost:8080/",
          "height": 206
        },
        "id": "zWEEepgUXpIU",
        "outputId": "e327dbd7-9723-4b8f-bde8-119a961688a6"
      },
      "execution_count": 95,
      "outputs": [
        {
          "output_type": "execute_result",
          "data": {
            "text/plain": [
              "   Pregnancies  Glucose  BloodPressure  SkinThickness  Insulin   BMI  \\\n",
              "0            6      148             72             35        0  33.6   \n",
              "1            1       85             66             29        0  26.6   \n",
              "2            8      183             64              0        0  23.3   \n",
              "3            1       89             66             23       94  28.1   \n",
              "4            0      137             40             35      168  43.1   \n",
              "\n",
              "   DiabetesPedigreeFunction  Age  Outcome  \n",
              "0                     0.627   50        1  \n",
              "1                     0.351   31        0  \n",
              "2                     0.672   32        1  \n",
              "3                     0.167   21        0  \n",
              "4                     2.288   33        1  "
            ],
            "text/html": [
              "\n",
              "  <div id=\"df-9f7f0463-f583-47cf-8c33-e3cc99cea1be\" class=\"colab-df-container\">\n",
              "    <div>\n",
              "<style scoped>\n",
              "    .dataframe tbody tr th:only-of-type {\n",
              "        vertical-align: middle;\n",
              "    }\n",
              "\n",
              "    .dataframe tbody tr th {\n",
              "        vertical-align: top;\n",
              "    }\n",
              "\n",
              "    .dataframe thead th {\n",
              "        text-align: right;\n",
              "    }\n",
              "</style>\n",
              "<table border=\"1\" class=\"dataframe\">\n",
              "  <thead>\n",
              "    <tr style=\"text-align: right;\">\n",
              "      <th></th>\n",
              "      <th>Pregnancies</th>\n",
              "      <th>Glucose</th>\n",
              "      <th>BloodPressure</th>\n",
              "      <th>SkinThickness</th>\n",
              "      <th>Insulin</th>\n",
              "      <th>BMI</th>\n",
              "      <th>DiabetesPedigreeFunction</th>\n",
              "      <th>Age</th>\n",
              "      <th>Outcome</th>\n",
              "    </tr>\n",
              "  </thead>\n",
              "  <tbody>\n",
              "    <tr>\n",
              "      <th>0</th>\n",
              "      <td>6</td>\n",
              "      <td>148</td>\n",
              "      <td>72</td>\n",
              "      <td>35</td>\n",
              "      <td>0</td>\n",
              "      <td>33.6</td>\n",
              "      <td>0.627</td>\n",
              "      <td>50</td>\n",
              "      <td>1</td>\n",
              "    </tr>\n",
              "    <tr>\n",
              "      <th>1</th>\n",
              "      <td>1</td>\n",
              "      <td>85</td>\n",
              "      <td>66</td>\n",
              "      <td>29</td>\n",
              "      <td>0</td>\n",
              "      <td>26.6</td>\n",
              "      <td>0.351</td>\n",
              "      <td>31</td>\n",
              "      <td>0</td>\n",
              "    </tr>\n",
              "    <tr>\n",
              "      <th>2</th>\n",
              "      <td>8</td>\n",
              "      <td>183</td>\n",
              "      <td>64</td>\n",
              "      <td>0</td>\n",
              "      <td>0</td>\n",
              "      <td>23.3</td>\n",
              "      <td>0.672</td>\n",
              "      <td>32</td>\n",
              "      <td>1</td>\n",
              "    </tr>\n",
              "    <tr>\n",
              "      <th>3</th>\n",
              "      <td>1</td>\n",
              "      <td>89</td>\n",
              "      <td>66</td>\n",
              "      <td>23</td>\n",
              "      <td>94</td>\n",
              "      <td>28.1</td>\n",
              "      <td>0.167</td>\n",
              "      <td>21</td>\n",
              "      <td>0</td>\n",
              "    </tr>\n",
              "    <tr>\n",
              "      <th>4</th>\n",
              "      <td>0</td>\n",
              "      <td>137</td>\n",
              "      <td>40</td>\n",
              "      <td>35</td>\n",
              "      <td>168</td>\n",
              "      <td>43.1</td>\n",
              "      <td>2.288</td>\n",
              "      <td>33</td>\n",
              "      <td>1</td>\n",
              "    </tr>\n",
              "  </tbody>\n",
              "</table>\n",
              "</div>\n",
              "    <div class=\"colab-df-buttons\">\n",
              "\n",
              "  <div class=\"colab-df-container\">\n",
              "    <button class=\"colab-df-convert\" onclick=\"convertToInteractive('df-9f7f0463-f583-47cf-8c33-e3cc99cea1be')\"\n",
              "            title=\"Convert this dataframe to an interactive table.\"\n",
              "            style=\"display:none;\">\n",
              "\n",
              "  <svg xmlns=\"http://www.w3.org/2000/svg\" height=\"24px\" viewBox=\"0 -960 960 960\">\n",
              "    <path d=\"M120-120v-720h720v720H120Zm60-500h600v-160H180v160Zm220 220h160v-160H400v160Zm0 220h160v-160H400v160ZM180-400h160v-160H180v160Zm440 0h160v-160H620v160ZM180-180h160v-160H180v160Zm440 0h160v-160H620v160Z\"/>\n",
              "  </svg>\n",
              "    </button>\n",
              "\n",
              "  <style>\n",
              "    .colab-df-container {\n",
              "      display:flex;\n",
              "      gap: 12px;\n",
              "    }\n",
              "\n",
              "    .colab-df-convert {\n",
              "      background-color: #E8F0FE;\n",
              "      border: none;\n",
              "      border-radius: 50%;\n",
              "      cursor: pointer;\n",
              "      display: none;\n",
              "      fill: #1967D2;\n",
              "      height: 32px;\n",
              "      padding: 0 0 0 0;\n",
              "      width: 32px;\n",
              "    }\n",
              "\n",
              "    .colab-df-convert:hover {\n",
              "      background-color: #E2EBFA;\n",
              "      box-shadow: 0px 1px 2px rgba(60, 64, 67, 0.3), 0px 1px 3px 1px rgba(60, 64, 67, 0.15);\n",
              "      fill: #174EA6;\n",
              "    }\n",
              "\n",
              "    .colab-df-buttons div {\n",
              "      margin-bottom: 4px;\n",
              "    }\n",
              "\n",
              "    [theme=dark] .colab-df-convert {\n",
              "      background-color: #3B4455;\n",
              "      fill: #D2E3FC;\n",
              "    }\n",
              "\n",
              "    [theme=dark] .colab-df-convert:hover {\n",
              "      background-color: #434B5C;\n",
              "      box-shadow: 0px 1px 3px 1px rgba(0, 0, 0, 0.15);\n",
              "      filter: drop-shadow(0px 1px 2px rgba(0, 0, 0, 0.3));\n",
              "      fill: #FFFFFF;\n",
              "    }\n",
              "  </style>\n",
              "\n",
              "    <script>\n",
              "      const buttonEl =\n",
              "        document.querySelector('#df-9f7f0463-f583-47cf-8c33-e3cc99cea1be button.colab-df-convert');\n",
              "      buttonEl.style.display =\n",
              "        google.colab.kernel.accessAllowed ? 'block' : 'none';\n",
              "\n",
              "      async function convertToInteractive(key) {\n",
              "        const element = document.querySelector('#df-9f7f0463-f583-47cf-8c33-e3cc99cea1be');\n",
              "        const dataTable =\n",
              "          await google.colab.kernel.invokeFunction('convertToInteractive',\n",
              "                                                    [key], {});\n",
              "        if (!dataTable) return;\n",
              "\n",
              "        const docLinkHtml = 'Like what you see? Visit the ' +\n",
              "          '<a target=\"_blank\" href=https://colab.research.google.com/notebooks/data_table.ipynb>data table notebook</a>'\n",
              "          + ' to learn more about interactive tables.';\n",
              "        element.innerHTML = '';\n",
              "        dataTable['output_type'] = 'display_data';\n",
              "        await google.colab.output.renderOutput(dataTable, element);\n",
              "        const docLink = document.createElement('div');\n",
              "        docLink.innerHTML = docLinkHtml;\n",
              "        element.appendChild(docLink);\n",
              "      }\n",
              "    </script>\n",
              "  </div>\n",
              "\n",
              "\n",
              "<div id=\"df-d0731356-4af9-4af2-a49d-72c4d44b7127\">\n",
              "  <button class=\"colab-df-quickchart\" onclick=\"quickchart('df-d0731356-4af9-4af2-a49d-72c4d44b7127')\"\n",
              "            title=\"Suggest charts\"\n",
              "            style=\"display:none;\">\n",
              "\n",
              "<svg xmlns=\"http://www.w3.org/2000/svg\" height=\"24px\"viewBox=\"0 0 24 24\"\n",
              "     width=\"24px\">\n",
              "    <g>\n",
              "        <path d=\"M19 3H5c-1.1 0-2 .9-2 2v14c0 1.1.9 2 2 2h14c1.1 0 2-.9 2-2V5c0-1.1-.9-2-2-2zM9 17H7v-7h2v7zm4 0h-2V7h2v10zm4 0h-2v-4h2v4z\"/>\n",
              "    </g>\n",
              "</svg>\n",
              "  </button>\n",
              "\n",
              "<style>\n",
              "  .colab-df-quickchart {\n",
              "      --bg-color: #E8F0FE;\n",
              "      --fill-color: #1967D2;\n",
              "      --hover-bg-color: #E2EBFA;\n",
              "      --hover-fill-color: #174EA6;\n",
              "      --disabled-fill-color: #AAA;\n",
              "      --disabled-bg-color: #DDD;\n",
              "  }\n",
              "\n",
              "  [theme=dark] .colab-df-quickchart {\n",
              "      --bg-color: #3B4455;\n",
              "      --fill-color: #D2E3FC;\n",
              "      --hover-bg-color: #434B5C;\n",
              "      --hover-fill-color: #FFFFFF;\n",
              "      --disabled-bg-color: #3B4455;\n",
              "      --disabled-fill-color: #666;\n",
              "  }\n",
              "\n",
              "  .colab-df-quickchart {\n",
              "    background-color: var(--bg-color);\n",
              "    border: none;\n",
              "    border-radius: 50%;\n",
              "    cursor: pointer;\n",
              "    display: none;\n",
              "    fill: var(--fill-color);\n",
              "    height: 32px;\n",
              "    padding: 0;\n",
              "    width: 32px;\n",
              "  }\n",
              "\n",
              "  .colab-df-quickchart:hover {\n",
              "    background-color: var(--hover-bg-color);\n",
              "    box-shadow: 0 1px 2px rgba(60, 64, 67, 0.3), 0 1px 3px 1px rgba(60, 64, 67, 0.15);\n",
              "    fill: var(--button-hover-fill-color);\n",
              "  }\n",
              "\n",
              "  .colab-df-quickchart-complete:disabled,\n",
              "  .colab-df-quickchart-complete:disabled:hover {\n",
              "    background-color: var(--disabled-bg-color);\n",
              "    fill: var(--disabled-fill-color);\n",
              "    box-shadow: none;\n",
              "  }\n",
              "\n",
              "  .colab-df-spinner {\n",
              "    border: 2px solid var(--fill-color);\n",
              "    border-color: transparent;\n",
              "    border-bottom-color: var(--fill-color);\n",
              "    animation:\n",
              "      spin 1s steps(1) infinite;\n",
              "  }\n",
              "\n",
              "  @keyframes spin {\n",
              "    0% {\n",
              "      border-color: transparent;\n",
              "      border-bottom-color: var(--fill-color);\n",
              "      border-left-color: var(--fill-color);\n",
              "    }\n",
              "    20% {\n",
              "      border-color: transparent;\n",
              "      border-left-color: var(--fill-color);\n",
              "      border-top-color: var(--fill-color);\n",
              "    }\n",
              "    30% {\n",
              "      border-color: transparent;\n",
              "      border-left-color: var(--fill-color);\n",
              "      border-top-color: var(--fill-color);\n",
              "      border-right-color: var(--fill-color);\n",
              "    }\n",
              "    40% {\n",
              "      border-color: transparent;\n",
              "      border-right-color: var(--fill-color);\n",
              "      border-top-color: var(--fill-color);\n",
              "    }\n",
              "    60% {\n",
              "      border-color: transparent;\n",
              "      border-right-color: var(--fill-color);\n",
              "    }\n",
              "    80% {\n",
              "      border-color: transparent;\n",
              "      border-right-color: var(--fill-color);\n",
              "      border-bottom-color: var(--fill-color);\n",
              "    }\n",
              "    90% {\n",
              "      border-color: transparent;\n",
              "      border-bottom-color: var(--fill-color);\n",
              "    }\n",
              "  }\n",
              "</style>\n",
              "\n",
              "  <script>\n",
              "    async function quickchart(key) {\n",
              "      const quickchartButtonEl =\n",
              "        document.querySelector('#' + key + ' button');\n",
              "      quickchartButtonEl.disabled = true;  // To prevent multiple clicks.\n",
              "      quickchartButtonEl.classList.add('colab-df-spinner');\n",
              "      try {\n",
              "        const charts = await google.colab.kernel.invokeFunction(\n",
              "            'suggestCharts', [key], {});\n",
              "      } catch (error) {\n",
              "        console.error('Error during call to suggestCharts:', error);\n",
              "      }\n",
              "      quickchartButtonEl.classList.remove('colab-df-spinner');\n",
              "      quickchartButtonEl.classList.add('colab-df-quickchart-complete');\n",
              "    }\n",
              "    (() => {\n",
              "      let quickchartButtonEl =\n",
              "        document.querySelector('#df-d0731356-4af9-4af2-a49d-72c4d44b7127 button');\n",
              "      quickchartButtonEl.style.display =\n",
              "        google.colab.kernel.accessAllowed ? 'block' : 'none';\n",
              "    })();\n",
              "  </script>\n",
              "</div>\n",
              "\n",
              "    </div>\n",
              "  </div>\n"
            ],
            "application/vnd.google.colaboratory.intrinsic+json": {
              "type": "dataframe",
              "variable_name": "data",
              "summary": "{\n  \"name\": \"data\",\n  \"rows\": 768,\n  \"fields\": [\n    {\n      \"column\": \"Pregnancies\",\n      \"properties\": {\n        \"dtype\": \"number\",\n        \"std\": 3,\n        \"min\": 0,\n        \"max\": 17,\n        \"num_unique_values\": 17,\n        \"samples\": [\n          6,\n          1,\n          3\n        ],\n        \"semantic_type\": \"\",\n        \"description\": \"\"\n      }\n    },\n    {\n      \"column\": \"Glucose\",\n      \"properties\": {\n        \"dtype\": \"number\",\n        \"std\": 31,\n        \"min\": 0,\n        \"max\": 199,\n        \"num_unique_values\": 136,\n        \"samples\": [\n          151,\n          101,\n          112\n        ],\n        \"semantic_type\": \"\",\n        \"description\": \"\"\n      }\n    },\n    {\n      \"column\": \"BloodPressure\",\n      \"properties\": {\n        \"dtype\": \"number\",\n        \"std\": 19,\n        \"min\": 0,\n        \"max\": 122,\n        \"num_unique_values\": 47,\n        \"samples\": [\n          86,\n          46,\n          85\n        ],\n        \"semantic_type\": \"\",\n        \"description\": \"\"\n      }\n    },\n    {\n      \"column\": \"SkinThickness\",\n      \"properties\": {\n        \"dtype\": \"number\",\n        \"std\": 15,\n        \"min\": 0,\n        \"max\": 99,\n        \"num_unique_values\": 51,\n        \"samples\": [\n          7,\n          12,\n          48\n        ],\n        \"semantic_type\": \"\",\n        \"description\": \"\"\n      }\n    },\n    {\n      \"column\": \"Insulin\",\n      \"properties\": {\n        \"dtype\": \"number\",\n        \"std\": 115,\n        \"min\": 0,\n        \"max\": 846,\n        \"num_unique_values\": 186,\n        \"samples\": [\n          52,\n          41,\n          183\n        ],\n        \"semantic_type\": \"\",\n        \"description\": \"\"\n      }\n    },\n    {\n      \"column\": \"BMI\",\n      \"properties\": {\n        \"dtype\": \"number\",\n        \"std\": 7.884160320375446,\n        \"min\": 0.0,\n        \"max\": 67.1,\n        \"num_unique_values\": 248,\n        \"samples\": [\n          19.9,\n          31.0,\n          38.1\n        ],\n        \"semantic_type\": \"\",\n        \"description\": \"\"\n      }\n    },\n    {\n      \"column\": \"DiabetesPedigreeFunction\",\n      \"properties\": {\n        \"dtype\": \"number\",\n        \"std\": 0.3313285950127749,\n        \"min\": 0.078,\n        \"max\": 2.42,\n        \"num_unique_values\": 517,\n        \"samples\": [\n          1.731,\n          0.426,\n          0.138\n        ],\n        \"semantic_type\": \"\",\n        \"description\": \"\"\n      }\n    },\n    {\n      \"column\": \"Age\",\n      \"properties\": {\n        \"dtype\": \"number\",\n        \"std\": 11,\n        \"min\": 21,\n        \"max\": 81,\n        \"num_unique_values\": 52,\n        \"samples\": [\n          60,\n          47,\n          72\n        ],\n        \"semantic_type\": \"\",\n        \"description\": \"\"\n      }\n    },\n    {\n      \"column\": \"Outcome\",\n      \"properties\": {\n        \"dtype\": \"number\",\n        \"std\": 0,\n        \"min\": 0,\n        \"max\": 1,\n        \"num_unique_values\": 2,\n        \"samples\": [\n          0,\n          1\n        ],\n        \"semantic_type\": \"\",\n        \"description\": \"\"\n      }\n    }\n  ]\n}"
            }
          },
          "metadata": {},
          "execution_count": 95
        }
      ]
    },
    {
      "cell_type": "code",
      "source": [
        "print(f\"Total number of samples and features: {data.shape}\")"
      ],
      "metadata": {
        "colab": {
          "base_uri": "https://localhost:8080/"
        },
        "id": "hyDQ9wBPWTay",
        "outputId": "6c1ea407-9617-4469-f8f9-1e9b71f2bfac"
      },
      "execution_count": 96,
      "outputs": [
        {
          "output_type": "stream",
          "name": "stdout",
          "text": [
            "Total number of samples and features: (768, 9)\n"
          ]
        }
      ]
    },
    {
      "cell_type": "code",
      "source": [
        "print(data.head())"
      ],
      "metadata": {
        "colab": {
          "base_uri": "https://localhost:8080/"
        },
        "id": "PVd9AVemWi5r",
        "outputId": "f5d5ab8c-1c2e-4d98-bb00-47266856e173"
      },
      "execution_count": 97,
      "outputs": [
        {
          "output_type": "stream",
          "name": "stdout",
          "text": [
            "   Pregnancies  Glucose  BloodPressure  SkinThickness  Insulin   BMI  \\\n",
            "0            6      148             72             35        0  33.6   \n",
            "1            1       85             66             29        0  26.6   \n",
            "2            8      183             64              0        0  23.3   \n",
            "3            1       89             66             23       94  28.1   \n",
            "4            0      137             40             35      168  43.1   \n",
            "\n",
            "   DiabetesPedigreeFunction  Age  Outcome  \n",
            "0                     0.627   50        1  \n",
            "1                     0.351   31        0  \n",
            "2                     0.672   32        1  \n",
            "3                     0.167   21        0  \n",
            "4                     2.288   33        1  \n"
          ]
        }
      ]
    },
    {
      "cell_type": "code",
      "source": [
        "print(f\"Number of samples: {data.shape[0]}\")"
      ],
      "metadata": {
        "colab": {
          "base_uri": "https://localhost:8080/"
        },
        "id": "KkL02z1RWpmV",
        "outputId": "80f9b1aa-605b-426e-a7b1-74616167928b"
      },
      "execution_count": 98,
      "outputs": [
        {
          "output_type": "stream",
          "name": "stdout",
          "text": [
            "Number of samples: 768\n"
          ]
        }
      ]
    },
    {
      "cell_type": "code",
      "source": [
        "print(f\"Number of features: {data.shape[1]}\")"
      ],
      "metadata": {
        "colab": {
          "base_uri": "https://localhost:8080/"
        },
        "id": "8Iw5kwSLWt46",
        "outputId": "496419a7-8e9d-4bfa-d819-c78456a58efe"
      },
      "execution_count": 99,
      "outputs": [
        {
          "output_type": "stream",
          "name": "stdout",
          "text": [
            "Number of features: 9\n"
          ]
        }
      ]
    },
    {
      "cell_type": "markdown",
      "source": [
        "#Dataset Info"
      ],
      "metadata": {
        "id": "BQSsjnJPyvvO"
      }
    },
    {
      "cell_type": "code",
      "source": [
        "data_info = data.info()\n",
        "data_info"
      ],
      "metadata": {
        "colab": {
          "base_uri": "https://localhost:8080/"
        },
        "id": "vSCkp2ScJ9j6",
        "outputId": "b743c48b-893c-49b0-d5ea-a106855776c0"
      },
      "execution_count": 100,
      "outputs": [
        {
          "output_type": "stream",
          "name": "stdout",
          "text": [
            "<class 'pandas.core.frame.DataFrame'>\n",
            "RangeIndex: 768 entries, 0 to 767\n",
            "Data columns (total 9 columns):\n",
            " #   Column                    Non-Null Count  Dtype  \n",
            "---  ------                    --------------  -----  \n",
            " 0   Pregnancies               768 non-null    int64  \n",
            " 1   Glucose                   768 non-null    int64  \n",
            " 2   BloodPressure             768 non-null    int64  \n",
            " 3   SkinThickness             768 non-null    int64  \n",
            " 4   Insulin                   768 non-null    int64  \n",
            " 5   BMI                       768 non-null    float64\n",
            " 6   DiabetesPedigreeFunction  768 non-null    float64\n",
            " 7   Age                       768 non-null    int64  \n",
            " 8   Outcome                   768 non-null    int64  \n",
            "dtypes: float64(2), int64(7)\n",
            "memory usage: 54.1 KB\n"
          ]
        }
      ]
    },
    {
      "cell_type": "code",
      "source": [
        "data_description = data.describe()\n",
        "data_description"
      ],
      "metadata": {
        "colab": {
          "base_uri": "https://localhost:8080/",
          "height": 300
        },
        "id": "VE8GcWQ7y0-n",
        "outputId": "b700b1b6-1c18-4c11-b224-8708000bad06"
      },
      "execution_count": 101,
      "outputs": [
        {
          "output_type": "execute_result",
          "data": {
            "text/plain": [
              "       Pregnancies     Glucose  BloodPressure  SkinThickness     Insulin  \\\n",
              "count   768.000000  768.000000     768.000000     768.000000  768.000000   \n",
              "mean      3.845052  120.894531      69.105469      20.536458   79.799479   \n",
              "std       3.369578   31.972618      19.355807      15.952218  115.244002   \n",
              "min       0.000000    0.000000       0.000000       0.000000    0.000000   \n",
              "25%       1.000000   99.000000      62.000000       0.000000    0.000000   \n",
              "50%       3.000000  117.000000      72.000000      23.000000   30.500000   \n",
              "75%       6.000000  140.250000      80.000000      32.000000  127.250000   \n",
              "max      17.000000  199.000000     122.000000      99.000000  846.000000   \n",
              "\n",
              "              BMI  DiabetesPedigreeFunction         Age     Outcome  \n",
              "count  768.000000                768.000000  768.000000  768.000000  \n",
              "mean    31.992578                  0.471876   33.240885    0.348958  \n",
              "std      7.884160                  0.331329   11.760232    0.476951  \n",
              "min      0.000000                  0.078000   21.000000    0.000000  \n",
              "25%     27.300000                  0.243750   24.000000    0.000000  \n",
              "50%     32.000000                  0.372500   29.000000    0.000000  \n",
              "75%     36.600000                  0.626250   41.000000    1.000000  \n",
              "max     67.100000                  2.420000   81.000000    1.000000  "
            ],
            "text/html": [
              "\n",
              "  <div id=\"df-6c2a339e-51ba-437e-ad91-643f71edc43d\" class=\"colab-df-container\">\n",
              "    <div>\n",
              "<style scoped>\n",
              "    .dataframe tbody tr th:only-of-type {\n",
              "        vertical-align: middle;\n",
              "    }\n",
              "\n",
              "    .dataframe tbody tr th {\n",
              "        vertical-align: top;\n",
              "    }\n",
              "\n",
              "    .dataframe thead th {\n",
              "        text-align: right;\n",
              "    }\n",
              "</style>\n",
              "<table border=\"1\" class=\"dataframe\">\n",
              "  <thead>\n",
              "    <tr style=\"text-align: right;\">\n",
              "      <th></th>\n",
              "      <th>Pregnancies</th>\n",
              "      <th>Glucose</th>\n",
              "      <th>BloodPressure</th>\n",
              "      <th>SkinThickness</th>\n",
              "      <th>Insulin</th>\n",
              "      <th>BMI</th>\n",
              "      <th>DiabetesPedigreeFunction</th>\n",
              "      <th>Age</th>\n",
              "      <th>Outcome</th>\n",
              "    </tr>\n",
              "  </thead>\n",
              "  <tbody>\n",
              "    <tr>\n",
              "      <th>count</th>\n",
              "      <td>768.000000</td>\n",
              "      <td>768.000000</td>\n",
              "      <td>768.000000</td>\n",
              "      <td>768.000000</td>\n",
              "      <td>768.000000</td>\n",
              "      <td>768.000000</td>\n",
              "      <td>768.000000</td>\n",
              "      <td>768.000000</td>\n",
              "      <td>768.000000</td>\n",
              "    </tr>\n",
              "    <tr>\n",
              "      <th>mean</th>\n",
              "      <td>3.845052</td>\n",
              "      <td>120.894531</td>\n",
              "      <td>69.105469</td>\n",
              "      <td>20.536458</td>\n",
              "      <td>79.799479</td>\n",
              "      <td>31.992578</td>\n",
              "      <td>0.471876</td>\n",
              "      <td>33.240885</td>\n",
              "      <td>0.348958</td>\n",
              "    </tr>\n",
              "    <tr>\n",
              "      <th>std</th>\n",
              "      <td>3.369578</td>\n",
              "      <td>31.972618</td>\n",
              "      <td>19.355807</td>\n",
              "      <td>15.952218</td>\n",
              "      <td>115.244002</td>\n",
              "      <td>7.884160</td>\n",
              "      <td>0.331329</td>\n",
              "      <td>11.760232</td>\n",
              "      <td>0.476951</td>\n",
              "    </tr>\n",
              "    <tr>\n",
              "      <th>min</th>\n",
              "      <td>0.000000</td>\n",
              "      <td>0.000000</td>\n",
              "      <td>0.000000</td>\n",
              "      <td>0.000000</td>\n",
              "      <td>0.000000</td>\n",
              "      <td>0.000000</td>\n",
              "      <td>0.078000</td>\n",
              "      <td>21.000000</td>\n",
              "      <td>0.000000</td>\n",
              "    </tr>\n",
              "    <tr>\n",
              "      <th>25%</th>\n",
              "      <td>1.000000</td>\n",
              "      <td>99.000000</td>\n",
              "      <td>62.000000</td>\n",
              "      <td>0.000000</td>\n",
              "      <td>0.000000</td>\n",
              "      <td>27.300000</td>\n",
              "      <td>0.243750</td>\n",
              "      <td>24.000000</td>\n",
              "      <td>0.000000</td>\n",
              "    </tr>\n",
              "    <tr>\n",
              "      <th>50%</th>\n",
              "      <td>3.000000</td>\n",
              "      <td>117.000000</td>\n",
              "      <td>72.000000</td>\n",
              "      <td>23.000000</td>\n",
              "      <td>30.500000</td>\n",
              "      <td>32.000000</td>\n",
              "      <td>0.372500</td>\n",
              "      <td>29.000000</td>\n",
              "      <td>0.000000</td>\n",
              "    </tr>\n",
              "    <tr>\n",
              "      <th>75%</th>\n",
              "      <td>6.000000</td>\n",
              "      <td>140.250000</td>\n",
              "      <td>80.000000</td>\n",
              "      <td>32.000000</td>\n",
              "      <td>127.250000</td>\n",
              "      <td>36.600000</td>\n",
              "      <td>0.626250</td>\n",
              "      <td>41.000000</td>\n",
              "      <td>1.000000</td>\n",
              "    </tr>\n",
              "    <tr>\n",
              "      <th>max</th>\n",
              "      <td>17.000000</td>\n",
              "      <td>199.000000</td>\n",
              "      <td>122.000000</td>\n",
              "      <td>99.000000</td>\n",
              "      <td>846.000000</td>\n",
              "      <td>67.100000</td>\n",
              "      <td>2.420000</td>\n",
              "      <td>81.000000</td>\n",
              "      <td>1.000000</td>\n",
              "    </tr>\n",
              "  </tbody>\n",
              "</table>\n",
              "</div>\n",
              "    <div class=\"colab-df-buttons\">\n",
              "\n",
              "  <div class=\"colab-df-container\">\n",
              "    <button class=\"colab-df-convert\" onclick=\"convertToInteractive('df-6c2a339e-51ba-437e-ad91-643f71edc43d')\"\n",
              "            title=\"Convert this dataframe to an interactive table.\"\n",
              "            style=\"display:none;\">\n",
              "\n",
              "  <svg xmlns=\"http://www.w3.org/2000/svg\" height=\"24px\" viewBox=\"0 -960 960 960\">\n",
              "    <path d=\"M120-120v-720h720v720H120Zm60-500h600v-160H180v160Zm220 220h160v-160H400v160Zm0 220h160v-160H400v160ZM180-400h160v-160H180v160Zm440 0h160v-160H620v160ZM180-180h160v-160H180v160Zm440 0h160v-160H620v160Z\"/>\n",
              "  </svg>\n",
              "    </button>\n",
              "\n",
              "  <style>\n",
              "    .colab-df-container {\n",
              "      display:flex;\n",
              "      gap: 12px;\n",
              "    }\n",
              "\n",
              "    .colab-df-convert {\n",
              "      background-color: #E8F0FE;\n",
              "      border: none;\n",
              "      border-radius: 50%;\n",
              "      cursor: pointer;\n",
              "      display: none;\n",
              "      fill: #1967D2;\n",
              "      height: 32px;\n",
              "      padding: 0 0 0 0;\n",
              "      width: 32px;\n",
              "    }\n",
              "\n",
              "    .colab-df-convert:hover {\n",
              "      background-color: #E2EBFA;\n",
              "      box-shadow: 0px 1px 2px rgba(60, 64, 67, 0.3), 0px 1px 3px 1px rgba(60, 64, 67, 0.15);\n",
              "      fill: #174EA6;\n",
              "    }\n",
              "\n",
              "    .colab-df-buttons div {\n",
              "      margin-bottom: 4px;\n",
              "    }\n",
              "\n",
              "    [theme=dark] .colab-df-convert {\n",
              "      background-color: #3B4455;\n",
              "      fill: #D2E3FC;\n",
              "    }\n",
              "\n",
              "    [theme=dark] .colab-df-convert:hover {\n",
              "      background-color: #434B5C;\n",
              "      box-shadow: 0px 1px 3px 1px rgba(0, 0, 0, 0.15);\n",
              "      filter: drop-shadow(0px 1px 2px rgba(0, 0, 0, 0.3));\n",
              "      fill: #FFFFFF;\n",
              "    }\n",
              "  </style>\n",
              "\n",
              "    <script>\n",
              "      const buttonEl =\n",
              "        document.querySelector('#df-6c2a339e-51ba-437e-ad91-643f71edc43d button.colab-df-convert');\n",
              "      buttonEl.style.display =\n",
              "        google.colab.kernel.accessAllowed ? 'block' : 'none';\n",
              "\n",
              "      async function convertToInteractive(key) {\n",
              "        const element = document.querySelector('#df-6c2a339e-51ba-437e-ad91-643f71edc43d');\n",
              "        const dataTable =\n",
              "          await google.colab.kernel.invokeFunction('convertToInteractive',\n",
              "                                                    [key], {});\n",
              "        if (!dataTable) return;\n",
              "\n",
              "        const docLinkHtml = 'Like what you see? Visit the ' +\n",
              "          '<a target=\"_blank\" href=https://colab.research.google.com/notebooks/data_table.ipynb>data table notebook</a>'\n",
              "          + ' to learn more about interactive tables.';\n",
              "        element.innerHTML = '';\n",
              "        dataTable['output_type'] = 'display_data';\n",
              "        await google.colab.output.renderOutput(dataTable, element);\n",
              "        const docLink = document.createElement('div');\n",
              "        docLink.innerHTML = docLinkHtml;\n",
              "        element.appendChild(docLink);\n",
              "      }\n",
              "    </script>\n",
              "  </div>\n",
              "\n",
              "\n",
              "<div id=\"df-b266eeda-4019-45d1-a68b-f1075a8ba88c\">\n",
              "  <button class=\"colab-df-quickchart\" onclick=\"quickchart('df-b266eeda-4019-45d1-a68b-f1075a8ba88c')\"\n",
              "            title=\"Suggest charts\"\n",
              "            style=\"display:none;\">\n",
              "\n",
              "<svg xmlns=\"http://www.w3.org/2000/svg\" height=\"24px\"viewBox=\"0 0 24 24\"\n",
              "     width=\"24px\">\n",
              "    <g>\n",
              "        <path d=\"M19 3H5c-1.1 0-2 .9-2 2v14c0 1.1.9 2 2 2h14c1.1 0 2-.9 2-2V5c0-1.1-.9-2-2-2zM9 17H7v-7h2v7zm4 0h-2V7h2v10zm4 0h-2v-4h2v4z\"/>\n",
              "    </g>\n",
              "</svg>\n",
              "  </button>\n",
              "\n",
              "<style>\n",
              "  .colab-df-quickchart {\n",
              "      --bg-color: #E8F0FE;\n",
              "      --fill-color: #1967D2;\n",
              "      --hover-bg-color: #E2EBFA;\n",
              "      --hover-fill-color: #174EA6;\n",
              "      --disabled-fill-color: #AAA;\n",
              "      --disabled-bg-color: #DDD;\n",
              "  }\n",
              "\n",
              "  [theme=dark] .colab-df-quickchart {\n",
              "      --bg-color: #3B4455;\n",
              "      --fill-color: #D2E3FC;\n",
              "      --hover-bg-color: #434B5C;\n",
              "      --hover-fill-color: #FFFFFF;\n",
              "      --disabled-bg-color: #3B4455;\n",
              "      --disabled-fill-color: #666;\n",
              "  }\n",
              "\n",
              "  .colab-df-quickchart {\n",
              "    background-color: var(--bg-color);\n",
              "    border: none;\n",
              "    border-radius: 50%;\n",
              "    cursor: pointer;\n",
              "    display: none;\n",
              "    fill: var(--fill-color);\n",
              "    height: 32px;\n",
              "    padding: 0;\n",
              "    width: 32px;\n",
              "  }\n",
              "\n",
              "  .colab-df-quickchart:hover {\n",
              "    background-color: var(--hover-bg-color);\n",
              "    box-shadow: 0 1px 2px rgba(60, 64, 67, 0.3), 0 1px 3px 1px rgba(60, 64, 67, 0.15);\n",
              "    fill: var(--button-hover-fill-color);\n",
              "  }\n",
              "\n",
              "  .colab-df-quickchart-complete:disabled,\n",
              "  .colab-df-quickchart-complete:disabled:hover {\n",
              "    background-color: var(--disabled-bg-color);\n",
              "    fill: var(--disabled-fill-color);\n",
              "    box-shadow: none;\n",
              "  }\n",
              "\n",
              "  .colab-df-spinner {\n",
              "    border: 2px solid var(--fill-color);\n",
              "    border-color: transparent;\n",
              "    border-bottom-color: var(--fill-color);\n",
              "    animation:\n",
              "      spin 1s steps(1) infinite;\n",
              "  }\n",
              "\n",
              "  @keyframes spin {\n",
              "    0% {\n",
              "      border-color: transparent;\n",
              "      border-bottom-color: var(--fill-color);\n",
              "      border-left-color: var(--fill-color);\n",
              "    }\n",
              "    20% {\n",
              "      border-color: transparent;\n",
              "      border-left-color: var(--fill-color);\n",
              "      border-top-color: var(--fill-color);\n",
              "    }\n",
              "    30% {\n",
              "      border-color: transparent;\n",
              "      border-left-color: var(--fill-color);\n",
              "      border-top-color: var(--fill-color);\n",
              "      border-right-color: var(--fill-color);\n",
              "    }\n",
              "    40% {\n",
              "      border-color: transparent;\n",
              "      border-right-color: var(--fill-color);\n",
              "      border-top-color: var(--fill-color);\n",
              "    }\n",
              "    60% {\n",
              "      border-color: transparent;\n",
              "      border-right-color: var(--fill-color);\n",
              "    }\n",
              "    80% {\n",
              "      border-color: transparent;\n",
              "      border-right-color: var(--fill-color);\n",
              "      border-bottom-color: var(--fill-color);\n",
              "    }\n",
              "    90% {\n",
              "      border-color: transparent;\n",
              "      border-bottom-color: var(--fill-color);\n",
              "    }\n",
              "  }\n",
              "</style>\n",
              "\n",
              "  <script>\n",
              "    async function quickchart(key) {\n",
              "      const quickchartButtonEl =\n",
              "        document.querySelector('#' + key + ' button');\n",
              "      quickchartButtonEl.disabled = true;  // To prevent multiple clicks.\n",
              "      quickchartButtonEl.classList.add('colab-df-spinner');\n",
              "      try {\n",
              "        const charts = await google.colab.kernel.invokeFunction(\n",
              "            'suggestCharts', [key], {});\n",
              "      } catch (error) {\n",
              "        console.error('Error during call to suggestCharts:', error);\n",
              "      }\n",
              "      quickchartButtonEl.classList.remove('colab-df-spinner');\n",
              "      quickchartButtonEl.classList.add('colab-df-quickchart-complete');\n",
              "    }\n",
              "    (() => {\n",
              "      let quickchartButtonEl =\n",
              "        document.querySelector('#df-b266eeda-4019-45d1-a68b-f1075a8ba88c button');\n",
              "      quickchartButtonEl.style.display =\n",
              "        google.colab.kernel.accessAllowed ? 'block' : 'none';\n",
              "    })();\n",
              "  </script>\n",
              "</div>\n",
              "\n",
              "  <div id=\"id_51bec462-4e36-4558-b05b-3e08f21f56d1\">\n",
              "    <style>\n",
              "      .colab-df-generate {\n",
              "        background-color: #E8F0FE;\n",
              "        border: none;\n",
              "        border-radius: 50%;\n",
              "        cursor: pointer;\n",
              "        display: none;\n",
              "        fill: #1967D2;\n",
              "        height: 32px;\n",
              "        padding: 0 0 0 0;\n",
              "        width: 32px;\n",
              "      }\n",
              "\n",
              "      .colab-df-generate:hover {\n",
              "        background-color: #E2EBFA;\n",
              "        box-shadow: 0px 1px 2px rgba(60, 64, 67, 0.3), 0px 1px 3px 1px rgba(60, 64, 67, 0.15);\n",
              "        fill: #174EA6;\n",
              "      }\n",
              "\n",
              "      [theme=dark] .colab-df-generate {\n",
              "        background-color: #3B4455;\n",
              "        fill: #D2E3FC;\n",
              "      }\n",
              "\n",
              "      [theme=dark] .colab-df-generate:hover {\n",
              "        background-color: #434B5C;\n",
              "        box-shadow: 0px 1px 3px 1px rgba(0, 0, 0, 0.15);\n",
              "        filter: drop-shadow(0px 1px 2px rgba(0, 0, 0, 0.3));\n",
              "        fill: #FFFFFF;\n",
              "      }\n",
              "    </style>\n",
              "    <button class=\"colab-df-generate\" onclick=\"generateWithVariable('data_description')\"\n",
              "            title=\"Generate code using this dataframe.\"\n",
              "            style=\"display:none;\">\n",
              "\n",
              "  <svg xmlns=\"http://www.w3.org/2000/svg\" height=\"24px\"viewBox=\"0 0 24 24\"\n",
              "       width=\"24px\">\n",
              "    <path d=\"M7,19H8.4L18.45,9,17,7.55,7,17.6ZM5,21V16.75L18.45,3.32a2,2,0,0,1,2.83,0l1.4,1.43a1.91,1.91,0,0,1,.58,1.4,1.91,1.91,0,0,1-.58,1.4L9.25,21ZM18.45,9,17,7.55Zm-12,3A5.31,5.31,0,0,0,4.9,8.1,5.31,5.31,0,0,0,1,6.5,5.31,5.31,0,0,0,4.9,4.9,5.31,5.31,0,0,0,6.5,1,5.31,5.31,0,0,0,8.1,4.9,5.31,5.31,0,0,0,12,6.5,5.46,5.46,0,0,0,6.5,12Z\"/>\n",
              "  </svg>\n",
              "    </button>\n",
              "    <script>\n",
              "      (() => {\n",
              "      const buttonEl =\n",
              "        document.querySelector('#id_51bec462-4e36-4558-b05b-3e08f21f56d1 button.colab-df-generate');\n",
              "      buttonEl.style.display =\n",
              "        google.colab.kernel.accessAllowed ? 'block' : 'none';\n",
              "\n",
              "      buttonEl.onclick = () => {\n",
              "        google.colab.notebook.generateWithVariable('data_description');\n",
              "      }\n",
              "      })();\n",
              "    </script>\n",
              "  </div>\n",
              "\n",
              "    </div>\n",
              "  </div>\n"
            ],
            "application/vnd.google.colaboratory.intrinsic+json": {
              "type": "dataframe",
              "variable_name": "data_description",
              "summary": "{\n  \"name\": \"data_description\",\n  \"rows\": 8,\n  \"fields\": [\n    {\n      \"column\": \"Pregnancies\",\n      \"properties\": {\n        \"dtype\": \"number\",\n        \"std\": 269.85223453356366,\n        \"min\": 0.0,\n        \"max\": 768.0,\n        \"num_unique_values\": 8,\n        \"samples\": [\n          3.8450520833333335,\n          3.0,\n          768.0\n        ],\n        \"semantic_type\": \"\",\n        \"description\": \"\"\n      }\n    },\n    {\n      \"column\": \"Glucose\",\n      \"properties\": {\n        \"dtype\": \"number\",\n        \"std\": 243.73802348295857,\n        \"min\": 0.0,\n        \"max\": 768.0,\n        \"num_unique_values\": 8,\n        \"samples\": [\n          120.89453125,\n          117.0,\n          768.0\n        ],\n        \"semantic_type\": \"\",\n        \"description\": \"\"\n      }\n    },\n    {\n      \"column\": \"BloodPressure\",\n      \"properties\": {\n        \"dtype\": \"number\",\n        \"std\": 252.8525053581062,\n        \"min\": 0.0,\n        \"max\": 768.0,\n        \"num_unique_values\": 8,\n        \"samples\": [\n          69.10546875,\n          72.0,\n          768.0\n        ],\n        \"semantic_type\": \"\",\n        \"description\": \"\"\n      }\n    },\n    {\n      \"column\": \"SkinThickness\",\n      \"properties\": {\n        \"dtype\": \"number\",\n        \"std\": 263.7684730531098,\n        \"min\": 0.0,\n        \"max\": 768.0,\n        \"num_unique_values\": 7,\n        \"samples\": [\n          768.0,\n          20.536458333333332,\n          32.0\n        ],\n        \"semantic_type\": \"\",\n        \"description\": \"\"\n      }\n    },\n    {\n      \"column\": \"Insulin\",\n      \"properties\": {\n        \"dtype\": \"number\",\n        \"std\": 350.26059167945886,\n        \"min\": 0.0,\n        \"max\": 846.0,\n        \"num_unique_values\": 7,\n        \"samples\": [\n          768.0,\n          79.79947916666667,\n          127.25\n        ],\n        \"semantic_type\": \"\",\n        \"description\": \"\"\n      }\n    },\n    {\n      \"column\": \"BMI\",\n      \"properties\": {\n        \"dtype\": \"number\",\n        \"std\": 262.05117817552093,\n        \"min\": 0.0,\n        \"max\": 768.0,\n        \"num_unique_values\": 8,\n        \"samples\": [\n          31.992578124999998,\n          32.0,\n          768.0\n        ],\n        \"semantic_type\": \"\",\n        \"description\": \"\"\n      }\n    },\n    {\n      \"column\": \"DiabetesPedigreeFunction\",\n      \"properties\": {\n        \"dtype\": \"number\",\n        \"std\": 271.3005221658502,\n        \"min\": 0.078,\n        \"max\": 768.0,\n        \"num_unique_values\": 8,\n        \"samples\": [\n          0.47187630208333325,\n          0.3725,\n          768.0\n        ],\n        \"semantic_type\": \"\",\n        \"description\": \"\"\n      }\n    },\n    {\n      \"column\": \"Age\",\n      \"properties\": {\n        \"dtype\": \"number\",\n        \"std\": 260.1941178528413,\n        \"min\": 11.760231540678685,\n        \"max\": 768.0,\n        \"num_unique_values\": 8,\n        \"samples\": [\n          33.240885416666664,\n          29.0,\n          768.0\n        ],\n        \"semantic_type\": \"\",\n        \"description\": \"\"\n      }\n    },\n    {\n      \"column\": \"Outcome\",\n      \"properties\": {\n        \"dtype\": \"number\",\n        \"std\": 271.3865920388932,\n        \"min\": 0.0,\n        \"max\": 768.0,\n        \"num_unique_values\": 5,\n        \"samples\": [\n          0.3489583333333333,\n          1.0,\n          0.47695137724279896\n        ],\n        \"semantic_type\": \"\",\n        \"description\": \"\"\n      }\n    }\n  ]\n}"
            }
          },
          "metadata": {},
          "execution_count": 101
        }
      ]
    },
    {
      "cell_type": "markdown",
      "source": [
        "#Preprocessing"
      ],
      "metadata": {
        "id": "Ogunst9aL8Cg"
      }
    },
    {
      "cell_type": "code",
      "source": [
        "data = data.dropna()"
      ],
      "metadata": {
        "id": "BzhlRGW3RWHQ"
      },
      "execution_count": 102,
      "outputs": []
    },
    {
      "cell_type": "code",
      "source": [
        "for column in data.columns:\n",
        "    if data[column].dtype == 'object':\n",
        "        le = LabelEncoder()\n",
        "        data[column] = le.fit_transform(data[column])\n"
      ],
      "metadata": {
        "id": "D3qKiVT0cVwe"
      },
      "execution_count": 103,
      "outputs": []
    },
    {
      "cell_type": "code",
      "source": [
        "X = data.iloc[:, :-1].values\n",
        "y = data.iloc[:, -1].values"
      ],
      "metadata": {
        "id": "cRXBTkc-cXO0"
      },
      "execution_count": 104,
      "outputs": []
    },
    {
      "cell_type": "code",
      "source": [
        "scaler = StandardScaler()\n",
        "X = scaler.fit_transform(X)"
      ],
      "metadata": {
        "id": "TzG1hKzERcVl"
      },
      "execution_count": 105,
      "outputs": []
    },
    {
      "cell_type": "code",
      "source": [
        "X_train, X_test, y_train, y_test = train_test_split(X, y, test_size=0.3, random_state=42)\n"
      ],
      "metadata": {
        "id": "p4Ou4bEOYzJw"
      },
      "execution_count": 106,
      "outputs": []
    },
    {
      "cell_type": "code",
      "source": [
        "print(f\"Features: X_train: {X_train.shape}, X_test: {X_test.shape}\")\n",
        "print(f\"Labels: y_train: {y_train.shape}, y_test: {y_test.shape}\")\n"
      ],
      "metadata": {
        "colab": {
          "base_uri": "https://localhost:8080/"
        },
        "id": "OWIgaMtWQWiI",
        "outputId": "eff6f835-8cd9-4362-afbd-61c775888bbb"
      },
      "execution_count": 107,
      "outputs": [
        {
          "output_type": "stream",
          "name": "stdout",
          "text": [
            "Features: X_train: (537, 8), X_test: (231, 8)\n",
            "Labels: y_train: (537,), y_test: (231,)\n"
          ]
        }
      ]
    },
    {
      "cell_type": "markdown",
      "source": [
        "#1.Naive Bayes"
      ],
      "metadata": {
        "id": "PZ56b_2uaeUc"
      }
    },
    {
      "cell_type": "markdown",
      "source": [
        "Naive Bayes algoritması genellikle hiperparametre optimizasyonuna ihtiyaç duymaz çünkü bu algoritma, basit ve varsayımsal bir modeldir. Naive Bayes, her bir özellik için sınıf koşullu bağımsızlık varsayımına dayanır ve bu nedenle modelin ayarlanabilir birçok parametresi yoktur. Bu durum, Naive Bayes'in eğitim ve tahmin işlemlerinin hızlı ve verimli olmasını sağlar."
      ],
      "metadata": {
        "id": "bxcQtQhzQpOG"
      }
    },
    {
      "cell_type": "code",
      "source": [
        "nb = GaussianNB()\n",
        "nb.fit(X_train, y_train)\n"
      ],
      "metadata": {
        "colab": {
          "base_uri": "https://localhost:8080/",
          "height": 74
        },
        "id": "I7slz34TaWnw",
        "outputId": "880d272b-3cb2-470f-c833-87029c9d7b8d"
      },
      "execution_count": 108,
      "outputs": [
        {
          "output_type": "execute_result",
          "data": {
            "text/plain": [
              "GaussianNB()"
            ],
            "text/html": [
              "<style>#sk-container-id-8 {color: black;background-color: white;}#sk-container-id-8 pre{padding: 0;}#sk-container-id-8 div.sk-toggleable {background-color: white;}#sk-container-id-8 label.sk-toggleable__label {cursor: pointer;display: block;width: 100%;margin-bottom: 0;padding: 0.3em;box-sizing: border-box;text-align: center;}#sk-container-id-8 label.sk-toggleable__label-arrow:before {content: \"▸\";float: left;margin-right: 0.25em;color: #696969;}#sk-container-id-8 label.sk-toggleable__label-arrow:hover:before {color: black;}#sk-container-id-8 div.sk-estimator:hover label.sk-toggleable__label-arrow:before {color: black;}#sk-container-id-8 div.sk-toggleable__content {max-height: 0;max-width: 0;overflow: hidden;text-align: left;background-color: #f0f8ff;}#sk-container-id-8 div.sk-toggleable__content pre {margin: 0.2em;color: black;border-radius: 0.25em;background-color: #f0f8ff;}#sk-container-id-8 input.sk-toggleable__control:checked~div.sk-toggleable__content {max-height: 200px;max-width: 100%;overflow: auto;}#sk-container-id-8 input.sk-toggleable__control:checked~label.sk-toggleable__label-arrow:before {content: \"▾\";}#sk-container-id-8 div.sk-estimator input.sk-toggleable__control:checked~label.sk-toggleable__label {background-color: #d4ebff;}#sk-container-id-8 div.sk-label input.sk-toggleable__control:checked~label.sk-toggleable__label {background-color: #d4ebff;}#sk-container-id-8 input.sk-hidden--visually {border: 0;clip: rect(1px 1px 1px 1px);clip: rect(1px, 1px, 1px, 1px);height: 1px;margin: -1px;overflow: hidden;padding: 0;position: absolute;width: 1px;}#sk-container-id-8 div.sk-estimator {font-family: monospace;background-color: #f0f8ff;border: 1px dotted black;border-radius: 0.25em;box-sizing: border-box;margin-bottom: 0.5em;}#sk-container-id-8 div.sk-estimator:hover {background-color: #d4ebff;}#sk-container-id-8 div.sk-parallel-item::after {content: \"\";width: 100%;border-bottom: 1px solid gray;flex-grow: 1;}#sk-container-id-8 div.sk-label:hover label.sk-toggleable__label {background-color: #d4ebff;}#sk-container-id-8 div.sk-serial::before {content: \"\";position: absolute;border-left: 1px solid gray;box-sizing: border-box;top: 0;bottom: 0;left: 50%;z-index: 0;}#sk-container-id-8 div.sk-serial {display: flex;flex-direction: column;align-items: center;background-color: white;padding-right: 0.2em;padding-left: 0.2em;position: relative;}#sk-container-id-8 div.sk-item {position: relative;z-index: 1;}#sk-container-id-8 div.sk-parallel {display: flex;align-items: stretch;justify-content: center;background-color: white;position: relative;}#sk-container-id-8 div.sk-item::before, #sk-container-id-8 div.sk-parallel-item::before {content: \"\";position: absolute;border-left: 1px solid gray;box-sizing: border-box;top: 0;bottom: 0;left: 50%;z-index: -1;}#sk-container-id-8 div.sk-parallel-item {display: flex;flex-direction: column;z-index: 1;position: relative;background-color: white;}#sk-container-id-8 div.sk-parallel-item:first-child::after {align-self: flex-end;width: 50%;}#sk-container-id-8 div.sk-parallel-item:last-child::after {align-self: flex-start;width: 50%;}#sk-container-id-8 div.sk-parallel-item:only-child::after {width: 0;}#sk-container-id-8 div.sk-dashed-wrapped {border: 1px dashed gray;margin: 0 0.4em 0.5em 0.4em;box-sizing: border-box;padding-bottom: 0.4em;background-color: white;}#sk-container-id-8 div.sk-label label {font-family: monospace;font-weight: bold;display: inline-block;line-height: 1.2em;}#sk-container-id-8 div.sk-label-container {text-align: center;}#sk-container-id-8 div.sk-container {/* jupyter's `normalize.less` sets `[hidden] { display: none; }` but bootstrap.min.css set `[hidden] { display: none !important; }` so we also need the `!important` here to be able to override the default hidden behavior on the sphinx rendered scikit-learn.org. See: https://github.com/scikit-learn/scikit-learn/issues/21755 */display: inline-block !important;position: relative;}#sk-container-id-8 div.sk-text-repr-fallback {display: none;}</style><div id=\"sk-container-id-8\" class=\"sk-top-container\"><div class=\"sk-text-repr-fallback\"><pre>GaussianNB()</pre><b>In a Jupyter environment, please rerun this cell to show the HTML representation or trust the notebook. <br />On GitHub, the HTML representation is unable to render, please try loading this page with nbviewer.org.</b></div><div class=\"sk-container\" hidden><div class=\"sk-item\"><div class=\"sk-estimator sk-toggleable\"><input class=\"sk-toggleable__control sk-hidden--visually\" id=\"sk-estimator-id-8\" type=\"checkbox\" checked><label for=\"sk-estimator-id-8\" class=\"sk-toggleable__label sk-toggleable__label-arrow\">GaussianNB</label><div class=\"sk-toggleable__content\"><pre>GaussianNB()</pre></div></div></div></div></div>"
            ]
          },
          "metadata": {},
          "execution_count": 108
        }
      ]
    },
    {
      "cell_type": "code",
      "source": [
        "y_pred_nb = nb.predict(X_test)"
      ],
      "metadata": {
        "id": "UAG_vScJdNwf"
      },
      "execution_count": 109,
      "outputs": []
    },
    {
      "cell_type": "code",
      "source": [
        "print(\"Naive Bayes Model\")\n",
        "print(\"Confusion Matrix:\")\n",
        "print(confusion_matrix(y_test, y_pred_nb))\n",
        "print(\"Classification Report:\")\n",
        "print(classification_report(y_test, y_pred_nb))\n",
        "print(f\"Accuracy: {accuracy_score(y_test, y_pred_nb)}\")"
      ],
      "metadata": {
        "colab": {
          "base_uri": "https://localhost:8080/"
        },
        "id": "KaMU5FgQdTDS",
        "outputId": "99c68a33-b08f-4348-de11-60ca1a790cc6"
      },
      "execution_count": 43,
      "outputs": [
        {
          "output_type": "stream",
          "name": "stdout",
          "text": [
            "Naive Bayes Model\n",
            "Confusion Matrix:\n",
            "[[119  32]\n",
            " [ 27  53]]\n",
            "Classification Report:\n",
            "              precision    recall  f1-score   support\n",
            "\n",
            "           0       0.82      0.79      0.80       151\n",
            "           1       0.62      0.66      0.64        80\n",
            "\n",
            "    accuracy                           0.74       231\n",
            "   macro avg       0.72      0.73      0.72       231\n",
            "weighted avg       0.75      0.74      0.75       231\n",
            "\n",
            "Accuracy: 0.7445887445887446\n"
          ]
        }
      ]
    },
    {
      "cell_type": "markdown",
      "source": [
        "**precision (kesinlik):**\n",
        "Sınıf 0: **0.82**\n",
        "Sınıf 1: **0.62**\n",
        "Kesinlik (precision) Sınıf 0 için Sınıf 1'e göre daha yüksektir, bu da modelin negatif örnekleri daha iyi tahmin ettiğini gösterir.\n",
        "\n",
        "**recall (duyarlılık):**\n",
        "Sınıf 0: **0.79**\n",
        "Sınıf 1: **0.66**\n",
        "recall (duyarlılık) Sınıf 0 için Sınıf 1'e göre daha iyidir, bu da modelin negatif örnekleri daha iyi tanımladığını gösterir.\n",
        "\n",
        "**f1-score:**\n",
        "Sınıf 0: **0.80**\n",
        "Sınıf 1: **0.64**\n",
        "Kesinlik ve duyarlılığın bir kombinasyonu olan f1-score, Sınıf 0 için Sınıf 1'e göre daha yüksektir, bu da modelin negatif örnekler üzerinde daha dengeli bir performans gösterdiğini gösterir.\n",
        "\n",
        "**accuracy (doğruluk): 0.74**\n",
        "Modelin genel doğruluğu 0.74 (74%) olup, modelin örneklerin **%74**'ünü doğru bir şekilde sınıflandırdığını gösterir."
      ],
      "metadata": {
        "id": "AO8gIgQBmTuE"
      }
    },
    {
      "cell_type": "code",
      "source": [
        "# Extract metrics from confusion matrix\n",
        "cm_nb = confusion_matrix(y_test, y_pred_nb)\n",
        "TN_nb, FP_nb, FN_nb, TP_nb = cm_nb.ravel()\n",
        "sensitivity_nb = TP_nb / (TP_nb + FN_nb)\n",
        "specificity_nb = TN_nb / (TN_nb + FP_nb)\n",
        "\n",
        "print(f\"Sensitivity (Recall): {sensitivity_nb}\")\n",
        "print(f\"Specificity: {specificity_nb}\")"
      ],
      "metadata": {
        "colab": {
          "base_uri": "https://localhost:8080/"
        },
        "id": "FWHjo8Bkcd9e",
        "outputId": "1c86a755-5b89-40f7-dcab-f60f78007527"
      },
      "execution_count": 110,
      "outputs": [
        {
          "output_type": "stream",
          "name": "stdout",
          "text": [
            "Sensitivity (Recall): 0.6625\n",
            "Specificity: 0.7880794701986755\n"
          ]
        }
      ]
    },
    {
      "cell_type": "code",
      "source": [
        "# ROC Curve\n",
        "y_pred_prob_nb = nb.predict_proba(X_test)[:, 1]\n",
        "fpr_nb, tpr_nb, _ = roc_curve(y_test, y_pred_prob_nb)\n",
        "auc_nb = roc_auc_score(y_test, y_pred_prob_nb)\n"
      ],
      "metadata": {
        "id": "yFVMWY7ejFp2"
      },
      "execution_count": 111,
      "outputs": []
    },
    {
      "cell_type": "code",
      "source": [
        "plt.figure()\n",
        "plt.plot(fpr_nb, tpr_nb, color='darkorange', lw=2, label=f'Naive Bayes ROC curve (AUC = {auc_nb:.2f})')\n",
        "plt.plot([0, 1], [0, 1], color='navy', lw=2, linestyle='--')\n",
        "plt.xlabel('False Positive Rate')\n",
        "plt.ylabel('True Positive Rate')\n",
        "plt.title('Naive Bayes ROC Curve')\n",
        "plt.legend(loc=\"lower right\")\n",
        "plt.show()"
      ],
      "metadata": {
        "colab": {
          "base_uri": "https://localhost:8080/",
          "height": 472
        },
        "id": "3vyacnYwjI1w",
        "outputId": "59eb5dc5-8c15-4be5-cdc9-9569f5ade5b6"
      },
      "execution_count": 112,
      "outputs": [
        {
          "output_type": "display_data",
          "data": {
            "text/plain": [
              "<Figure size 640x480 with 1 Axes>"
            ],
            "image/png": "[encoded data removed]"
          },
          "metadata": {}
        }
      ]
    },
    {
      "cell_type": "markdown",
      "source": [
        "Naive Bayes modelinin AUC skoru **0.79**'dur. Bu, modelin sınıflandırma performansının nispeten iyi olduğunu gösterir. Naive Bayes modeli bu veri setinde kabul edilebilir bir performans sergilemiş ve yüksek AUC skoru göstermiştir. Bu model, pozitif örneklerin tanımlanmasında (yüksek recall) iyi performans gösterir."
      ],
      "metadata": {
        "id": "wKiCLltiqfmh"
      }
    },
    {
      "cell_type": "code",
      "source": [
        "# Mean Squared Error\n",
        "mse_nb = mean_squared_error(y_test, y_pred_nb)\n",
        "print(f\"Naive Bayes Mean Squared Error: {mse_nb}\")"
      ],
      "metadata": {
        "colab": {
          "base_uri": "https://localhost:8080/"
        },
        "id": "z3CplxrgDq90",
        "outputId": "e5c1aed3-1fd6-446b-d6a6-0ae982ebf5bb"
      },
      "execution_count": 113,
      "outputs": [
        {
          "output_type": "stream",
          "name": "stdout",
          "text": [
            "Naive Bayes Mean Squared Error: 0.2554112554112554\n"
          ]
        }
      ]
    },
    {
      "cell_type": "markdown",
      "source": [
        "Ortalama Karesel Hatası (Mean Squared Error veya MSE), tahmin modellerindeki hatayı ölçmek için kullanılan bir kriterdir. MSE değeri, modelin test veri setindeki gerçek değerlerden ne kadar uzak olduğunu ortalama olarak gösterir. Bu durumda, MSE değeri 0.2554112554112554 olarak hesaplanmıştır.\n",
        "\n",
        "Bu değer, Naive Bayes modelinin ortalama olarak 0.255 kare hatasıyla tahmin yaptığını gösterir. Bu değer ne kadar küçük olursa, modelin performansı o kadar iyi demektir."
      ],
      "metadata": {
        "id": "tQotWj-aFZDj"
      }
    },
    {
      "cell_type": "markdown",
      "source": [
        "#2.KNN"
      ],
      "metadata": {
        "id": "oHjxUFyZdpRL"
      }
    },
    {
      "cell_type": "code",
      "source": [
        "def objective_knn(trial):\n",
        "    n_neighbors = trial.suggest_int('n_neighbors', 1, 30)\n",
        "    knn = KNeighborsClassifier(n_neighbors=n_neighbors)\n",
        "    score = cross_val_score(knn, X_train, y_train, n_jobs=-1, cv=3)\n",
        "    accuracy = score.mean()\n",
        "    return accuracy"
      ],
      "metadata": {
        "id": "ADqAcO5GG0Q5"
      },
      "execution_count": 114,
      "outputs": []
    },
    {
      "cell_type": "code",
      "source": [
        "study_knn = optuna.create_study(direction='maximize')\n",
        "study_knn.optimize(objective_knn, n_trials=100)"
      ],
      "metadata": {
        "colab": {
          "base_uri": "https://localhost:8080/"
        },
        "id": "TN3phobmG63o",
        "outputId": "0b82d5c9-4878-4264-9812-2878e28a6390"
      },
      "execution_count": 115,
      "outputs": [
        {
          "output_type": "stream",
          "name": "stderr",
          "text": [
            "[I 2024-06-10 10:07:02,019] A new study created in memory with name: no-name-8ce16420-30f0-4d4a-8888-448554bff352\n",
            "[I 2024-06-10 10:07:03,237] Trial 0 finished with value: 0.7467411545623835 and parameters: {'n_neighbors': 21}. Best is trial 0 with value: 0.7467411545623835.\n",
            "[I 2024-06-10 10:07:03,290] Trial 1 finished with value: 0.7560521415270017 and parameters: {'n_neighbors': 14}. Best is trial 1 with value: 0.7560521415270017.\n",
            "[I 2024-06-10 10:07:03,340] Trial 2 finished with value: 0.7430167597765363 and parameters: {'n_neighbors': 8}. Best is trial 1 with value: 0.7560521415270017.\n",
            "[I 2024-06-10 10:07:03,391] Trial 3 finished with value: 0.7392923649906891 and parameters: {'n_neighbors': 22}. Best is trial 1 with value: 0.7560521415270017.\n",
            "[I 2024-06-10 10:07:03,441] Trial 4 finished with value: 0.7392923649906891 and parameters: {'n_neighbors': 24}. Best is trial 1 with value: 0.7560521415270017.\n",
            "[I 2024-06-10 10:07:03,491] Trial 5 finished with value: 0.7039106145251397 and parameters: {'n_neighbors': 1}. Best is trial 1 with value: 0.7560521415270017.\n",
            "[I 2024-06-10 10:07:03,542] Trial 6 finished with value: 0.7467411545623835 and parameters: {'n_neighbors': 21}. Best is trial 1 with value: 0.7560521415270017.\n",
            "[I 2024-06-10 10:07:03,589] Trial 7 finished with value: 0.7579143389199254 and parameters: {'n_neighbors': 18}. Best is trial 7 with value: 0.7579143389199254.\n",
            "[I 2024-06-10 10:07:03,637] Trial 8 finished with value: 0.7430167597765364 and parameters: {'n_neighbors': 13}. Best is trial 7 with value: 0.7579143389199254.\n",
            "[I 2024-06-10 10:07:03,692] Trial 9 finished with value: 0.7486033519553073 and parameters: {'n_neighbors': 19}. Best is trial 7 with value: 0.7579143389199254.\n",
            "[I 2024-06-10 10:07:03,758] Trial 10 finished with value: 0.7392923649906891 and parameters: {'n_neighbors': 29}. Best is trial 7 with value: 0.7579143389199254.\n",
            "[I 2024-06-10 10:07:03,814] Trial 11 finished with value: 0.7430167597765364 and parameters: {'n_neighbors': 13}. Best is trial 7 with value: 0.7579143389199254.\n",
            "[I 2024-06-10 10:07:03,870] Trial 12 finished with value: 0.7430167597765363 and parameters: {'n_neighbors': 8}. Best is trial 7 with value: 0.7579143389199254.\n",
            "[I 2024-06-10 10:07:03,926] Trial 13 finished with value: 0.7597765363128492 and parameters: {'n_neighbors': 17}. Best is trial 13 with value: 0.7597765363128492.\n",
            "[I 2024-06-10 10:07:03,980] Trial 14 finished with value: 0.7597765363128492 and parameters: {'n_neighbors': 17}. Best is trial 13 with value: 0.7597765363128492.\n",
            "[I 2024-06-10 10:07:04,039] Trial 15 finished with value: 0.7374301675977654 and parameters: {'n_neighbors': 26}. Best is trial 13 with value: 0.7597765363128492.\n",
            "[I 2024-06-10 10:07:04,101] Trial 16 finished with value: 0.7411545623836128 and parameters: {'n_neighbors': 9}. Best is trial 13 with value: 0.7597765363128492.\n",
            "[I 2024-06-10 10:07:04,159] Trial 17 finished with value: 0.750465549348231 and parameters: {'n_neighbors': 16}. Best is trial 13 with value: 0.7597765363128492.\n",
            "[I 2024-06-10 10:07:04,215] Trial 18 finished with value: 0.7430167597765364 and parameters: {'n_neighbors': 3}. Best is trial 13 with value: 0.7597765363128492.\n",
            "[I 2024-06-10 10:07:04,272] Trial 19 finished with value: 0.7579143389199254 and parameters: {'n_neighbors': 10}. Best is trial 13 with value: 0.7597765363128492.\n",
            "[I 2024-06-10 10:07:04,339] Trial 20 finished with value: 0.7597765363128492 and parameters: {'n_neighbors': 17}. Best is trial 13 with value: 0.7597765363128492.\n",
            "[I 2024-06-10 10:07:04,395] Trial 21 finished with value: 0.750465549348231 and parameters: {'n_neighbors': 16}. Best is trial 13 with value: 0.7597765363128492.\n",
            "[I 2024-06-10 10:07:04,454] Trial 22 finished with value: 0.7579143389199254 and parameters: {'n_neighbors': 18}. Best is trial 13 with value: 0.7597765363128492.\n",
            "[I 2024-06-10 10:07:04,513] Trial 23 finished with value: 0.750465549348231 and parameters: {'n_neighbors': 11}. Best is trial 13 with value: 0.7597765363128492.\n",
            "[I 2024-06-10 10:07:04,573] Trial 24 finished with value: 0.7392923649906891 and parameters: {'n_neighbors': 24}. Best is trial 13 with value: 0.7597765363128492.\n",
            "[I 2024-06-10 10:07:04,628] Trial 25 finished with value: 0.750465549348231 and parameters: {'n_neighbors': 16}. Best is trial 13 with value: 0.7597765363128492.\n",
            "[I 2024-06-10 10:07:04,690] Trial 26 finished with value: 0.7616387337057727 and parameters: {'n_neighbors': 6}. Best is trial 26 with value: 0.7616387337057727.\n",
            "[I 2024-06-10 10:07:04,746] Trial 27 finished with value: 0.7411545623836125 and parameters: {'n_neighbors': 4}. Best is trial 26 with value: 0.7616387337057727.\n",
            "[I 2024-06-10 10:07:04,808] Trial 28 finished with value: 0.7579143389199254 and parameters: {'n_neighbors': 5}. Best is trial 26 with value: 0.7616387337057727.\n",
            "[I 2024-06-10 10:07:04,866] Trial 29 finished with value: 0.7616387337057727 and parameters: {'n_neighbors': 6}. Best is trial 26 with value: 0.7616387337057727.\n",
            "[I 2024-06-10 10:07:04,924] Trial 30 finished with value: 0.7616387337057727 and parameters: {'n_neighbors': 6}. Best is trial 26 with value: 0.7616387337057727.\n",
            "[I 2024-06-10 10:07:04,980] Trial 31 finished with value: 0.756052141527002 and parameters: {'n_neighbors': 7}. Best is trial 26 with value: 0.7616387337057727.\n",
            "[I 2024-06-10 10:07:05,036] Trial 32 finished with value: 0.7616387337057727 and parameters: {'n_neighbors': 6}. Best is trial 26 with value: 0.7616387337057727.\n",
            "[I 2024-06-10 10:07:05,095] Trial 33 finished with value: 0.7616387337057727 and parameters: {'n_neighbors': 6}. Best is trial 26 with value: 0.7616387337057727.\n",
            "[I 2024-06-10 10:07:05,156] Trial 34 finished with value: 0.750465549348231 and parameters: {'n_neighbors': 11}. Best is trial 26 with value: 0.7616387337057727.\n",
            "[I 2024-06-10 10:07:05,212] Trial 35 finished with value: 0.7039106145251397 and parameters: {'n_neighbors': 1}. Best is trial 26 with value: 0.7616387337057727.\n",
            "[I 2024-06-10 10:07:05,269] Trial 36 finished with value: 0.7430167597765364 and parameters: {'n_neighbors': 3}. Best is trial 26 with value: 0.7616387337057727.\n",
            "[I 2024-06-10 10:07:05,326] Trial 37 finished with value: 0.7616387337057727 and parameters: {'n_neighbors': 6}. Best is trial 26 with value: 0.7616387337057727.\n",
            "[I 2024-06-10 10:07:05,382] Trial 38 finished with value: 0.7430167597765364 and parameters: {'n_neighbors': 3}. Best is trial 26 with value: 0.7616387337057727.\n",
            "[I 2024-06-10 10:07:05,444] Trial 39 finished with value: 0.7430167597765363 and parameters: {'n_neighbors': 8}. Best is trial 26 with value: 0.7616387337057727.\n",
            "[I 2024-06-10 10:07:05,501] Trial 40 finished with value: 0.7039106145251397 and parameters: {'n_neighbors': 1}. Best is trial 26 with value: 0.7616387337057727.\n",
            "[I 2024-06-10 10:07:05,554] Trial 41 finished with value: 0.7616387337057727 and parameters: {'n_neighbors': 6}. Best is trial 26 with value: 0.7616387337057727.\n",
            "[I 2024-06-10 10:07:05,613] Trial 42 finished with value: 0.7616387337057727 and parameters: {'n_neighbors': 6}. Best is trial 26 with value: 0.7616387337057727.\n",
            "[I 2024-06-10 10:07:05,674] Trial 43 finished with value: 0.7411545623836125 and parameters: {'n_neighbors': 4}. Best is trial 26 with value: 0.7616387337057727.\n",
            "[I 2024-06-10 10:07:05,742] Trial 44 finished with value: 0.7579143389199254 and parameters: {'n_neighbors': 10}. Best is trial 26 with value: 0.7616387337057727.\n",
            "[I 2024-06-10 10:07:05,802] Trial 45 finished with value: 0.7430167597765364 and parameters: {'n_neighbors': 13}. Best is trial 26 with value: 0.7616387337057727.\n",
            "[I 2024-06-10 10:07:05,869] Trial 46 finished with value: 0.7430167597765363 and parameters: {'n_neighbors': 8}. Best is trial 26 with value: 0.7616387337057727.\n",
            "[I 2024-06-10 10:07:05,925] Trial 47 finished with value: 0.756052141527002 and parameters: {'n_neighbors': 7}. Best is trial 26 with value: 0.7616387337057727.\n",
            "[I 2024-06-10 10:07:05,982] Trial 48 finished with value: 0.7579143389199254 and parameters: {'n_neighbors': 5}. Best is trial 26 with value: 0.7616387337057727.\n",
            "[I 2024-06-10 10:07:06,039] Trial 49 finished with value: 0.750465549348231 and parameters: {'n_neighbors': 11}. Best is trial 26 with value: 0.7616387337057727.\n",
            "[I 2024-06-10 10:07:06,097] Trial 50 finished with value: 0.7337057728119181 and parameters: {'n_neighbors': 2}. Best is trial 26 with value: 0.7616387337057727.\n",
            "[I 2024-06-10 10:07:06,155] Trial 51 finished with value: 0.7616387337057727 and parameters: {'n_neighbors': 6}. Best is trial 26 with value: 0.7616387337057727.\n",
            "[I 2024-06-10 10:07:06,211] Trial 52 finished with value: 0.7579143389199254 and parameters: {'n_neighbors': 5}. Best is trial 26 with value: 0.7616387337057727.\n",
            "[I 2024-06-10 10:07:06,277] Trial 53 finished with value: 0.756052141527002 and parameters: {'n_neighbors': 7}. Best is trial 26 with value: 0.7616387337057727.\n",
            "[I 2024-06-10 10:07:06,335] Trial 54 finished with value: 0.7411545623836128 and parameters: {'n_neighbors': 9}. Best is trial 26 with value: 0.7616387337057727.\n",
            "[I 2024-06-10 10:07:06,391] Trial 55 finished with value: 0.7411545623836125 and parameters: {'n_neighbors': 4}. Best is trial 26 with value: 0.7616387337057727.\n",
            "[I 2024-06-10 10:07:06,448] Trial 56 finished with value: 0.7411545623836128 and parameters: {'n_neighbors': 9}. Best is trial 26 with value: 0.7616387337057727.\n",
            "[I 2024-06-10 10:07:06,503] Trial 57 finished with value: 0.7560521415270017 and parameters: {'n_neighbors': 14}. Best is trial 26 with value: 0.7616387337057727.\n",
            "[I 2024-06-10 10:07:06,558] Trial 58 finished with value: 0.7411545623836128 and parameters: {'n_neighbors': 30}. Best is trial 26 with value: 0.7616387337057727.\n",
            "[I 2024-06-10 10:07:06,618] Trial 59 finished with value: 0.7337057728119181 and parameters: {'n_neighbors': 2}. Best is trial 26 with value: 0.7616387337057727.\n",
            "[I 2024-06-10 10:07:06,674] Trial 60 finished with value: 0.7448789571694601 and parameters: {'n_neighbors': 12}. Best is trial 26 with value: 0.7616387337057727.\n",
            "[I 2024-06-10 10:07:06,735] Trial 61 finished with value: 0.7616387337057727 and parameters: {'n_neighbors': 6}. Best is trial 26 with value: 0.7616387337057727.\n",
            "[I 2024-06-10 10:07:06,796] Trial 62 finished with value: 0.7616387337057727 and parameters: {'n_neighbors': 6}. Best is trial 26 with value: 0.7616387337057727.\n",
            "[I 2024-06-10 10:07:06,852] Trial 63 finished with value: 0.756052141527002 and parameters: {'n_neighbors': 7}. Best is trial 26 with value: 0.7616387337057727.\n",
            "[I 2024-06-10 10:07:06,914] Trial 64 finished with value: 0.7579143389199254 and parameters: {'n_neighbors': 5}. Best is trial 26 with value: 0.7616387337057727.\n",
            "[I 2024-06-10 10:07:06,969] Trial 65 finished with value: 0.7411545623836128 and parameters: {'n_neighbors': 9}. Best is trial 26 with value: 0.7616387337057727.\n",
            "[I 2024-06-10 10:07:07,030] Trial 66 finished with value: 0.7430167597765363 and parameters: {'n_neighbors': 8}. Best is trial 26 with value: 0.7616387337057727.\n",
            "[I 2024-06-10 10:07:07,090] Trial 67 finished with value: 0.7430167597765364 and parameters: {'n_neighbors': 3}. Best is trial 26 with value: 0.7616387337057727.\n",
            "[I 2024-06-10 10:07:07,159] Trial 68 finished with value: 0.7467411545623835 and parameters: {'n_neighbors': 21}. Best is trial 26 with value: 0.7616387337057727.\n",
            "[I 2024-06-10 10:07:07,215] Trial 69 finished with value: 0.7411545623836125 and parameters: {'n_neighbors': 4}. Best is trial 26 with value: 0.7616387337057727.\n",
            "[I 2024-06-10 10:07:07,274] Trial 70 finished with value: 0.7337057728119181 and parameters: {'n_neighbors': 2}. Best is trial 26 with value: 0.7616387337057727.\n",
            "[I 2024-06-10 10:07:07,330] Trial 71 finished with value: 0.7616387337057727 and parameters: {'n_neighbors': 6}. Best is trial 26 with value: 0.7616387337057727.\n",
            "[I 2024-06-10 10:07:07,386] Trial 72 finished with value: 0.7616387337057727 and parameters: {'n_neighbors': 6}. Best is trial 26 with value: 0.7616387337057727.\n",
            "[I 2024-06-10 10:07:07,443] Trial 73 finished with value: 0.7579143389199254 and parameters: {'n_neighbors': 5}. Best is trial 26 with value: 0.7616387337057727.\n",
            "[I 2024-06-10 10:07:07,520] Trial 74 finished with value: 0.7579143389199254 and parameters: {'n_neighbors': 10}. Best is trial 26 with value: 0.7616387337057727.\n",
            "[I 2024-06-10 10:07:07,603] Trial 75 finished with value: 0.756052141527002 and parameters: {'n_neighbors': 7}. Best is trial 26 with value: 0.7616387337057727.\n",
            "[I 2024-06-10 10:07:07,695] Trial 76 finished with value: 0.7430167597765363 and parameters: {'n_neighbors': 8}. Best is trial 26 with value: 0.7616387337057727.\n",
            "[I 2024-06-10 10:07:07,778] Trial 77 finished with value: 0.7411545623836125 and parameters: {'n_neighbors': 4}. Best is trial 26 with value: 0.7616387337057727.\n",
            "[I 2024-06-10 10:07:07,864] Trial 78 finished with value: 0.756052141527002 and parameters: {'n_neighbors': 7}. Best is trial 26 with value: 0.7616387337057727.\n",
            "[I 2024-06-10 10:07:07,960] Trial 79 finished with value: 0.7579143389199254 and parameters: {'n_neighbors': 5}. Best is trial 26 with value: 0.7616387337057727.\n",
            "[I 2024-06-10 10:07:08,058] Trial 80 finished with value: 0.7430167597765364 and parameters: {'n_neighbors': 3}. Best is trial 26 with value: 0.7616387337057727.\n",
            "[I 2024-06-10 10:07:08,145] Trial 81 finished with value: 0.7616387337057727 and parameters: {'n_neighbors': 6}. Best is trial 26 with value: 0.7616387337057727.\n",
            "[I 2024-06-10 10:07:08,231] Trial 82 finished with value: 0.7430167597765363 and parameters: {'n_neighbors': 8}. Best is trial 26 with value: 0.7616387337057727.\n",
            "[I 2024-06-10 10:07:08,320] Trial 83 finished with value: 0.7616387337057727 and parameters: {'n_neighbors': 6}. Best is trial 26 with value: 0.7616387337057727.\n",
            "[I 2024-06-10 10:07:08,412] Trial 84 finished with value: 0.7579143389199254 and parameters: {'n_neighbors': 10}. Best is trial 26 with value: 0.7616387337057727.\n",
            "[I 2024-06-10 10:07:08,503] Trial 85 finished with value: 0.7411545623836125 and parameters: {'n_neighbors': 4}. Best is trial 26 with value: 0.7616387337057727.\n",
            "[I 2024-06-10 10:07:08,578] Trial 86 finished with value: 0.7411545623836128 and parameters: {'n_neighbors': 9}. Best is trial 26 with value: 0.7616387337057727.\n",
            "[I 2024-06-10 10:07:08,667] Trial 87 finished with value: 0.756052141527002 and parameters: {'n_neighbors': 7}. Best is trial 26 with value: 0.7616387337057727.\n",
            "[I 2024-06-10 10:07:08,759] Trial 88 finished with value: 0.7579143389199254 and parameters: {'n_neighbors': 5}. Best is trial 26 with value: 0.7616387337057727.\n",
            "[I 2024-06-10 10:07:08,856] Trial 89 finished with value: 0.7430167597765363 and parameters: {'n_neighbors': 8}. Best is trial 26 with value: 0.7616387337057727.\n",
            "[I 2024-06-10 10:07:08,949] Trial 90 finished with value: 0.7616387337057727 and parameters: {'n_neighbors': 6}. Best is trial 26 with value: 0.7616387337057727.\n",
            "[I 2024-06-10 10:07:09,044] Trial 91 finished with value: 0.7616387337057727 and parameters: {'n_neighbors': 6}. Best is trial 26 with value: 0.7616387337057727.\n",
            "[I 2024-06-10 10:07:09,138] Trial 92 finished with value: 0.7411545623836125 and parameters: {'n_neighbors': 4}. Best is trial 26 with value: 0.7616387337057727.\n",
            "[I 2024-06-10 10:07:09,236] Trial 93 finished with value: 0.7616387337057727 and parameters: {'n_neighbors': 6}. Best is trial 26 with value: 0.7616387337057727.\n",
            "[I 2024-06-10 10:07:09,332] Trial 94 finished with value: 0.756052141527002 and parameters: {'n_neighbors': 7}. Best is trial 26 with value: 0.7616387337057727.\n",
            "[I 2024-06-10 10:07:09,425] Trial 95 finished with value: 0.7579143389199254 and parameters: {'n_neighbors': 5}. Best is trial 26 with value: 0.7616387337057727.\n",
            "[I 2024-06-10 10:07:09,511] Trial 96 finished with value: 0.7430167597765364 and parameters: {'n_neighbors': 3}. Best is trial 26 with value: 0.7616387337057727.\n",
            "[I 2024-06-10 10:07:09,608] Trial 97 finished with value: 0.7337057728119181 and parameters: {'n_neighbors': 2}. Best is trial 26 with value: 0.7616387337057727.\n",
            "[I 2024-06-10 10:07:09,717] Trial 98 finished with value: 0.7411545623836128 and parameters: {'n_neighbors': 9}. Best is trial 26 with value: 0.7616387337057727.\n",
            "[I 2024-06-10 10:07:09,828] Trial 99 finished with value: 0.7579143389199254 and parameters: {'n_neighbors': 5}. Best is trial 26 with value: 0.7616387337057727.\n"
          ]
        }
      ]
    },
    {
      "cell_type": "code",
      "source": [
        "best_knn = study_knn.best_params\n",
        "print(f\"Best parameters for KNN: {best_knn}\")"
      ],
      "metadata": {
        "colab": {
          "base_uri": "https://localhost:8080/"
        },
        "id": "2Cmax5GQduV4",
        "outputId": "fcac6327-e71c-4008-84db-790973d2d2a2"
      },
      "execution_count": 116,
      "outputs": [
        {
          "output_type": "stream",
          "name": "stdout",
          "text": [
            "Best parameters for KNN: {'n_neighbors': 6}\n"
          ]
        }
      ]
    },
    {
      "cell_type": "code",
      "source": [
        "knn = KNeighborsClassifier(**best_knn)\n",
        "knn.fit(X_train, y_train)"
      ],
      "metadata": {
        "colab": {
          "base_uri": "https://localhost:8080/",
          "height": 74
        },
        "id": "onk9HapkVgtq",
        "outputId": "5b5301dc-9de4-49f5-a967-73473349de0d"
      },
      "execution_count": 120,
      "outputs": [
        {
          "output_type": "execute_result",
          "data": {
            "text/plain": [
              "KNeighborsClassifier(n_neighbors=6)"
            ],
            "text/html": [
              "<style>#sk-container-id-10 {color: black;background-color: white;}#sk-container-id-10 pre{padding: 0;}#sk-container-id-10 div.sk-toggleable {background-color: white;}#sk-container-id-10 label.sk-toggleable__label {cursor: pointer;display: block;width: 100%;margin-bottom: 0;padding: 0.3em;box-sizing: border-box;text-align: center;}#sk-container-id-10 label.sk-toggleable__label-arrow:before {content: \"▸\";float: left;margin-right: 0.25em;color: #696969;}#sk-container-id-10 label.sk-toggleable__label-arrow:hover:before {color: black;}#sk-container-id-10 div.sk-estimator:hover label.sk-toggleable__label-arrow:before {color: black;}#sk-container-id-10 div.sk-toggleable__content {max-height: 0;max-width: 0;overflow: hidden;text-align: left;background-color: #f0f8ff;}#sk-container-id-10 div.sk-toggleable__content pre {margin: 0.2em;color: black;border-radius: 0.25em;background-color: #f0f8ff;}#sk-container-id-10 input.sk-toggleable__control:checked~div.sk-toggleable__content {max-height: 200px;max-width: 100%;overflow: auto;}#sk-container-id-10 input.sk-toggleable__control:checked~label.sk-toggleable__label-arrow:before {content: \"▾\";}#sk-container-id-10 div.sk-estimator input.sk-toggleable__control:checked~label.sk-toggleable__label {background-color: #d4ebff;}#sk-container-id-10 div.sk-label input.sk-toggleable__control:checked~label.sk-toggleable__label {background-color: #d4ebff;}#sk-container-id-10 input.sk-hidden--visually {border: 0;clip: rect(1px 1px 1px 1px);clip: rect(1px, 1px, 1px, 1px);height: 1px;margin: -1px;overflow: hidden;padding: 0;position: absolute;width: 1px;}#sk-container-id-10 div.sk-estimator {font-family: monospace;background-color: #f0f8ff;border: 1px dotted black;border-radius: 0.25em;box-sizing: border-box;margin-bottom: 0.5em;}#sk-container-id-10 div.sk-estimator:hover {background-color: #d4ebff;}#sk-container-id-10 div.sk-parallel-item::after {content: \"\";width: 100%;border-bottom: 1px solid gray;flex-grow: 1;}#sk-container-id-10 div.sk-label:hover label.sk-toggleable__label {background-color: #d4ebff;}#sk-container-id-10 div.sk-serial::before {content: \"\";position: absolute;border-left: 1px solid gray;box-sizing: border-box;top: 0;bottom: 0;left: 50%;z-index: 0;}#sk-container-id-10 div.sk-serial {display: flex;flex-direction: column;align-items: center;background-color: white;padding-right: 0.2em;padding-left: 0.2em;position: relative;}#sk-container-id-10 div.sk-item {position: relative;z-index: 1;}#sk-container-id-10 div.sk-parallel {display: flex;align-items: stretch;justify-content: center;background-color: white;position: relative;}#sk-container-id-10 div.sk-item::before, #sk-container-id-10 div.sk-parallel-item::before {content: \"\";position: absolute;border-left: 1px solid gray;box-sizing: border-box;top: 0;bottom: 0;left: 50%;z-index: -1;}#sk-container-id-10 div.sk-parallel-item {display: flex;flex-direction: column;z-index: 1;position: relative;background-color: white;}#sk-container-id-10 div.sk-parallel-item:first-child::after {align-self: flex-end;width: 50%;}#sk-container-id-10 div.sk-parallel-item:last-child::after {align-self: flex-start;width: 50%;}#sk-container-id-10 div.sk-parallel-item:only-child::after {width: 0;}#sk-container-id-10 div.sk-dashed-wrapped {border: 1px dashed gray;margin: 0 0.4em 0.5em 0.4em;box-sizing: border-box;padding-bottom: 0.4em;background-color: white;}#sk-container-id-10 div.sk-label label {font-family: monospace;font-weight: bold;display: inline-block;line-height: 1.2em;}#sk-container-id-10 div.sk-label-container {text-align: center;}#sk-container-id-10 div.sk-container {/* jupyter's `normalize.less` sets `[hidden] { display: none; }` but bootstrap.min.css set `[hidden] { display: none !important; }` so we also need the `!important` here to be able to override the default hidden behavior on the sphinx rendered scikit-learn.org. See: https://github.com/scikit-learn/scikit-learn/issues/21755 */display: inline-block !important;position: relative;}#sk-container-id-10 div.sk-text-repr-fallback {display: none;}</style><div id=\"sk-container-id-10\" class=\"sk-top-container\"><div class=\"sk-text-repr-fallback\"><pre>KNeighborsClassifier(n_neighbors=6)</pre><b>In a Jupyter environment, please rerun this cell to show the HTML representation or trust the notebook. <br />On GitHub, the HTML representation is unable to render, please try loading this page with nbviewer.org.</b></div><div class=\"sk-container\" hidden><div class=\"sk-item\"><div class=\"sk-estimator sk-toggleable\"><input class=\"sk-toggleable__control sk-hidden--visually\" id=\"sk-estimator-id-10\" type=\"checkbox\" checked><label for=\"sk-estimator-id-10\" class=\"sk-toggleable__label sk-toggleable__label-arrow\">KNeighborsClassifier</label><div class=\"sk-toggleable__content\"><pre>KNeighborsClassifier(n_neighbors=6)</pre></div></div></div></div></div>"
            ]
          },
          "metadata": {},
          "execution_count": 120
        }
      ]
    },
    {
      "cell_type": "code",
      "source": [
        "y_pred_knn = knn.predict(X_test)"
      ],
      "metadata": {
        "id": "v_U-aJHnelSz"
      },
      "execution_count": 121,
      "outputs": []
    },
    {
      "cell_type": "code",
      "source": [
        "print(\"K-Nearest Neighbors Model\")\n",
        "print(\"Confusion Matrix:\")\n",
        "print(confusion_matrix(y_test, y_pred_knn))\n",
        "print(\"Classification Report:\")\n",
        "print(classification_report(y_test, y_pred_knn))\n",
        "print(f\"Accuracy: {accuracy_score(y_test, y_pred_knn)}\")\n"
      ],
      "metadata": {
        "colab": {
          "base_uri": "https://localhost:8080/"
        },
        "id": "ZBGTEgb4eqNk",
        "outputId": "b68c3599-c1c8-436a-b5eb-74bb7cccfef6"
      },
      "execution_count": 122,
      "outputs": [
        {
          "output_type": "stream",
          "name": "stdout",
          "text": [
            "K-Nearest Neighbors Model\n",
            "Confusion Matrix:\n",
            "[[127  24]\n",
            " [ 48  32]]\n",
            "Classification Report:\n",
            "              precision    recall  f1-score   support\n",
            "\n",
            "           0       0.73      0.84      0.78       151\n",
            "           1       0.57      0.40      0.47        80\n",
            "\n",
            "    accuracy                           0.69       231\n",
            "   macro avg       0.65      0.62      0.62       231\n",
            "weighted avg       0.67      0.69      0.67       231\n",
            "\n",
            "Accuracy: 0.6883116883116883\n"
          ]
        }
      ]
    },
    {
      "cell_type": "markdown",
      "source": [
        "**Precision:**\n",
        "Sınıf 0: **0.73**\n",
        "Sınıf 1: **0.57**\n",
        "\n",
        "**Recall:**\n",
        "Sınıf 0: **0.84**\n",
        "Sınıf 1: **0.40**\n",
        "\n",
        "**F1-Score:**\n",
        "Sınıf 0: **0.78**\n",
        "Sınıf 1: **0.47**\n",
        "\n",
        "**Accuracy:**Modelin genel doğruluğu (Accuracy) **%0.69** olup, model örneklerin %69'unu doğru bir şekilde sınıflandırdığını gösterir.\n",
        "\n",
        "Model, negatif örnekleri (Sınıf 0) pozitif örneklere (Sınıf 1) göre daha iyi tanımlamaktadır.\n",
        "Sınıf 0 için Precision, Recall ve F1-Score değerleri, Sınıf 1'e göre daha yüksektir. Bu da modelin negatif örnekleri tanımlamada daha başarılı olduğunu göstermektedir.\n",
        "Bu sonuçlar, KNN modelinin çoğunlukla negatif örnekleri doğru bir şekilde tanımladığını, ancak pozitif örnekleri (Sınıf 1) tanımlamada daha düşük bir doğruluğa sahip olduğunu göstermektedir.\n"
      ],
      "metadata": {
        "id": "snZ_GbbfmP1J"
      }
    },
    {
      "cell_type": "code",
      "source": [
        "# Extract metrics from confusion matrix\n",
        "cm_knn = confusion_matrix(y_test, y_pred_knn)\n",
        "TN_knn, FP_knn, FN_knn, TP_knn = cm_knn.ravel()\n",
        "sensitivity_knn = TP_knn / (TP_knn + FN_knn)\n",
        "specificity_knn = TN_knn / (TN_knn + FP_knn)\n",
        "\n",
        "print(f\"Sensitivity (Recall): {sensitivity_knn}\")\n",
        "print(f\"Specificity: {specificity_knn}\")\n"
      ],
      "metadata": {
        "colab": {
          "base_uri": "https://localhost:8080/"
        },
        "id": "wTyJ8oXJjUwc",
        "outputId": "c4cc642a-2fd3-4411-b509-6445ff801535"
      },
      "execution_count": 123,
      "outputs": [
        {
          "output_type": "stream",
          "name": "stdout",
          "text": [
            "Sensitivity (Recall): 0.4\n",
            "Specificity: 0.8410596026490066\n"
          ]
        }
      ]
    },
    {
      "cell_type": "code",
      "source": [
        "# ROC Curve\n",
        "y_pred_prob_knn = knn.predict_proba(X_test)[:, 1]\n",
        "fpr_knn, tpr_knn, _ = roc_curve(y_test, y_pred_prob_knn)\n",
        "auc_knn = roc_auc_score(y_test, y_pred_prob_knn)"
      ],
      "metadata": {
        "id": "AT4B29PgaC3B"
      },
      "execution_count": 49,
      "outputs": []
    },
    {
      "cell_type": "code",
      "source": [
        "plt.figure()\n",
        "plt.plot(fpr_knn, tpr_knn, color='darkorange', lw=2, label=f'KNN ROC curve (AUC = {auc_knn:.2f})')\n",
        "plt.plot([0, 1], [0, 1], color='navy', lw=2, linestyle='--')\n",
        "plt.xlabel('False Positive Rate')\n",
        "plt.ylabel('True Positive Rate')\n",
        "plt.title('KNN ROC Curve')\n",
        "plt.legend(loc=\"lower right\")\n",
        "plt.show()"
      ],
      "metadata": {
        "colab": {
          "base_uri": "https://localhost:8080/",
          "height": 472
        },
        "id": "mbscPmRMjYav",
        "outputId": "00ff74e0-d969-4514-c8f3-9f192295abae"
      },
      "execution_count": 50,
      "outputs": [
        {
          "output_type": "display_data",
          "data": {
            "text/plain": [
              "<Figure size 640x480 with 1 Axes>"
            ],
            "image/png": "[encoded data removed]"
          },
          "metadata": {}
        }
      ]
    },
    {
      "cell_type": "markdown",
      "source": [
        "Burada, AUC değeri **0.74** olan KNN modeli, nispeten iyi bir performansa sahip olduğunu göstermektedir. Bu değer, modelin pozitif ve negatif sınıfları ayırmada rastgele bir modelden daha iyi olduğunu, ancak hala iyileştirme için yer olduğunu göstermektedir.\n",
        "\n"
      ],
      "metadata": {
        "id": "it6nD5L6s69m"
      }
    },
    {
      "cell_type": "code",
      "source": [
        "mse_knn = mean_squared_error(y_test, y_pred_knn)\n",
        "print(f\"KNN Mean Squared Error: {mse_knn}\")"
      ],
      "metadata": {
        "colab": {
          "base_uri": "https://localhost:8080/"
        },
        "id": "m3c8VmwrGpjR",
        "outputId": "aa4ebb2e-ee6c-48b9-fe38-00d18d0939a5"
      },
      "execution_count": 124,
      "outputs": [
        {
          "output_type": "stream",
          "name": "stdout",
          "text": [
            "KNN Mean Squared Error: 0.3116883116883117\n"
          ]
        }
      ]
    },
    {
      "cell_type": "markdown",
      "source": [
        "MSE değeri 0.3116883116883117'tir. Bu değer, K-Nearest Neighbors modeli tarafından tahmin edilen değerler ile gerçek değerler arasındaki farkların karelerinin ortalamasını gösterir. MSE değeri ne kadar düşükse, model o kadar doğrudur ve tahmin hatası o kadar azdır.\n",
        "\n",
        "\n"
      ],
      "metadata": {
        "id": "JK0Wd6WLLL6H"
      }
    },
    {
      "cell_type": "markdown",
      "source": [
        "#3.Multi-Layer Perceptron (MLP)\n"
      ],
      "metadata": {
        "id": "9kq_WboHfXh_"
      }
    },
    {
      "cell_type": "code",
      "source": [
        "def objective_mlp(trial):\n",
        "    hidden_layer_sizes = trial.suggest_categorical('hidden_layer_sizes', [(50,), (100,), (150,)])\n",
        "    alpha = trial.suggest_float('alpha', 1e-5, 1e-1, log=True)\n",
        "    learning_rate_init = trial.suggest_float('learning_rate_init', 1e-4, 1e-1, log=True)\n",
        "    mlp = MLPClassifier(hidden_layer_sizes=hidden_layer_sizes, alpha=alpha, learning_rate_init=learning_rate_init, max_iter=300, random_state=42)\n",
        "    score = cross_val_score(mlp, X_train, y_train, n_jobs=-1, cv=3)\n",
        "    accuracy = score.mean()\n",
        "    return accuracy"
      ],
      "metadata": {
        "id": "twfp8X0Bei5x"
      },
      "execution_count": 52,
      "outputs": []
    },
    {
      "cell_type": "code",
      "source": [
        "study_mlp = optuna.create_study(direction='maximize')\n",
        "study_mlp.optimize(objective_mlp, n_trials=100)\n"
      ],
      "metadata": {
        "colab": {
          "base_uri": "https://localhost:8080/"
        },
        "id": "3qIrO_B2eiy-",
        "outputId": "ee0a25e8-f0ca-422f-c07a-347b16678fc3"
      },
      "execution_count": 125,
      "outputs": [
        {
          "output_type": "stream",
          "name": "stderr",
          "text": [
            "[I 2024-06-10 10:29:42,131] A new study created in memory with name: no-name-f9651486-d1cb-4298-b574-b63ee35e25a8\n",
            "/usr/local/lib/python3.10/dist-packages/optuna/distributions.py:524: UserWarning: Choices for a categorical distribution should be a tuple of None, bool, int, float and str for persistent storage but contains (50,) which is of type tuple.\n",
            "  warnings.warn(message)\n",
            "/usr/local/lib/python3.10/dist-packages/optuna/distributions.py:524: UserWarning: Choices for a categorical distribution should be a tuple of None, bool, int, float and str for persistent storage but contains (100,) which is of type tuple.\n",
            "  warnings.warn(message)\n",
            "/usr/local/lib/python3.10/dist-packages/optuna/distributions.py:524: UserWarning: Choices for a categorical distribution should be a tuple of None, bool, int, float and str for persistent storage but contains (150,) which is of type tuple.\n",
            "  warnings.warn(message)\n",
            "[I 2024-06-10 10:29:46,093] Trial 0 finished with value: 0.7802607076350093 and parameters: {'hidden_layer_sizes': (150,), 'alpha': 0.0016384640456440457, 'learning_rate_init': 0.0001526568512575905}. Best is trial 0 with value: 0.7802607076350093.\n",
            "/usr/local/lib/python3.10/dist-packages/optuna/distributions.py:524: UserWarning: Choices for a categorical distribution should be a tuple of None, bool, int, float and str for persistent storage but contains (50,) which is of type tuple.\n",
            "  warnings.warn(message)\n",
            "/usr/local/lib/python3.10/dist-packages/optuna/distributions.py:524: UserWarning: Choices for a categorical distribution should be a tuple of None, bool, int, float and str for persistent storage but contains (100,) which is of type tuple.\n",
            "  warnings.warn(message)\n",
            "/usr/local/lib/python3.10/dist-packages/optuna/distributions.py:524: UserWarning: Choices for a categorical distribution should be a tuple of None, bool, int, float and str for persistent storage but contains (150,) which is of type tuple.\n",
            "  warnings.warn(message)\n",
            "[I 2024-06-10 10:29:47,126] Trial 1 finished with value: 0.7690875232774674 and parameters: {'hidden_layer_sizes': (50,), 'alpha': 0.0024663405815091802, 'learning_rate_init': 0.0003954611428633439}. Best is trial 0 with value: 0.7802607076350093.\n",
            "/usr/local/lib/python3.10/dist-packages/optuna/distributions.py:524: UserWarning: Choices for a categorical distribution should be a tuple of None, bool, int, float and str for persistent storage but contains (50,) which is of type tuple.\n",
            "  warnings.warn(message)\n",
            "/usr/local/lib/python3.10/dist-packages/optuna/distributions.py:524: UserWarning: Choices for a categorical distribution should be a tuple of None, bool, int, float and str for persistent storage but contains (100,) which is of type tuple.\n",
            "  warnings.warn(message)\n",
            "/usr/local/lib/python3.10/dist-packages/optuna/distributions.py:524: UserWarning: Choices for a categorical distribution should be a tuple of None, bool, int, float and str for persistent storage but contains (150,) which is of type tuple.\n",
            "  warnings.warn(message)\n",
            "[I 2024-06-10 10:29:47,904] Trial 2 finished with value: 0.7523277467411545 and parameters: {'hidden_layer_sizes': (50,), 'alpha': 0.0009746390079377311, 'learning_rate_init': 0.0029834682555943334}. Best is trial 0 with value: 0.7802607076350093.\n",
            "/usr/local/lib/python3.10/dist-packages/optuna/distributions.py:524: UserWarning: Choices for a categorical distribution should be a tuple of None, bool, int, float and str for persistent storage but contains (50,) which is of type tuple.\n",
            "  warnings.warn(message)\n",
            "/usr/local/lib/python3.10/dist-packages/optuna/distributions.py:524: UserWarning: Choices for a categorical distribution should be a tuple of None, bool, int, float and str for persistent storage but contains (100,) which is of type tuple.\n",
            "  warnings.warn(message)\n",
            "/usr/local/lib/python3.10/dist-packages/optuna/distributions.py:524: UserWarning: Choices for a categorical distribution should be a tuple of None, bool, int, float and str for persistent storage but contains (150,) which is of type tuple.\n",
            "  warnings.warn(message)\n",
            "[I 2024-06-10 10:29:49,196] Trial 3 finished with value: 0.7430167597765363 and parameters: {'hidden_layer_sizes': (150,), 'alpha': 0.0007859228238467071, 'learning_rate_init': 0.005643100251237905}. Best is trial 0 with value: 0.7802607076350093.\n",
            "/usr/local/lib/python3.10/dist-packages/optuna/distributions.py:524: UserWarning: Choices for a categorical distribution should be a tuple of None, bool, int, float and str for persistent storage but contains (50,) which is of type tuple.\n",
            "  warnings.warn(message)\n",
            "/usr/local/lib/python3.10/dist-packages/optuna/distributions.py:524: UserWarning: Choices for a categorical distribution should be a tuple of None, bool, int, float and str for persistent storage but contains (100,) which is of type tuple.\n",
            "  warnings.warn(message)\n",
            "/usr/local/lib/python3.10/dist-packages/optuna/distributions.py:524: UserWarning: Choices for a categorical distribution should be a tuple of None, bool, int, float and str for persistent storage but contains (150,) which is of type tuple.\n",
            "  warnings.warn(message)\n",
            "[I 2024-06-10 10:29:49,486] Trial 4 finished with value: 0.7355679702048418 and parameters: {'hidden_layer_sizes': (50,), 'alpha': 0.001141113466997153, 'learning_rate_init': 0.07950480012739261}. Best is trial 0 with value: 0.7802607076350093.\n",
            "/usr/local/lib/python3.10/dist-packages/optuna/distributions.py:524: UserWarning: Choices for a categorical distribution should be a tuple of None, bool, int, float and str for persistent storage but contains (50,) which is of type tuple.\n",
            "  warnings.warn(message)\n",
            "/usr/local/lib/python3.10/dist-packages/optuna/distributions.py:524: UserWarning: Choices for a categorical distribution should be a tuple of None, bool, int, float and str for persistent storage but contains (100,) which is of type tuple.\n",
            "  warnings.warn(message)\n",
            "/usr/local/lib/python3.10/dist-packages/optuna/distributions.py:524: UserWarning: Choices for a categorical distribution should be a tuple of None, bool, int, float and str for persistent storage but contains (150,) which is of type tuple.\n",
            "  warnings.warn(message)\n",
            "[I 2024-06-10 10:29:50,287] Trial 5 finished with value: 0.7579143389199254 and parameters: {'hidden_layer_sizes': (50,), 'alpha': 0.023817059493222492, 'learning_rate_init': 0.001224167348725032}. Best is trial 0 with value: 0.7802607076350093.\n",
            "/usr/local/lib/python3.10/dist-packages/optuna/distributions.py:524: UserWarning: Choices for a categorical distribution should be a tuple of None, bool, int, float and str for persistent storage but contains (50,) which is of type tuple.\n",
            "  warnings.warn(message)\n",
            "/usr/local/lib/python3.10/dist-packages/optuna/distributions.py:524: UserWarning: Choices for a categorical distribution should be a tuple of None, bool, int, float and str for persistent storage but contains (100,) which is of type tuple.\n",
            "  warnings.warn(message)\n",
            "/usr/local/lib/python3.10/dist-packages/optuna/distributions.py:524: UserWarning: Choices for a categorical distribution should be a tuple of None, bool, int, float and str for persistent storage but contains (150,) which is of type tuple.\n",
            "  warnings.warn(message)\n",
            "[I 2024-06-10 10:29:51,067] Trial 6 finished with value: 0.7765363128491621 and parameters: {'hidden_layer_sizes': (50,), 'alpha': 2.460866162327425e-05, 'learning_rate_init': 0.0006885798442688437}. Best is trial 0 with value: 0.7802607076350093.\n",
            "/usr/local/lib/python3.10/dist-packages/optuna/distributions.py:524: UserWarning: Choices for a categorical distribution should be a tuple of None, bool, int, float and str for persistent storage but contains (50,) which is of type tuple.\n",
            "  warnings.warn(message)\n",
            "/usr/local/lib/python3.10/dist-packages/optuna/distributions.py:524: UserWarning: Choices for a categorical distribution should be a tuple of None, bool, int, float and str for persistent storage but contains (100,) which is of type tuple.\n",
            "  warnings.warn(message)\n",
            "/usr/local/lib/python3.10/dist-packages/optuna/distributions.py:524: UserWarning: Choices for a categorical distribution should be a tuple of None, bool, int, float and str for persistent storage but contains (150,) which is of type tuple.\n",
            "  warnings.warn(message)\n",
            "[I 2024-06-10 10:29:52,356] Trial 7 finished with value: 0.7430167597765364 and parameters: {'hidden_layer_sizes': (150,), 'alpha': 0.006684431886083478, 'learning_rate_init': 0.014132326270086273}. Best is trial 0 with value: 0.7802607076350093.\n",
            "/usr/local/lib/python3.10/dist-packages/optuna/distributions.py:524: UserWarning: Choices for a categorical distribution should be a tuple of None, bool, int, float and str for persistent storage but contains (50,) which is of type tuple.\n",
            "  warnings.warn(message)\n",
            "/usr/local/lib/python3.10/dist-packages/optuna/distributions.py:524: UserWarning: Choices for a categorical distribution should be a tuple of None, bool, int, float and str for persistent storage but contains (100,) which is of type tuple.\n",
            "  warnings.warn(message)\n",
            "/usr/local/lib/python3.10/dist-packages/optuna/distributions.py:524: UserWarning: Choices for a categorical distribution should be a tuple of None, bool, int, float and str for persistent storage but contains (150,) which is of type tuple.\n",
            "  warnings.warn(message)\n",
            "[I 2024-06-10 10:29:53,409] Trial 8 finished with value: 0.7728119180633147 and parameters: {'hidden_layer_sizes': (100,), 'alpha': 0.0006465093813229977, 'learning_rate_init': 0.00026507330320058096}. Best is trial 0 with value: 0.7802607076350093.\n",
            "/usr/local/lib/python3.10/dist-packages/optuna/distributions.py:524: UserWarning: Choices for a categorical distribution should be a tuple of None, bool, int, float and str for persistent storage but contains (50,) which is of type tuple.\n",
            "  warnings.warn(message)\n",
            "/usr/local/lib/python3.10/dist-packages/optuna/distributions.py:524: UserWarning: Choices for a categorical distribution should be a tuple of None, bool, int, float and str for persistent storage but contains (100,) which is of type tuple.\n",
            "  warnings.warn(message)\n",
            "/usr/local/lib/python3.10/dist-packages/optuna/distributions.py:524: UserWarning: Choices for a categorical distribution should be a tuple of None, bool, int, float and str for persistent storage but contains (150,) which is of type tuple.\n",
            "  warnings.warn(message)\n",
            "[I 2024-06-10 10:29:54,386] Trial 9 finished with value: 0.7355679702048418 and parameters: {'hidden_layer_sizes': (100,), 'alpha': 0.00040218107225965637, 'learning_rate_init': 0.029883968040878124}. Best is trial 0 with value: 0.7802607076350093.\n",
            "/usr/local/lib/python3.10/dist-packages/optuna/distributions.py:524: UserWarning: Choices for a categorical distribution should be a tuple of None, bool, int, float and str for persistent storage but contains (50,) which is of type tuple.\n",
            "  warnings.warn(message)\n",
            "/usr/local/lib/python3.10/dist-packages/optuna/distributions.py:524: UserWarning: Choices for a categorical distribution should be a tuple of None, bool, int, float and str for persistent storage but contains (100,) which is of type tuple.\n",
            "  warnings.warn(message)\n",
            "/usr/local/lib/python3.10/dist-packages/optuna/distributions.py:524: UserWarning: Choices for a categorical distribution should be a tuple of None, bool, int, float and str for persistent storage but contains (150,) which is of type tuple.\n",
            "  warnings.warn(message)\n",
            "[I 2024-06-10 10:29:55,706] Trial 10 finished with value: 0.7746741154562384 and parameters: {'hidden_layer_sizes': (150,), 'alpha': 7.047599972349602e-05, 'learning_rate_init': 0.00011066052603428505}. Best is trial 0 with value: 0.7802607076350093.\n",
            "/usr/local/lib/python3.10/dist-packages/optuna/distributions.py:524: UserWarning: Choices for a categorical distribution should be a tuple of None, bool, int, float and str for persistent storage but contains (50,) which is of type tuple.\n",
            "  warnings.warn(message)\n",
            "/usr/local/lib/python3.10/dist-packages/optuna/distributions.py:524: UserWarning: Choices for a categorical distribution should be a tuple of None, bool, int, float and str for persistent storage but contains (100,) which is of type tuple.\n",
            "  warnings.warn(message)\n",
            "/usr/local/lib/python3.10/dist-packages/optuna/distributions.py:524: UserWarning: Choices for a categorical distribution should be a tuple of None, bool, int, float and str for persistent storage but contains (150,) which is of type tuple.\n",
            "  warnings.warn(message)\n",
            "[I 2024-06-10 10:29:57,195] Trial 11 finished with value: 0.7821229050279329 and parameters: {'hidden_layer_sizes': (150,), 'alpha': 1.2363758723121956e-05, 'learning_rate_init': 0.000788539686589506}. Best is trial 11 with value: 0.7821229050279329.\n",
            "/usr/local/lib/python3.10/dist-packages/optuna/distributions.py:524: UserWarning: Choices for a categorical distribution should be a tuple of None, bool, int, float and str for persistent storage but contains (50,) which is of type tuple.\n",
            "  warnings.warn(message)\n",
            "/usr/local/lib/python3.10/dist-packages/optuna/distributions.py:524: UserWarning: Choices for a categorical distribution should be a tuple of None, bool, int, float and str for persistent storage but contains (100,) which is of type tuple.\n",
            "  warnings.warn(message)\n",
            "/usr/local/lib/python3.10/dist-packages/optuna/distributions.py:524: UserWarning: Choices for a categorical distribution should be a tuple of None, bool, int, float and str for persistent storage but contains (150,) which is of type tuple.\n",
            "  warnings.warn(message)\n",
            "[I 2024-06-10 10:29:59,259] Trial 12 finished with value: 0.7765363128491621 and parameters: {'hidden_layer_sizes': (150,), 'alpha': 1.0432583262515481e-05, 'learning_rate_init': 0.00010879530208776102}. Best is trial 11 with value: 0.7821229050279329.\n",
            "/usr/local/lib/python3.10/dist-packages/optuna/distributions.py:524: UserWarning: Choices for a categorical distribution should be a tuple of None, bool, int, float and str for persistent storage but contains (50,) which is of type tuple.\n",
            "  warnings.warn(message)\n",
            "/usr/local/lib/python3.10/dist-packages/optuna/distributions.py:524: UserWarning: Choices for a categorical distribution should be a tuple of None, bool, int, float and str for persistent storage but contains (100,) which is of type tuple.\n",
            "  warnings.warn(message)\n",
            "/usr/local/lib/python3.10/dist-packages/optuna/distributions.py:524: UserWarning: Choices for a categorical distribution should be a tuple of None, bool, int, float and str for persistent storage but contains (150,) which is of type tuple.\n",
            "  warnings.warn(message)\n",
            "[I 2024-06-10 10:30:01,388] Trial 13 finished with value: 0.7709497206703911 and parameters: {'hidden_layer_sizes': (150,), 'alpha': 0.00011436144989697449, 'learning_rate_init': 0.0014152422094592858}. Best is trial 11 with value: 0.7821229050279329.\n",
            "/usr/local/lib/python3.10/dist-packages/optuna/distributions.py:524: UserWarning: Choices for a categorical distribution should be a tuple of None, bool, int, float and str for persistent storage but contains (50,) which is of type tuple.\n",
            "  warnings.warn(message)\n",
            "/usr/local/lib/python3.10/dist-packages/optuna/distributions.py:524: UserWarning: Choices for a categorical distribution should be a tuple of None, bool, int, float and str for persistent storage but contains (100,) which is of type tuple.\n",
            "  warnings.warn(message)\n",
            "/usr/local/lib/python3.10/dist-packages/optuna/distributions.py:524: UserWarning: Choices for a categorical distribution should be a tuple of None, bool, int, float and str for persistent storage but contains (150,) which is of type tuple.\n",
            "  warnings.warn(message)\n",
            "[I 2024-06-10 10:30:03,228] Trial 14 finished with value: 0.7783985102420857 and parameters: {'hidden_layer_sizes': (150,), 'alpha': 0.00896638375778789, 'learning_rate_init': 0.00025203985427256866}. Best is trial 11 with value: 0.7821229050279329.\n",
            "/usr/local/lib/python3.10/dist-packages/optuna/distributions.py:524: UserWarning: Choices for a categorical distribution should be a tuple of None, bool, int, float and str for persistent storage but contains (50,) which is of type tuple.\n",
            "  warnings.warn(message)\n",
            "/usr/local/lib/python3.10/dist-packages/optuna/distributions.py:524: UserWarning: Choices for a categorical distribution should be a tuple of None, bool, int, float and str for persistent storage but contains (100,) which is of type tuple.\n",
            "  warnings.warn(message)\n",
            "/usr/local/lib/python3.10/dist-packages/optuna/distributions.py:524: UserWarning: Choices for a categorical distribution should be a tuple of None, bool, int, float and str for persistent storage but contains (150,) which is of type tuple.\n",
            "  warnings.warn(message)\n",
            "[I 2024-06-10 10:30:04,539] Trial 15 finished with value: 0.7858472998137803 and parameters: {'hidden_layer_sizes': (150,), 'alpha': 0.00015129794195636962, 'learning_rate_init': 0.0006624648790117991}. Best is trial 15 with value: 0.7858472998137803.\n",
            "/usr/local/lib/python3.10/dist-packages/optuna/distributions.py:524: UserWarning: Choices for a categorical distribution should be a tuple of None, bool, int, float and str for persistent storage but contains (50,) which is of type tuple.\n",
            "  warnings.warn(message)\n",
            "/usr/local/lib/python3.10/dist-packages/optuna/distributions.py:524: UserWarning: Choices for a categorical distribution should be a tuple of None, bool, int, float and str for persistent storage but contains (100,) which is of type tuple.\n",
            "  warnings.warn(message)\n",
            "/usr/local/lib/python3.10/dist-packages/optuna/distributions.py:524: UserWarning: Choices for a categorical distribution should be a tuple of None, bool, int, float and str for persistent storage but contains (150,) which is of type tuple.\n",
            "  warnings.warn(message)\n",
            "[I 2024-06-10 10:30:05,873] Trial 16 finished with value: 0.756052141527002 and parameters: {'hidden_layer_sizes': (150,), 'alpha': 0.00012161360738749435, 'learning_rate_init': 0.002669228354751425}. Best is trial 15 with value: 0.7858472998137803.\n",
            "/usr/local/lib/python3.10/dist-packages/optuna/distributions.py:524: UserWarning: Choices for a categorical distribution should be a tuple of None, bool, int, float and str for persistent storage but contains (50,) which is of type tuple.\n",
            "  warnings.warn(message)\n",
            "/usr/local/lib/python3.10/dist-packages/optuna/distributions.py:524: UserWarning: Choices for a categorical distribution should be a tuple of None, bool, int, float and str for persistent storage but contains (100,) which is of type tuple.\n",
            "  warnings.warn(message)\n",
            "/usr/local/lib/python3.10/dist-packages/optuna/distributions.py:524: UserWarning: Choices for a categorical distribution should be a tuple of None, bool, int, float and str for persistent storage but contains (150,) which is of type tuple.\n",
            "  warnings.warn(message)\n",
            "[I 2024-06-10 10:30:06,943] Trial 17 finished with value: 0.7728119180633147 and parameters: {'hidden_layer_sizes': (100,), 'alpha': 3.900208167234364e-05, 'learning_rate_init': 0.0006576776746904181}. Best is trial 15 with value: 0.7858472998137803.\n",
            "/usr/local/lib/python3.10/dist-packages/optuna/distributions.py:524: UserWarning: Choices for a categorical distribution should be a tuple of None, bool, int, float and str for persistent storage but contains (50,) which is of type tuple.\n",
            "  warnings.warn(message)\n",
            "/usr/local/lib/python3.10/dist-packages/optuna/distributions.py:524: UserWarning: Choices for a categorical distribution should be a tuple of None, bool, int, float and str for persistent storage but contains (100,) which is of type tuple.\n",
            "  warnings.warn(message)\n",
            "/usr/local/lib/python3.10/dist-packages/optuna/distributions.py:524: UserWarning: Choices for a categorical distribution should be a tuple of None, bool, int, float and str for persistent storage but contains (150,) which is of type tuple.\n",
            "  warnings.warn(message)\n",
            "[I 2024-06-10 10:30:08,247] Trial 18 finished with value: 0.74487895716946 and parameters: {'hidden_layer_sizes': (150,), 'alpha': 1.0632376819438253e-05, 'learning_rate_init': 0.006246295954849725}. Best is trial 15 with value: 0.7858472998137803.\n",
            "/usr/local/lib/python3.10/dist-packages/optuna/distributions.py:524: UserWarning: Choices for a categorical distribution should be a tuple of None, bool, int, float and str for persistent storage but contains (50,) which is of type tuple.\n",
            "  warnings.warn(message)\n",
            "/usr/local/lib/python3.10/dist-packages/optuna/distributions.py:524: UserWarning: Choices for a categorical distribution should be a tuple of None, bool, int, float and str for persistent storage but contains (100,) which is of type tuple.\n",
            "  warnings.warn(message)\n",
            "/usr/local/lib/python3.10/dist-packages/optuna/distributions.py:524: UserWarning: Choices for a categorical distribution should be a tuple of None, bool, int, float and str for persistent storage but contains (150,) which is of type tuple.\n",
            "  warnings.warn(message)\n",
            "[I 2024-06-10 10:30:09,561] Trial 19 finished with value: 0.7802607076350093 and parameters: {'hidden_layer_sizes': (150,), 'alpha': 0.0002533823310797271, 'learning_rate_init': 0.001109755661724009}. Best is trial 15 with value: 0.7858472998137803.\n",
            "/usr/local/lib/python3.10/dist-packages/optuna/distributions.py:524: UserWarning: Choices for a categorical distribution should be a tuple of None, bool, int, float and str for persistent storage but contains (50,) which is of type tuple.\n",
            "  warnings.warn(message)\n",
            "/usr/local/lib/python3.10/dist-packages/optuna/distributions.py:524: UserWarning: Choices for a categorical distribution should be a tuple of None, bool, int, float and str for persistent storage but contains (100,) which is of type tuple.\n",
            "  warnings.warn(message)\n",
            "/usr/local/lib/python3.10/dist-packages/optuna/distributions.py:524: UserWarning: Choices for a categorical distribution should be a tuple of None, bool, int, float and str for persistent storage but contains (150,) which is of type tuple.\n",
            "  warnings.warn(message)\n",
            "[I 2024-06-10 10:30:10,613] Trial 20 finished with value: 0.7765363128491621 and parameters: {'hidden_layer_sizes': (100,), 'alpha': 3.556815601615059e-05, 'learning_rate_init': 0.0005655306657669879}. Best is trial 15 with value: 0.7858472998137803.\n",
            "/usr/local/lib/python3.10/dist-packages/optuna/distributions.py:524: UserWarning: Choices for a categorical distribution should be a tuple of None, bool, int, float and str for persistent storage but contains (50,) which is of type tuple.\n",
            "  warnings.warn(message)\n",
            "/usr/local/lib/python3.10/dist-packages/optuna/distributions.py:524: UserWarning: Choices for a categorical distribution should be a tuple of None, bool, int, float and str for persistent storage but contains (100,) which is of type tuple.\n",
            "  warnings.warn(message)\n",
            "/usr/local/lib/python3.10/dist-packages/optuna/distributions.py:524: UserWarning: Choices for a categorical distribution should be a tuple of None, bool, int, float and str for persistent storage but contains (150,) which is of type tuple.\n",
            "  warnings.warn(message)\n",
            "[I 2024-06-10 10:30:11,942] Trial 21 finished with value: 0.7821229050279329 and parameters: {'hidden_layer_sizes': (150,), 'alpha': 0.0027150387705489843, 'learning_rate_init': 0.0002049436825035388}. Best is trial 15 with value: 0.7858472998137803.\n",
            "/usr/local/lib/python3.10/dist-packages/optuna/distributions.py:524: UserWarning: Choices for a categorical distribution should be a tuple of None, bool, int, float and str for persistent storage but contains (50,) which is of type tuple.\n",
            "  warnings.warn(message)\n",
            "/usr/local/lib/python3.10/dist-packages/optuna/distributions.py:524: UserWarning: Choices for a categorical distribution should be a tuple of None, bool, int, float and str for persistent storage but contains (100,) which is of type tuple.\n",
            "  warnings.warn(message)\n",
            "/usr/local/lib/python3.10/dist-packages/optuna/distributions.py:524: UserWarning: Choices for a categorical distribution should be a tuple of None, bool, int, float and str for persistent storage but contains (150,) which is of type tuple.\n",
            "  warnings.warn(message)\n",
            "[I 2024-06-10 10:30:13,541] Trial 22 finished with value: 0.7802607076350093 and parameters: {'hidden_layer_sizes': (150,), 'alpha': 0.09602434555114961, 'learning_rate_init': 0.0002332766182472551}. Best is trial 15 with value: 0.7858472998137803.\n",
            "/usr/local/lib/python3.10/dist-packages/optuna/distributions.py:524: UserWarning: Choices for a categorical distribution should be a tuple of None, bool, int, float and str for persistent storage but contains (50,) which is of type tuple.\n",
            "  warnings.warn(message)\n",
            "/usr/local/lib/python3.10/dist-packages/optuna/distributions.py:524: UserWarning: Choices for a categorical distribution should be a tuple of None, bool, int, float and str for persistent storage but contains (100,) which is of type tuple.\n",
            "  warnings.warn(message)\n",
            "/usr/local/lib/python3.10/dist-packages/optuna/distributions.py:524: UserWarning: Choices for a categorical distribution should be a tuple of None, bool, int, float and str for persistent storage but contains (150,) which is of type tuple.\n",
            "  warnings.warn(message)\n",
            "[I 2024-06-10 10:30:15,628] Trial 23 finished with value: 0.7653631284916201 and parameters: {'hidden_layer_sizes': (150,), 'alpha': 0.003526624125130955, 'learning_rate_init': 0.0018520764845427425}. Best is trial 15 with value: 0.7858472998137803.\n",
            "/usr/local/lib/python3.10/dist-packages/optuna/distributions.py:524: UserWarning: Choices for a categorical distribution should be a tuple of None, bool, int, float and str for persistent storage but contains (50,) which is of type tuple.\n",
            "  warnings.warn(message)\n",
            "/usr/local/lib/python3.10/dist-packages/optuna/distributions.py:524: UserWarning: Choices for a categorical distribution should be a tuple of None, bool, int, float and str for persistent storage but contains (100,) which is of type tuple.\n",
            "  warnings.warn(message)\n",
            "/usr/local/lib/python3.10/dist-packages/optuna/distributions.py:524: UserWarning: Choices for a categorical distribution should be a tuple of None, bool, int, float and str for persistent storage but contains (150,) which is of type tuple.\n",
            "  warnings.warn(message)\n",
            "[I 2024-06-10 10:30:17,755] Trial 24 finished with value: 0.7783985102420857 and parameters: {'hidden_layer_sizes': (150,), 'alpha': 0.00021046383168379283, 'learning_rate_init': 0.00042338380868551254}. Best is trial 15 with value: 0.7858472998137803.\n",
            "/usr/local/lib/python3.10/dist-packages/optuna/distributions.py:524: UserWarning: Choices for a categorical distribution should be a tuple of None, bool, int, float and str for persistent storage but contains (50,) which is of type tuple.\n",
            "  warnings.warn(message)\n",
            "/usr/local/lib/python3.10/dist-packages/optuna/distributions.py:524: UserWarning: Choices for a categorical distribution should be a tuple of None, bool, int, float and str for persistent storage but contains (100,) which is of type tuple.\n",
            "  warnings.warn(message)\n",
            "/usr/local/lib/python3.10/dist-packages/optuna/distributions.py:524: UserWarning: Choices for a categorical distribution should be a tuple of None, bool, int, float and str for persistent storage but contains (150,) which is of type tuple.\n",
            "  warnings.warn(message)\n",
            "[I 2024-06-10 10:30:19,622] Trial 25 finished with value: 0.7765363128491621 and parameters: {'hidden_layer_sizes': (150,), 'alpha': 0.009238366023271428, 'learning_rate_init': 0.0008523273243554192}. Best is trial 15 with value: 0.7858472998137803.\n",
            "/usr/local/lib/python3.10/dist-packages/optuna/distributions.py:524: UserWarning: Choices for a categorical distribution should be a tuple of None, bool, int, float and str for persistent storage but contains (50,) which is of type tuple.\n",
            "  warnings.warn(message)\n",
            "/usr/local/lib/python3.10/dist-packages/optuna/distributions.py:524: UserWarning: Choices for a categorical distribution should be a tuple of None, bool, int, float and str for persistent storage but contains (100,) which is of type tuple.\n",
            "  warnings.warn(message)\n",
            "/usr/local/lib/python3.10/dist-packages/optuna/distributions.py:524: UserWarning: Choices for a categorical distribution should be a tuple of None, bool, int, float and str for persistent storage but contains (150,) which is of type tuple.\n",
            "  warnings.warn(message)\n",
            "[I 2024-06-10 10:30:20,915] Trial 26 finished with value: 0.7765363128491621 and parameters: {'hidden_layer_sizes': (150,), 'alpha': 1.9945741038711808e-05, 'learning_rate_init': 0.0003483935838986382}. Best is trial 15 with value: 0.7858472998137803.\n",
            "/usr/local/lib/python3.10/dist-packages/optuna/distributions.py:524: UserWarning: Choices for a categorical distribution should be a tuple of None, bool, int, float and str for persistent storage but contains (50,) which is of type tuple.\n",
            "  warnings.warn(message)\n",
            "/usr/local/lib/python3.10/dist-packages/optuna/distributions.py:524: UserWarning: Choices for a categorical distribution should be a tuple of None, bool, int, float and str for persistent storage but contains (100,) which is of type tuple.\n",
            "  warnings.warn(message)\n",
            "/usr/local/lib/python3.10/dist-packages/optuna/distributions.py:524: UserWarning: Choices for a categorical distribution should be a tuple of None, bool, int, float and str for persistent storage but contains (150,) which is of type tuple.\n",
            "  warnings.warn(message)\n",
            "[I 2024-06-10 10:30:22,233] Trial 27 finished with value: 0.7765363128491621 and parameters: {'hidden_layer_sizes': (150,), 'alpha': 9.623975212864994e-05, 'learning_rate_init': 0.00016862908202826553}. Best is trial 15 with value: 0.7858472998137803.\n",
            "/usr/local/lib/python3.10/dist-packages/optuna/distributions.py:524: UserWarning: Choices for a categorical distribution should be a tuple of None, bool, int, float and str for persistent storage but contains (50,) which is of type tuple.\n",
            "  warnings.warn(message)\n",
            "/usr/local/lib/python3.10/dist-packages/optuna/distributions.py:524: UserWarning: Choices for a categorical distribution should be a tuple of None, bool, int, float and str for persistent storage but contains (100,) which is of type tuple.\n",
            "  warnings.warn(message)\n",
            "/usr/local/lib/python3.10/dist-packages/optuna/distributions.py:524: UserWarning: Choices for a categorical distribution should be a tuple of None, bool, int, float and str for persistent storage but contains (150,) which is of type tuple.\n",
            "  warnings.warn(message)\n",
            "[I 2024-06-10 10:30:23,297] Trial 28 finished with value: 0.7467411545623835 and parameters: {'hidden_layer_sizes': (100,), 'alpha': 0.0003260973460672425, 'learning_rate_init': 0.007034419396670991}. Best is trial 15 with value: 0.7858472998137803.\n",
            "/usr/local/lib/python3.10/dist-packages/optuna/distributions.py:524: UserWarning: Choices for a categorical distribution should be a tuple of None, bool, int, float and str for persistent storage but contains (50,) which is of type tuple.\n",
            "  warnings.warn(message)\n",
            "/usr/local/lib/python3.10/dist-packages/optuna/distributions.py:524: UserWarning: Choices for a categorical distribution should be a tuple of None, bool, int, float and str for persistent storage but contains (100,) which is of type tuple.\n",
            "  warnings.warn(message)\n",
            "/usr/local/lib/python3.10/dist-packages/optuna/distributions.py:524: UserWarning: Choices for a categorical distribution should be a tuple of None, bool, int, float and str for persistent storage but contains (150,) which is of type tuple.\n",
            "  warnings.warn(message)\n",
            "[I 2024-06-10 10:30:24,596] Trial 29 finished with value: 0.7635009310986964 and parameters: {'hidden_layer_sizes': (150,), 'alpha': 0.0020515972436152487, 'learning_rate_init': 0.0020531076800429245}. Best is trial 15 with value: 0.7858472998137803.\n",
            "/usr/local/lib/python3.10/dist-packages/optuna/distributions.py:524: UserWarning: Choices for a categorical distribution should be a tuple of None, bool, int, float and str for persistent storage but contains (50,) which is of type tuple.\n",
            "  warnings.warn(message)\n",
            "/usr/local/lib/python3.10/dist-packages/optuna/distributions.py:524: UserWarning: Choices for a categorical distribution should be a tuple of None, bool, int, float and str for persistent storage but contains (100,) which is of type tuple.\n",
            "  warnings.warn(message)\n",
            "/usr/local/lib/python3.10/dist-packages/optuna/distributions.py:524: UserWarning: Choices for a categorical distribution should be a tuple of None, bool, int, float and str for persistent storage but contains (150,) which is of type tuple.\n",
            "  warnings.warn(message)\n",
            "[I 2024-06-10 10:30:25,915] Trial 30 finished with value: 0.7783985102420857 and parameters: {'hidden_layer_sizes': (150,), 'alpha': 0.028796369299576102, 'learning_rate_init': 0.0001880460783866354}. Best is trial 15 with value: 0.7858472998137803.\n",
            "/usr/local/lib/python3.10/dist-packages/optuna/distributions.py:524: UserWarning: Choices for a categorical distribution should be a tuple of None, bool, int, float and str for persistent storage but contains (50,) which is of type tuple.\n",
            "  warnings.warn(message)\n",
            "/usr/local/lib/python3.10/dist-packages/optuna/distributions.py:524: UserWarning: Choices for a categorical distribution should be a tuple of None, bool, int, float and str for persistent storage but contains (100,) which is of type tuple.\n",
            "  warnings.warn(message)\n",
            "/usr/local/lib/python3.10/dist-packages/optuna/distributions.py:524: UserWarning: Choices for a categorical distribution should be a tuple of None, bool, int, float and str for persistent storage but contains (150,) which is of type tuple.\n",
            "  warnings.warn(message)\n",
            "[I 2024-06-10 10:30:27,215] Trial 31 finished with value: 0.7728119180633147 and parameters: {'hidden_layer_sizes': (150,), 'alpha': 0.0020762554773847653, 'learning_rate_init': 0.00013732378730977216}. Best is trial 15 with value: 0.7858472998137803.\n",
            "/usr/local/lib/python3.10/dist-packages/optuna/distributions.py:524: UserWarning: Choices for a categorical distribution should be a tuple of None, bool, int, float and str for persistent storage but contains (50,) which is of type tuple.\n",
            "  warnings.warn(message)\n",
            "/usr/local/lib/python3.10/dist-packages/optuna/distributions.py:524: UserWarning: Choices for a categorical distribution should be a tuple of None, bool, int, float and str for persistent storage but contains (100,) which is of type tuple.\n",
            "  warnings.warn(message)\n",
            "/usr/local/lib/python3.10/dist-packages/optuna/distributions.py:524: UserWarning: Choices for a categorical distribution should be a tuple of None, bool, int, float and str for persistent storage but contains (150,) which is of type tuple.\n",
            "  warnings.warn(message)\n",
            "[I 2024-06-10 10:30:28,536] Trial 32 finished with value: 0.7765363128491621 and parameters: {'hidden_layer_sizes': (150,), 'alpha': 0.003809987669920282, 'learning_rate_init': 0.00041872841584806084}. Best is trial 15 with value: 0.7858472998137803.\n",
            "/usr/local/lib/python3.10/dist-packages/optuna/distributions.py:524: UserWarning: Choices for a categorical distribution should be a tuple of None, bool, int, float and str for persistent storage but contains (50,) which is of type tuple.\n",
            "  warnings.warn(message)\n",
            "/usr/local/lib/python3.10/dist-packages/optuna/distributions.py:524: UserWarning: Choices for a categorical distribution should be a tuple of None, bool, int, float and str for persistent storage but contains (100,) which is of type tuple.\n",
            "  warnings.warn(message)\n",
            "/usr/local/lib/python3.10/dist-packages/optuna/distributions.py:524: UserWarning: Choices for a categorical distribution should be a tuple of None, bool, int, float and str for persistent storage but contains (150,) which is of type tuple.\n",
            "  warnings.warn(message)\n",
            "[I 2024-06-10 10:30:29,535] Trial 33 finished with value: 0.7709497206703911 and parameters: {'hidden_layer_sizes': (50,), 'alpha': 0.0012307721288313588, 'learning_rate_init': 0.00037054188128784603}. Best is trial 15 with value: 0.7858472998137803.\n",
            "/usr/local/lib/python3.10/dist-packages/optuna/distributions.py:524: UserWarning: Choices for a categorical distribution should be a tuple of None, bool, int, float and str for persistent storage but contains (50,) which is of type tuple.\n",
            "  warnings.warn(message)\n",
            "/usr/local/lib/python3.10/dist-packages/optuna/distributions.py:524: UserWarning: Choices for a categorical distribution should be a tuple of None, bool, int, float and str for persistent storage but contains (100,) which is of type tuple.\n",
            "  warnings.warn(message)\n",
            "/usr/local/lib/python3.10/dist-packages/optuna/distributions.py:524: UserWarning: Choices for a categorical distribution should be a tuple of None, bool, int, float and str for persistent storage but contains (150,) which is of type tuple.\n",
            "  warnings.warn(message)\n",
            "[I 2024-06-10 10:30:31,609] Trial 34 finished with value: 0.7783985102420857 and parameters: {'hidden_layer_sizes': (150,), 'alpha': 0.000576716922183724, 'learning_rate_init': 0.0001822456330197149}. Best is trial 15 with value: 0.7858472998137803.\n",
            "/usr/local/lib/python3.10/dist-packages/optuna/distributions.py:524: UserWarning: Choices for a categorical distribution should be a tuple of None, bool, int, float and str for persistent storage but contains (50,) which is of type tuple.\n",
            "  warnings.warn(message)\n",
            "/usr/local/lib/python3.10/dist-packages/optuna/distributions.py:524: UserWarning: Choices for a categorical distribution should be a tuple of None, bool, int, float and str for persistent storage but contains (100,) which is of type tuple.\n",
            "  warnings.warn(message)\n",
            "/usr/local/lib/python3.10/dist-packages/optuna/distributions.py:524: UserWarning: Choices for a categorical distribution should be a tuple of None, bool, int, float and str for persistent storage but contains (150,) which is of type tuple.\n",
            "  warnings.warn(message)\n",
            "[I 2024-06-10 10:30:32,982] Trial 35 finished with value: 0.7467411545623835 and parameters: {'hidden_layer_sizes': (50,), 'alpha': 0.0012395812376612815, 'learning_rate_init': 0.003747312076928932}. Best is trial 15 with value: 0.7858472998137803.\n",
            "/usr/local/lib/python3.10/dist-packages/optuna/distributions.py:524: UserWarning: Choices for a categorical distribution should be a tuple of None, bool, int, float and str for persistent storage but contains (50,) which is of type tuple.\n",
            "  warnings.warn(message)\n",
            "/usr/local/lib/python3.10/dist-packages/optuna/distributions.py:524: UserWarning: Choices for a categorical distribution should be a tuple of None, bool, int, float and str for persistent storage but contains (100,) which is of type tuple.\n",
            "  warnings.warn(message)\n",
            "/usr/local/lib/python3.10/dist-packages/optuna/distributions.py:524: UserWarning: Choices for a categorical distribution should be a tuple of None, bool, int, float and str for persistent storage but contains (150,) which is of type tuple.\n",
            "  warnings.warn(message)\n",
            "[I 2024-06-10 10:30:35,225] Trial 36 finished with value: 0.7858472998137801 and parameters: {'hidden_layer_sizes': (150,), 'alpha': 0.02002646417175982, 'learning_rate_init': 0.0006087106398470221}. Best is trial 15 with value: 0.7858472998137803.\n",
            "/usr/local/lib/python3.10/dist-packages/optuna/distributions.py:524: UserWarning: Choices for a categorical distribution should be a tuple of None, bool, int, float and str for persistent storage but contains (50,) which is of type tuple.\n",
            "  warnings.warn(message)\n",
            "/usr/local/lib/python3.10/dist-packages/optuna/distributions.py:524: UserWarning: Choices for a categorical distribution should be a tuple of None, bool, int, float and str for persistent storage but contains (100,) which is of type tuple.\n",
            "  warnings.warn(message)\n",
            "/usr/local/lib/python3.10/dist-packages/optuna/distributions.py:524: UserWarning: Choices for a categorical distribution should be a tuple of None, bool, int, float and str for persistent storage but contains (150,) which is of type tuple.\n",
            "  warnings.warn(message)\n",
            "[I 2024-06-10 10:30:36,514] Trial 37 finished with value: 0.7802607076350093 and parameters: {'hidden_layer_sizes': (150,), 'alpha': 0.027215779682188482, 'learning_rate_init': 0.0008798490991576702}. Best is trial 15 with value: 0.7858472998137803.\n",
            "/usr/local/lib/python3.10/dist-packages/optuna/distributions.py:524: UserWarning: Choices for a categorical distribution should be a tuple of None, bool, int, float and str for persistent storage but contains (50,) which is of type tuple.\n",
            "  warnings.warn(message)\n",
            "/usr/local/lib/python3.10/dist-packages/optuna/distributions.py:524: UserWarning: Choices for a categorical distribution should be a tuple of None, bool, int, float and str for persistent storage but contains (100,) which is of type tuple.\n",
            "  warnings.warn(message)\n",
            "/usr/local/lib/python3.10/dist-packages/optuna/distributions.py:524: UserWarning: Choices for a categorical distribution should be a tuple of None, bool, int, float and str for persistent storage but contains (150,) which is of type tuple.\n",
            "  warnings.warn(message)\n",
            "[I 2024-06-10 10:30:37,804] Trial 38 finished with value: 0.7821229050279331 and parameters: {'hidden_layer_sizes': (150,), 'alpha': 0.012738262908236682, 'learning_rate_init': 0.0005255513324300472}. Best is trial 15 with value: 0.7858472998137803.\n",
            "/usr/local/lib/python3.10/dist-packages/optuna/distributions.py:524: UserWarning: Choices for a categorical distribution should be a tuple of None, bool, int, float and str for persistent storage but contains (50,) which is of type tuple.\n",
            "  warnings.warn(message)\n",
            "/usr/local/lib/python3.10/dist-packages/optuna/distributions.py:524: UserWarning: Choices for a categorical distribution should be a tuple of None, bool, int, float and str for persistent storage but contains (100,) which is of type tuple.\n",
            "  warnings.warn(message)\n",
            "/usr/local/lib/python3.10/dist-packages/optuna/distributions.py:524: UserWarning: Choices for a categorical distribution should be a tuple of None, bool, int, float and str for persistent storage but contains (150,) which is of type tuple.\n",
            "  warnings.warn(message)\n",
            "[I 2024-06-10 10:30:38,613] Trial 39 finished with value: 0.7728119180633147 and parameters: {'hidden_layer_sizes': (50,), 'alpha': 0.09322877338328524, 'learning_rate_init': 0.0005324378885193603}. Best is trial 15 with value: 0.7858472998137803.\n",
            "/usr/local/lib/python3.10/dist-packages/optuna/distributions.py:524: UserWarning: Choices for a categorical distribution should be a tuple of None, bool, int, float and str for persistent storage but contains (50,) which is of type tuple.\n",
            "  warnings.warn(message)\n",
            "/usr/local/lib/python3.10/dist-packages/optuna/distributions.py:524: UserWarning: Choices for a categorical distribution should be a tuple of None, bool, int, float and str for persistent storage but contains (100,) which is of type tuple.\n",
            "  warnings.warn(message)\n",
            "/usr/local/lib/python3.10/dist-packages/optuna/distributions.py:524: UserWarning: Choices for a categorical distribution should be a tuple of None, bool, int, float and str for persistent storage but contains (150,) which is of type tuple.\n",
            "  warnings.warn(message)\n",
            "[I 2024-06-10 10:30:39,897] Trial 40 finished with value: 0.7690875232774674 and parameters: {'hidden_layer_sizes': (150,), 'alpha': 0.01740126663456345, 'learning_rate_init': 0.0012156646186764503}. Best is trial 15 with value: 0.7858472998137803.\n",
            "/usr/local/lib/python3.10/dist-packages/optuna/distributions.py:524: UserWarning: Choices for a categorical distribution should be a tuple of None, bool, int, float and str for persistent storage but contains (50,) which is of type tuple.\n",
            "  warnings.warn(message)\n",
            "/usr/local/lib/python3.10/dist-packages/optuna/distributions.py:524: UserWarning: Choices for a categorical distribution should be a tuple of None, bool, int, float and str for persistent storage but contains (100,) which is of type tuple.\n",
            "  warnings.warn(message)\n",
            "/usr/local/lib/python3.10/dist-packages/optuna/distributions.py:524: UserWarning: Choices for a categorical distribution should be a tuple of None, bool, int, float and str for persistent storage but contains (150,) which is of type tuple.\n",
            "  warnings.warn(message)\n",
            "[I 2024-06-10 10:30:41,208] Trial 41 finished with value: 0.7746741154562384 and parameters: {'hidden_layer_sizes': (150,), 'alpha': 0.049850328161921385, 'learning_rate_init': 0.0003096221806917007}. Best is trial 15 with value: 0.7858472998137803.\n",
            "/usr/local/lib/python3.10/dist-packages/optuna/distributions.py:524: UserWarning: Choices for a categorical distribution should be a tuple of None, bool, int, float and str for persistent storage but contains (50,) which is of type tuple.\n",
            "  warnings.warn(message)\n",
            "/usr/local/lib/python3.10/dist-packages/optuna/distributions.py:524: UserWarning: Choices for a categorical distribution should be a tuple of None, bool, int, float and str for persistent storage but contains (100,) which is of type tuple.\n",
            "  warnings.warn(message)\n",
            "/usr/local/lib/python3.10/dist-packages/optuna/distributions.py:524: UserWarning: Choices for a categorical distribution should be a tuple of None, bool, int, float and str for persistent storage but contains (150,) which is of type tuple.\n",
            "  warnings.warn(message)\n",
            "[I 2024-06-10 10:30:42,542] Trial 42 finished with value: 0.7895716945996275 and parameters: {'hidden_layer_sizes': (150,), 'alpha': 0.01452797482070925, 'learning_rate_init': 0.000693736921491567}. Best is trial 42 with value: 0.7895716945996275.\n",
            "/usr/local/lib/python3.10/dist-packages/optuna/distributions.py:524: UserWarning: Choices for a categorical distribution should be a tuple of None, bool, int, float and str for persistent storage but contains (50,) which is of type tuple.\n",
            "  warnings.warn(message)\n",
            "/usr/local/lib/python3.10/dist-packages/optuna/distributions.py:524: UserWarning: Choices for a categorical distribution should be a tuple of None, bool, int, float and str for persistent storage but contains (100,) which is of type tuple.\n",
            "  warnings.warn(message)\n",
            "/usr/local/lib/python3.10/dist-packages/optuna/distributions.py:524: UserWarning: Choices for a categorical distribution should be a tuple of None, bool, int, float and str for persistent storage but contains (150,) which is of type tuple.\n",
            "  warnings.warn(message)\n",
            "[I 2024-06-10 10:30:43,834] Trial 43 finished with value: 0.7783985102420857 and parameters: {'hidden_layer_sizes': (150,), 'alpha': 0.015010599718314224, 'learning_rate_init': 0.0008674307094181586}. Best is trial 42 with value: 0.7895716945996275.\n",
            "/usr/local/lib/python3.10/dist-packages/optuna/distributions.py:524: UserWarning: Choices for a categorical distribution should be a tuple of None, bool, int, float and str for persistent storage but contains (50,) which is of type tuple.\n",
            "  warnings.warn(message)\n",
            "/usr/local/lib/python3.10/dist-packages/optuna/distributions.py:524: UserWarning: Choices for a categorical distribution should be a tuple of None, bool, int, float and str for persistent storage but contains (100,) which is of type tuple.\n",
            "  warnings.warn(message)\n",
            "/usr/local/lib/python3.10/dist-packages/optuna/distributions.py:524: UserWarning: Choices for a categorical distribution should be a tuple of None, bool, int, float and str for persistent storage but contains (150,) which is of type tuple.\n",
            "  warnings.warn(message)\n",
            "[I 2024-06-10 10:30:45,128] Trial 44 finished with value: 0.7653631284916201 and parameters: {'hidden_layer_sizes': (150,), 'alpha': 0.006998683299136408, 'learning_rate_init': 0.001615799749853508}. Best is trial 42 with value: 0.7895716945996275.\n",
            "/usr/local/lib/python3.10/dist-packages/optuna/distributions.py:524: UserWarning: Choices for a categorical distribution should be a tuple of None, bool, int, float and str for persistent storage but contains (50,) which is of type tuple.\n",
            "  warnings.warn(message)\n",
            "/usr/local/lib/python3.10/dist-packages/optuna/distributions.py:524: UserWarning: Choices for a categorical distribution should be a tuple of None, bool, int, float and str for persistent storage but contains (100,) which is of type tuple.\n",
            "  warnings.warn(message)\n",
            "/usr/local/lib/python3.10/dist-packages/optuna/distributions.py:524: UserWarning: Choices for a categorical distribution should be a tuple of None, bool, int, float and str for persistent storage but contains (150,) which is of type tuple.\n",
            "  warnings.warn(message)\n",
            "[I 2024-06-10 10:30:47,166] Trial 45 finished with value: 0.7802607076350094 and parameters: {'hidden_layer_sizes': (150,), 'alpha': 0.05563727669005882, 'learning_rate_init': 0.0005187418187399332}. Best is trial 42 with value: 0.7895716945996275.\n",
            "/usr/local/lib/python3.10/dist-packages/optuna/distributions.py:524: UserWarning: Choices for a categorical distribution should be a tuple of None, bool, int, float and str for persistent storage but contains (50,) which is of type tuple.\n",
            "  warnings.warn(message)\n",
            "/usr/local/lib/python3.10/dist-packages/optuna/distributions.py:524: UserWarning: Choices for a categorical distribution should be a tuple of None, bool, int, float and str for persistent storage but contains (100,) which is of type tuple.\n",
            "  warnings.warn(message)\n",
            "/usr/local/lib/python3.10/dist-packages/optuna/distributions.py:524: UserWarning: Choices for a categorical distribution should be a tuple of None, bool, int, float and str for persistent storage but contains (150,) which is of type tuple.\n",
            "  warnings.warn(message)\n",
            "[I 2024-06-10 10:30:48,850] Trial 46 finished with value: 0.7653631284916201 and parameters: {'hidden_layer_sizes': (100,), 'alpha': 0.03715093589202305, 'learning_rate_init': 0.0007584799317882738}. Best is trial 42 with value: 0.7895716945996275.\n",
            "/usr/local/lib/python3.10/dist-packages/optuna/distributions.py:524: UserWarning: Choices for a categorical distribution should be a tuple of None, bool, int, float and str for persistent storage but contains (50,) which is of type tuple.\n",
            "  warnings.warn(message)\n",
            "/usr/local/lib/python3.10/dist-packages/optuna/distributions.py:524: UserWarning: Choices for a categorical distribution should be a tuple of None, bool, int, float and str for persistent storage but contains (100,) which is of type tuple.\n",
            "  warnings.warn(message)\n",
            "/usr/local/lib/python3.10/dist-packages/optuna/distributions.py:524: UserWarning: Choices for a categorical distribution should be a tuple of None, bool, int, float and str for persistent storage but contains (150,) which is of type tuple.\n",
            "  warnings.warn(message)\n",
            "[I 2024-06-10 10:30:50,130] Trial 47 finished with value: 0.7541899441340782 and parameters: {'hidden_layer_sizes': (50,), 'alpha': 0.014355149702019942, 'learning_rate_init': 0.003910540711216981}. Best is trial 42 with value: 0.7895716945996275.\n",
            "/usr/local/lib/python3.10/dist-packages/optuna/distributions.py:524: UserWarning: Choices for a categorical distribution should be a tuple of None, bool, int, float and str for persistent storage but contains (50,) which is of type tuple.\n",
            "  warnings.warn(message)\n",
            "/usr/local/lib/python3.10/dist-packages/optuna/distributions.py:524: UserWarning: Choices for a categorical distribution should be a tuple of None, bool, int, float and str for persistent storage but contains (100,) which is of type tuple.\n",
            "  warnings.warn(message)\n",
            "/usr/local/lib/python3.10/dist-packages/optuna/distributions.py:524: UserWarning: Choices for a categorical distribution should be a tuple of None, bool, int, float and str for persistent storage but contains (150,) which is of type tuple.\n",
            "  warnings.warn(message)\n",
            "[I 2024-06-10 10:30:50,950] Trial 48 finished with value: 0.7355679702048418 and parameters: {'hidden_layer_sizes': (150,), 'alpha': 0.004754857082546013, 'learning_rate_init': 0.08277271769928772}. Best is trial 42 with value: 0.7895716945996275.\n",
            "/usr/local/lib/python3.10/dist-packages/optuna/distributions.py:524: UserWarning: Choices for a categorical distribution should be a tuple of None, bool, int, float and str for persistent storage but contains (50,) which is of type tuple.\n",
            "  warnings.warn(message)\n",
            "/usr/local/lib/python3.10/dist-packages/optuna/distributions.py:524: UserWarning: Choices for a categorical distribution should be a tuple of None, bool, int, float and str for persistent storage but contains (100,) which is of type tuple.\n",
            "  warnings.warn(message)\n",
            "/usr/local/lib/python3.10/dist-packages/optuna/distributions.py:524: UserWarning: Choices for a categorical distribution should be a tuple of None, bool, int, float and str for persistent storage but contains (150,) which is of type tuple.\n",
            "  warnings.warn(message)\n",
            "[I 2024-06-10 10:30:52,390] Trial 49 finished with value: 0.7783985102420857 and parameters: {'hidden_layer_sizes': (150,), 'alpha': 0.01158368665136299, 'learning_rate_init': 0.0010802616962374138}. Best is trial 42 with value: 0.7895716945996275.\n",
            "/usr/local/lib/python3.10/dist-packages/optuna/distributions.py:524: UserWarning: Choices for a categorical distribution should be a tuple of None, bool, int, float and str for persistent storage but contains (50,) which is of type tuple.\n",
            "  warnings.warn(message)\n",
            "/usr/local/lib/python3.10/dist-packages/optuna/distributions.py:524: UserWarning: Choices for a categorical distribution should be a tuple of None, bool, int, float and str for persistent storage but contains (100,) which is of type tuple.\n",
            "  warnings.warn(message)\n",
            "/usr/local/lib/python3.10/dist-packages/optuna/distributions.py:524: UserWarning: Choices for a categorical distribution should be a tuple of None, bool, int, float and str for persistent storage but contains (150,) which is of type tuple.\n",
            "  warnings.warn(message)\n",
            "[I 2024-06-10 10:30:53,712] Trial 50 finished with value: 0.7597765363128491 and parameters: {'hidden_layer_sizes': (150,), 'alpha': 5.750672506200665e-05, 'learning_rate_init': 0.0024618239894048637}. Best is trial 42 with value: 0.7895716945996275.\n",
            "/usr/local/lib/python3.10/dist-packages/optuna/distributions.py:524: UserWarning: Choices for a categorical distribution should be a tuple of None, bool, int, float and str for persistent storage but contains (50,) which is of type tuple.\n",
            "  warnings.warn(message)\n",
            "/usr/local/lib/python3.10/dist-packages/optuna/distributions.py:524: UserWarning: Choices for a categorical distribution should be a tuple of None, bool, int, float and str for persistent storage but contains (100,) which is of type tuple.\n",
            "  warnings.warn(message)\n",
            "/usr/local/lib/python3.10/dist-packages/optuna/distributions.py:524: UserWarning: Choices for a categorical distribution should be a tuple of None, bool, int, float and str for persistent storage but contains (150,) which is of type tuple.\n",
            "  warnings.warn(message)\n",
            "[I 2024-06-10 10:30:55,015] Trial 51 finished with value: 0.7802607076350093 and parameters: {'hidden_layer_sizes': (150,), 'alpha': 0.005420116249404349, 'learning_rate_init': 0.0002363343053013299}. Best is trial 42 with value: 0.7895716945996275.\n",
            "/usr/local/lib/python3.10/dist-packages/optuna/distributions.py:524: UserWarning: Choices for a categorical distribution should be a tuple of None, bool, int, float and str for persistent storage but contains (50,) which is of type tuple.\n",
            "  warnings.warn(message)\n",
            "/usr/local/lib/python3.10/dist-packages/optuna/distributions.py:524: UserWarning: Choices for a categorical distribution should be a tuple of None, bool, int, float and str for persistent storage but contains (100,) which is of type tuple.\n",
            "  warnings.warn(message)\n",
            "/usr/local/lib/python3.10/dist-packages/optuna/distributions.py:524: UserWarning: Choices for a categorical distribution should be a tuple of None, bool, int, float and str for persistent storage but contains (150,) which is of type tuple.\n",
            "  warnings.warn(message)\n",
            "[I 2024-06-10 10:30:56,322] Trial 52 finished with value: 0.7802607076350094 and parameters: {'hidden_layer_sizes': (150,), 'alpha': 0.02196749096468255, 'learning_rate_init': 0.0004909861220006158}. Best is trial 42 with value: 0.7895716945996275.\n",
            "/usr/local/lib/python3.10/dist-packages/optuna/distributions.py:524: UserWarning: Choices for a categorical distribution should be a tuple of None, bool, int, float and str for persistent storage but contains (50,) which is of type tuple.\n",
            "  warnings.warn(message)\n",
            "/usr/local/lib/python3.10/dist-packages/optuna/distributions.py:524: UserWarning: Choices for a categorical distribution should be a tuple of None, bool, int, float and str for persistent storage but contains (100,) which is of type tuple.\n",
            "  warnings.warn(message)\n",
            "/usr/local/lib/python3.10/dist-packages/optuna/distributions.py:524: UserWarning: Choices for a categorical distribution should be a tuple of None, bool, int, float and str for persistent storage but contains (150,) which is of type tuple.\n",
            "  warnings.warn(message)\n",
            "[I 2024-06-10 10:30:57,641] Trial 53 finished with value: 0.7877094972067038 and parameters: {'hidden_layer_sizes': (150,), 'alpha': 0.0029694253415152795, 'learning_rate_init': 0.000671963686787837}. Best is trial 42 with value: 0.7895716945996275.\n",
            "/usr/local/lib/python3.10/dist-packages/optuna/distributions.py:524: UserWarning: Choices for a categorical distribution should be a tuple of None, bool, int, float and str for persistent storage but contains (50,) which is of type tuple.\n",
            "  warnings.warn(message)\n",
            "/usr/local/lib/python3.10/dist-packages/optuna/distributions.py:524: UserWarning: Choices for a categorical distribution should be a tuple of None, bool, int, float and str for persistent storage but contains (100,) which is of type tuple.\n",
            "  warnings.warn(message)\n",
            "/usr/local/lib/python3.10/dist-packages/optuna/distributions.py:524: UserWarning: Choices for a categorical distribution should be a tuple of None, bool, int, float and str for persistent storage but contains (150,) which is of type tuple.\n",
            "  warnings.warn(message)\n",
            "[I 2024-06-10 10:30:58,930] Trial 54 finished with value: 0.7877094972067038 and parameters: {'hidden_layer_sizes': (150,), 'alpha': 1.6443554989460738e-05, 'learning_rate_init': 0.0006413794458591719}. Best is trial 42 with value: 0.7895716945996275.\n",
            "/usr/local/lib/python3.10/dist-packages/optuna/distributions.py:524: UserWarning: Choices for a categorical distribution should be a tuple of None, bool, int, float and str for persistent storage but contains (50,) which is of type tuple.\n",
            "  warnings.warn(message)\n",
            "/usr/local/lib/python3.10/dist-packages/optuna/distributions.py:524: UserWarning: Choices for a categorical distribution should be a tuple of None, bool, int, float and str for persistent storage but contains (100,) which is of type tuple.\n",
            "  warnings.warn(message)\n",
            "/usr/local/lib/python3.10/dist-packages/optuna/distributions.py:524: UserWarning: Choices for a categorical distribution should be a tuple of None, bool, int, float and str for persistent storage but contains (150,) which is of type tuple.\n",
            "  warnings.warn(message)\n",
            "[I 2024-06-10 10:31:00,231] Trial 55 finished with value: 0.7895716945996275 and parameters: {'hidden_layer_sizes': (150,), 'alpha': 1.758908565387799e-05, 'learning_rate_init': 0.0007017358868057329}. Best is trial 42 with value: 0.7895716945996275.\n",
            "/usr/local/lib/python3.10/dist-packages/optuna/distributions.py:524: UserWarning: Choices for a categorical distribution should be a tuple of None, bool, int, float and str for persistent storage but contains (50,) which is of type tuple.\n",
            "  warnings.warn(message)\n",
            "/usr/local/lib/python3.10/dist-packages/optuna/distributions.py:524: UserWarning: Choices for a categorical distribution should be a tuple of None, bool, int, float and str for persistent storage but contains (100,) which is of type tuple.\n",
            "  warnings.warn(message)\n",
            "/usr/local/lib/python3.10/dist-packages/optuna/distributions.py:524: UserWarning: Choices for a categorical distribution should be a tuple of None, bool, int, float and str for persistent storage but contains (150,) which is of type tuple.\n",
            "  warnings.warn(message)\n",
            "[I 2024-06-10 10:31:00,635] Trial 56 finished with value: 0.7188081936685289 and parameters: {'hidden_layer_sizes': (100,), 'alpha': 2.0967953922992136e-05, 'learning_rate_init': 0.04850416969674758}. Best is trial 42 with value: 0.7895716945996275.\n",
            "/usr/local/lib/python3.10/dist-packages/optuna/distributions.py:524: UserWarning: Choices for a categorical distribution should be a tuple of None, bool, int, float and str for persistent storage but contains (50,) which is of type tuple.\n",
            "  warnings.warn(message)\n",
            "/usr/local/lib/python3.10/dist-packages/optuna/distributions.py:524: UserWarning: Choices for a categorical distribution should be a tuple of None, bool, int, float and str for persistent storage but contains (100,) which is of type tuple.\n",
            "  warnings.warn(message)\n",
            "/usr/local/lib/python3.10/dist-packages/optuna/distributions.py:524: UserWarning: Choices for a categorical distribution should be a tuple of None, bool, int, float and str for persistent storage but contains (150,) which is of type tuple.\n",
            "  warnings.warn(message)\n",
            "[I 2024-06-10 10:31:02,239] Trial 57 finished with value: 0.7877094972067038 and parameters: {'hidden_layer_sizes': (150,), 'alpha': 1.4278792700035337e-05, 'learning_rate_init': 0.000658593993090274}. Best is trial 42 with value: 0.7895716945996275.\n",
            "/usr/local/lib/python3.10/dist-packages/optuna/distributions.py:524: UserWarning: Choices for a categorical distribution should be a tuple of None, bool, int, float and str for persistent storage but contains (50,) which is of type tuple.\n",
            "  warnings.warn(message)\n",
            "/usr/local/lib/python3.10/dist-packages/optuna/distributions.py:524: UserWarning: Choices for a categorical distribution should be a tuple of None, bool, int, float and str for persistent storage but contains (100,) which is of type tuple.\n",
            "  warnings.warn(message)\n",
            "/usr/local/lib/python3.10/dist-packages/optuna/distributions.py:524: UserWarning: Choices for a categorical distribution should be a tuple of None, bool, int, float and str for persistent storage but contains (150,) which is of type tuple.\n",
            "  warnings.warn(message)\n",
            "[I 2024-06-10 10:31:04,285] Trial 58 finished with value: 0.7709497206703911 and parameters: {'hidden_layer_sizes': (150,), 'alpha': 2.8710712347485823e-05, 'learning_rate_init': 0.0013635027871068976}. Best is trial 42 with value: 0.7895716945996275.\n",
            "/usr/local/lib/python3.10/dist-packages/optuna/distributions.py:524: UserWarning: Choices for a categorical distribution should be a tuple of None, bool, int, float and str for persistent storage but contains (50,) which is of type tuple.\n",
            "  warnings.warn(message)\n",
            "/usr/local/lib/python3.10/dist-packages/optuna/distributions.py:524: UserWarning: Choices for a categorical distribution should be a tuple of None, bool, int, float and str for persistent storage but contains (100,) which is of type tuple.\n",
            "  warnings.warn(message)\n",
            "/usr/local/lib/python3.10/dist-packages/optuna/distributions.py:524: UserWarning: Choices for a categorical distribution should be a tuple of None, bool, int, float and str for persistent storage but contains (150,) which is of type tuple.\n",
            "  warnings.warn(message)\n",
            "[I 2024-06-10 10:31:06,351] Trial 59 finished with value: 0.7728119180633147 and parameters: {'hidden_layer_sizes': (150,), 'alpha': 1.5665129197998857e-05, 'learning_rate_init': 0.0003019502879096157}. Best is trial 42 with value: 0.7895716945996275.\n",
            "/usr/local/lib/python3.10/dist-packages/optuna/distributions.py:524: UserWarning: Choices for a categorical distribution should be a tuple of None, bool, int, float and str for persistent storage but contains (50,) which is of type tuple.\n",
            "  warnings.warn(message)\n",
            "/usr/local/lib/python3.10/dist-packages/optuna/distributions.py:524: UserWarning: Choices for a categorical distribution should be a tuple of None, bool, int, float and str for persistent storage but contains (100,) which is of type tuple.\n",
            "  warnings.warn(message)\n",
            "/usr/local/lib/python3.10/dist-packages/optuna/distributions.py:524: UserWarning: Choices for a categorical distribution should be a tuple of None, bool, int, float and str for persistent storage but contains (150,) which is of type tuple.\n",
            "  warnings.warn(message)\n",
            "[I 2024-06-10 10:31:08,119] Trial 60 finished with value: 0.7783985102420857 and parameters: {'hidden_layer_sizes': (150,), 'alpha': 5.280758545465824e-05, 'learning_rate_init': 0.0010479518096021393}. Best is trial 42 with value: 0.7895716945996275.\n",
            "/usr/local/lib/python3.10/dist-packages/optuna/distributions.py:524: UserWarning: Choices for a categorical distribution should be a tuple of None, bool, int, float and str for persistent storage but contains (50,) which is of type tuple.\n",
            "  warnings.warn(message)\n",
            "/usr/local/lib/python3.10/dist-packages/optuna/distributions.py:524: UserWarning: Choices for a categorical distribution should be a tuple of None, bool, int, float and str for persistent storage but contains (100,) which is of type tuple.\n",
            "  warnings.warn(message)\n",
            "/usr/local/lib/python3.10/dist-packages/optuna/distributions.py:524: UserWarning: Choices for a categorical distribution should be a tuple of None, bool, int, float and str for persistent storage but contains (150,) which is of type tuple.\n",
            "  warnings.warn(message)\n",
            "[I 2024-06-10 10:31:09,414] Trial 61 finished with value: 0.7877094972067038 and parameters: {'hidden_layer_sizes': (150,), 'alpha': 1.5128596265717947e-05, 'learning_rate_init': 0.0006996766589561503}. Best is trial 42 with value: 0.7895716945996275.\n",
            "/usr/local/lib/python3.10/dist-packages/optuna/distributions.py:524: UserWarning: Choices for a categorical distribution should be a tuple of None, bool, int, float and str for persistent storage but contains (50,) which is of type tuple.\n",
            "  warnings.warn(message)\n",
            "/usr/local/lib/python3.10/dist-packages/optuna/distributions.py:524: UserWarning: Choices for a categorical distribution should be a tuple of None, bool, int, float and str for persistent storage but contains (100,) which is of type tuple.\n",
            "  warnings.warn(message)\n",
            "/usr/local/lib/python3.10/dist-packages/optuna/distributions.py:524: UserWarning: Choices for a categorical distribution should be a tuple of None, bool, int, float and str for persistent storage but contains (150,) which is of type tuple.\n",
            "  warnings.warn(message)\n",
            "[I 2024-06-10 10:31:10,729] Trial 62 finished with value: 0.7877094972067038 and parameters: {'hidden_layer_sizes': (150,), 'alpha': 1.6059780926629115e-05, 'learning_rate_init': 0.0006574660732697149}. Best is trial 42 with value: 0.7895716945996275.\n",
            "/usr/local/lib/python3.10/dist-packages/optuna/distributions.py:524: UserWarning: Choices for a categorical distribution should be a tuple of None, bool, int, float and str for persistent storage but contains (50,) which is of type tuple.\n",
            "  warnings.warn(message)\n",
            "/usr/local/lib/python3.10/dist-packages/optuna/distributions.py:524: UserWarning: Choices for a categorical distribution should be a tuple of None, bool, int, float and str for persistent storage but contains (100,) which is of type tuple.\n",
            "  warnings.warn(message)\n",
            "/usr/local/lib/python3.10/dist-packages/optuna/distributions.py:524: UserWarning: Choices for a categorical distribution should be a tuple of None, bool, int, float and str for persistent storage but contains (150,) which is of type tuple.\n",
            "  warnings.warn(message)\n",
            "[I 2024-06-10 10:31:12,051] Trial 63 finished with value: 0.7877094972067038 and parameters: {'hidden_layer_sizes': (150,), 'alpha': 1.539607280965113e-05, 'learning_rate_init': 0.0007199885228243146}. Best is trial 42 with value: 0.7895716945996275.\n",
            "/usr/local/lib/python3.10/dist-packages/optuna/distributions.py:524: UserWarning: Choices for a categorical distribution should be a tuple of None, bool, int, float and str for persistent storage but contains (50,) which is of type tuple.\n",
            "  warnings.warn(message)\n",
            "/usr/local/lib/python3.10/dist-packages/optuna/distributions.py:524: UserWarning: Choices for a categorical distribution should be a tuple of None, bool, int, float and str for persistent storage but contains (100,) which is of type tuple.\n",
            "  warnings.warn(message)\n",
            "/usr/local/lib/python3.10/dist-packages/optuna/distributions.py:524: UserWarning: Choices for a categorical distribution should be a tuple of None, bool, int, float and str for persistent storage but contains (150,) which is of type tuple.\n",
            "  warnings.warn(message)\n",
            "[I 2024-06-10 10:31:13,346] Trial 64 finished with value: 0.7690875232774674 and parameters: {'hidden_layer_sizes': (150,), 'alpha': 2.875257628707277e-05, 'learning_rate_init': 0.0016139438907282226}. Best is trial 42 with value: 0.7895716945996275.\n",
            "/usr/local/lib/python3.10/dist-packages/optuna/distributions.py:524: UserWarning: Choices for a categorical distribution should be a tuple of None, bool, int, float and str for persistent storage but contains (50,) which is of type tuple.\n",
            "  warnings.warn(message)\n",
            "/usr/local/lib/python3.10/dist-packages/optuna/distributions.py:524: UserWarning: Choices for a categorical distribution should be a tuple of None, bool, int, float and str for persistent storage but contains (100,) which is of type tuple.\n",
            "  warnings.warn(message)\n",
            "/usr/local/lib/python3.10/dist-packages/optuna/distributions.py:524: UserWarning: Choices for a categorical distribution should be a tuple of None, bool, int, float and str for persistent storage but contains (150,) which is of type tuple.\n",
            "  warnings.warn(message)\n",
            "[I 2024-06-10 10:31:14,668] Trial 65 finished with value: 0.7765363128491621 and parameters: {'hidden_layer_sizes': (150,), 'alpha': 1.0026724312671151e-05, 'learning_rate_init': 0.0004034662660265317}. Best is trial 42 with value: 0.7895716945996275.\n",
            "/usr/local/lib/python3.10/dist-packages/optuna/distributions.py:524: UserWarning: Choices for a categorical distribution should be a tuple of None, bool, int, float and str for persistent storage but contains (50,) which is of type tuple.\n",
            "  warnings.warn(message)\n",
            "/usr/local/lib/python3.10/dist-packages/optuna/distributions.py:524: UserWarning: Choices for a categorical distribution should be a tuple of None, bool, int, float and str for persistent storage but contains (100,) which is of type tuple.\n",
            "  warnings.warn(message)\n",
            "/usr/local/lib/python3.10/dist-packages/optuna/distributions.py:524: UserWarning: Choices for a categorical distribution should be a tuple of None, bool, int, float and str for persistent storage but contains (150,) which is of type tuple.\n",
            "  warnings.warn(message)\n",
            "[I 2024-06-10 10:31:15,940] Trial 66 finished with value: 0.7355679702048418 and parameters: {'hidden_layer_sizes': (150,), 'alpha': 1.6391533895396873e-05, 'learning_rate_init': 0.01079113928428497}. Best is trial 42 with value: 0.7895716945996275.\n",
            "/usr/local/lib/python3.10/dist-packages/optuna/distributions.py:524: UserWarning: Choices for a categorical distribution should be a tuple of None, bool, int, float and str for persistent storage but contains (50,) which is of type tuple.\n",
            "  warnings.warn(message)\n",
            "/usr/local/lib/python3.10/dist-packages/optuna/distributions.py:524: UserWarning: Choices for a categorical distribution should be a tuple of None, bool, int, float and str for persistent storage but contains (100,) which is of type tuple.\n",
            "  warnings.warn(message)\n",
            "/usr/local/lib/python3.10/dist-packages/optuna/distributions.py:524: UserWarning: Choices for a categorical distribution should be a tuple of None, bool, int, float and str for persistent storage but contains (150,) which is of type tuple.\n",
            "  warnings.warn(message)\n",
            "[I 2024-06-10 10:31:17,023] Trial 67 finished with value: 0.7597765363128491 and parameters: {'hidden_layer_sizes': (100,), 'alpha': 4.10345905915753e-05, 'learning_rate_init': 0.000951611593145082}. Best is trial 42 with value: 0.7895716945996275.\n",
            "/usr/local/lib/python3.10/dist-packages/optuna/distributions.py:524: UserWarning: Choices for a categorical distribution should be a tuple of None, bool, int, float and str for persistent storage but contains (50,) which is of type tuple.\n",
            "  warnings.warn(message)\n",
            "/usr/local/lib/python3.10/dist-packages/optuna/distributions.py:524: UserWarning: Choices for a categorical distribution should be a tuple of None, bool, int, float and str for persistent storage but contains (100,) which is of type tuple.\n",
            "  warnings.warn(message)\n",
            "/usr/local/lib/python3.10/dist-packages/optuna/distributions.py:524: UserWarning: Choices for a categorical distribution should be a tuple of None, bool, int, float and str for persistent storage but contains (150,) which is of type tuple.\n",
            "  warnings.warn(message)\n",
            "[I 2024-06-10 10:31:18,731] Trial 68 finished with value: 0.7858472998137803 and parameters: {'hidden_layer_sizes': (150,), 'alpha': 2.293152636537422e-05, 'learning_rate_init': 0.0006737912711556686}. Best is trial 42 with value: 0.7895716945996275.\n",
            "/usr/local/lib/python3.10/dist-packages/optuna/distributions.py:524: UserWarning: Choices for a categorical distribution should be a tuple of None, bool, int, float and str for persistent storage but contains (50,) which is of type tuple.\n",
            "  warnings.warn(message)\n",
            "/usr/local/lib/python3.10/dist-packages/optuna/distributions.py:524: UserWarning: Choices for a categorical distribution should be a tuple of None, bool, int, float and str for persistent storage but contains (100,) which is of type tuple.\n",
            "  warnings.warn(message)\n",
            "/usr/local/lib/python3.10/dist-packages/optuna/distributions.py:524: UserWarning: Choices for a categorical distribution should be a tuple of None, bool, int, float and str for persistent storage but contains (150,) which is of type tuple.\n",
            "  warnings.warn(message)\n",
            "[I 2024-06-10 10:31:19,980] Trial 69 finished with value: 0.7597765363128491 and parameters: {'hidden_layer_sizes': (50,), 'alpha': 8.308628738310836e-05, 'learning_rate_init': 0.0013151197511017832}. Best is trial 42 with value: 0.7895716945996275.\n",
            "/usr/local/lib/python3.10/dist-packages/optuna/distributions.py:524: UserWarning: Choices for a categorical distribution should be a tuple of None, bool, int, float and str for persistent storage but contains (50,) which is of type tuple.\n",
            "  warnings.warn(message)\n",
            "/usr/local/lib/python3.10/dist-packages/optuna/distributions.py:524: UserWarning: Choices for a categorical distribution should be a tuple of None, bool, int, float and str for persistent storage but contains (100,) which is of type tuple.\n",
            "  warnings.warn(message)\n",
            "/usr/local/lib/python3.10/dist-packages/optuna/distributions.py:524: UserWarning: Choices for a categorical distribution should be a tuple of None, bool, int, float and str for persistent storage but contains (150,) which is of type tuple.\n",
            "  warnings.warn(message)\n",
            "[I 2024-06-10 10:31:22,099] Trial 70 finished with value: 0.7746741154562384 and parameters: {'hidden_layer_sizes': (150,), 'alpha': 1.3134372352523382e-05, 'learning_rate_init': 0.00028181861568856787}. Best is trial 42 with value: 0.7895716945996275.\n",
            "/usr/local/lib/python3.10/dist-packages/optuna/distributions.py:524: UserWarning: Choices for a categorical distribution should be a tuple of None, bool, int, float and str for persistent storage but contains (50,) which is of type tuple.\n",
            "  warnings.warn(message)\n",
            "/usr/local/lib/python3.10/dist-packages/optuna/distributions.py:524: UserWarning: Choices for a categorical distribution should be a tuple of None, bool, int, float and str for persistent storage but contains (100,) which is of type tuple.\n",
            "  warnings.warn(message)\n",
            "/usr/local/lib/python3.10/dist-packages/optuna/distributions.py:524: UserWarning: Choices for a categorical distribution should be a tuple of None, bool, int, float and str for persistent storage but contains (150,) which is of type tuple.\n",
            "  warnings.warn(message)\n",
            "[I 2024-06-10 10:31:24,040] Trial 71 finished with value: 0.7821229050279329 and parameters: {'hidden_layer_sizes': (150,), 'alpha': 1.6450339513632137e-05, 'learning_rate_init': 0.0007820260262675534}. Best is trial 42 with value: 0.7895716945996275.\n",
            "/usr/local/lib/python3.10/dist-packages/optuna/distributions.py:524: UserWarning: Choices for a categorical distribution should be a tuple of None, bool, int, float and str for persistent storage but contains (50,) which is of type tuple.\n",
            "  warnings.warn(message)\n",
            "/usr/local/lib/python3.10/dist-packages/optuna/distributions.py:524: UserWarning: Choices for a categorical distribution should be a tuple of None, bool, int, float and str for persistent storage but contains (100,) which is of type tuple.\n",
            "  warnings.warn(message)\n",
            "/usr/local/lib/python3.10/dist-packages/optuna/distributions.py:524: UserWarning: Choices for a categorical distribution should be a tuple of None, bool, int, float and str for persistent storage but contains (150,) which is of type tuple.\n",
            "  warnings.warn(message)\n",
            "[I 2024-06-10 10:31:25,352] Trial 72 finished with value: 0.7877094972067038 and parameters: {'hidden_layer_sizes': (150,), 'alpha': 1.3441509190623834e-05, 'learning_rate_init': 0.0006741500972264315}. Best is trial 42 with value: 0.7895716945996275.\n",
            "/usr/local/lib/python3.10/dist-packages/optuna/distributions.py:524: UserWarning: Choices for a categorical distribution should be a tuple of None, bool, int, float and str for persistent storage but contains (50,) which is of type tuple.\n",
            "  warnings.warn(message)\n",
            "/usr/local/lib/python3.10/dist-packages/optuna/distributions.py:524: UserWarning: Choices for a categorical distribution should be a tuple of None, bool, int, float and str for persistent storage but contains (100,) which is of type tuple.\n",
            "  warnings.warn(message)\n",
            "/usr/local/lib/python3.10/dist-packages/optuna/distributions.py:524: UserWarning: Choices for a categorical distribution should be a tuple of None, bool, int, float and str for persistent storage but contains (150,) which is of type tuple.\n",
            "  warnings.warn(message)\n",
            "[I 2024-06-10 10:31:26,659] Trial 73 finished with value: 0.7802607076350094 and parameters: {'hidden_layer_sizes': (150,), 'alpha': 3.324494636572096e-05, 'learning_rate_init': 0.0004347818419404438}. Best is trial 42 with value: 0.7895716945996275.\n",
            "/usr/local/lib/python3.10/dist-packages/optuna/distributions.py:524: UserWarning: Choices for a categorical distribution should be a tuple of None, bool, int, float and str for persistent storage but contains (50,) which is of type tuple.\n",
            "  warnings.warn(message)\n",
            "/usr/local/lib/python3.10/dist-packages/optuna/distributions.py:524: UserWarning: Choices for a categorical distribution should be a tuple of None, bool, int, float and str for persistent storage but contains (100,) which is of type tuple.\n",
            "  warnings.warn(message)\n",
            "/usr/local/lib/python3.10/dist-packages/optuna/distributions.py:524: UserWarning: Choices for a categorical distribution should be a tuple of None, bool, int, float and str for persistent storage but contains (150,) which is of type tuple.\n",
            "  warnings.warn(message)\n",
            "[I 2024-06-10 10:31:27,963] Trial 74 finished with value: 0.7579143389199254 and parameters: {'hidden_layer_sizes': (150,), 'alpha': 1.9204158113282342e-05, 'learning_rate_init': 0.0020975754106161222}. Best is trial 42 with value: 0.7895716945996275.\n",
            "/usr/local/lib/python3.10/dist-packages/optuna/distributions.py:524: UserWarning: Choices for a categorical distribution should be a tuple of None, bool, int, float and str for persistent storage but contains (50,) which is of type tuple.\n",
            "  warnings.warn(message)\n",
            "/usr/local/lib/python3.10/dist-packages/optuna/distributions.py:524: UserWarning: Choices for a categorical distribution should be a tuple of None, bool, int, float and str for persistent storage but contains (100,) which is of type tuple.\n",
            "  warnings.warn(message)\n",
            "/usr/local/lib/python3.10/dist-packages/optuna/distributions.py:524: UserWarning: Choices for a categorical distribution should be a tuple of None, bool, int, float and str for persistent storage but contains (150,) which is of type tuple.\n",
            "  warnings.warn(message)\n",
            "[I 2024-06-10 10:31:29,268] Trial 75 finished with value: 0.7765363128491621 and parameters: {'hidden_layer_sizes': (150,), 'alpha': 2.5924830131184914e-05, 'learning_rate_init': 0.0003581690439418072}. Best is trial 42 with value: 0.7895716945996275.\n",
            "/usr/local/lib/python3.10/dist-packages/optuna/distributions.py:524: UserWarning: Choices for a categorical distribution should be a tuple of None, bool, int, float and str for persistent storage but contains (50,) which is of type tuple.\n",
            "  warnings.warn(message)\n",
            "/usr/local/lib/python3.10/dist-packages/optuna/distributions.py:524: UserWarning: Choices for a categorical distribution should be a tuple of None, bool, int, float and str for persistent storage but contains (100,) which is of type tuple.\n",
            "  warnings.warn(message)\n",
            "/usr/local/lib/python3.10/dist-packages/optuna/distributions.py:524: UserWarning: Choices for a categorical distribution should be a tuple of None, bool, int, float and str for persistent storage but contains (150,) which is of type tuple.\n",
            "  warnings.warn(message)\n",
            "[I 2024-06-10 10:31:30,568] Trial 76 finished with value: 0.7877094972067038 and parameters: {'hidden_layer_sizes': (150,), 'alpha': 4.4980352804363164e-05, 'learning_rate_init': 0.0005935043192018216}. Best is trial 42 with value: 0.7895716945996275.\n",
            "/usr/local/lib/python3.10/dist-packages/optuna/distributions.py:524: UserWarning: Choices for a categorical distribution should be a tuple of None, bool, int, float and str for persistent storage but contains (50,) which is of type tuple.\n",
            "  warnings.warn(message)\n",
            "/usr/local/lib/python3.10/dist-packages/optuna/distributions.py:524: UserWarning: Choices for a categorical distribution should be a tuple of None, bool, int, float and str for persistent storage but contains (100,) which is of type tuple.\n",
            "  warnings.warn(message)\n",
            "/usr/local/lib/python3.10/dist-packages/optuna/distributions.py:524: UserWarning: Choices for a categorical distribution should be a tuple of None, bool, int, float and str for persistent storage but contains (150,) which is of type tuple.\n",
            "  warnings.warn(message)\n",
            "[I 2024-06-10 10:31:31,882] Trial 77 finished with value: 0.7765363128491621 and parameters: {'hidden_layer_sizes': (150,), 'alpha': 1.36730252060716e-05, 'learning_rate_init': 0.0009754460967910863}. Best is trial 42 with value: 0.7895716945996275.\n",
            "/usr/local/lib/python3.10/dist-packages/optuna/distributions.py:524: UserWarning: Choices for a categorical distribution should be a tuple of None, bool, int, float and str for persistent storage but contains (50,) which is of type tuple.\n",
            "  warnings.warn(message)\n",
            "/usr/local/lib/python3.10/dist-packages/optuna/distributions.py:524: UserWarning: Choices for a categorical distribution should be a tuple of None, bool, int, float and str for persistent storage but contains (100,) which is of type tuple.\n",
            "  warnings.warn(message)\n",
            "/usr/local/lib/python3.10/dist-packages/optuna/distributions.py:524: UserWarning: Choices for a categorical distribution should be a tuple of None, bool, int, float and str for persistent storage but contains (150,) which is of type tuple.\n",
            "  warnings.warn(message)\n",
            "[I 2024-06-10 10:31:33,165] Trial 78 finished with value: 0.7802607076350094 and parameters: {'hidden_layer_sizes': (150,), 'alpha': 1.0837558875925603e-05, 'learning_rate_init': 0.0004660072452453865}. Best is trial 42 with value: 0.7895716945996275.\n",
            "/usr/local/lib/python3.10/dist-packages/optuna/distributions.py:524: UserWarning: Choices for a categorical distribution should be a tuple of None, bool, int, float and str for persistent storage but contains (50,) which is of type tuple.\n",
            "  warnings.warn(message)\n",
            "/usr/local/lib/python3.10/dist-packages/optuna/distributions.py:524: UserWarning: Choices for a categorical distribution should be a tuple of None, bool, int, float and str for persistent storage but contains (100,) which is of type tuple.\n",
            "  warnings.warn(message)\n",
            "/usr/local/lib/python3.10/dist-packages/optuna/distributions.py:524: UserWarning: Choices for a categorical distribution should be a tuple of None, bool, int, float and str for persistent storage but contains (150,) which is of type tuple.\n",
            "  warnings.warn(message)\n",
            "[I 2024-06-10 10:31:35,062] Trial 79 finished with value: 0.7858472998137801 and parameters: {'hidden_layer_sizes': (150,), 'alpha': 1.8936191742652995e-05, 'learning_rate_init': 0.0007514916471945624}. Best is trial 42 with value: 0.7895716945996275.\n",
            "/usr/local/lib/python3.10/dist-packages/optuna/distributions.py:524: UserWarning: Choices for a categorical distribution should be a tuple of None, bool, int, float and str for persistent storage but contains (50,) which is of type tuple.\n",
            "  warnings.warn(message)\n",
            "/usr/local/lib/python3.10/dist-packages/optuna/distributions.py:524: UserWarning: Choices for a categorical distribution should be a tuple of None, bool, int, float and str for persistent storage but contains (100,) which is of type tuple.\n",
            "  warnings.warn(message)\n",
            "/usr/local/lib/python3.10/dist-packages/optuna/distributions.py:524: UserWarning: Choices for a categorical distribution should be a tuple of None, bool, int, float and str for persistent storage but contains (150,) which is of type tuple.\n",
            "  warnings.warn(message)\n",
            "[I 2024-06-10 10:31:37,136] Trial 80 finished with value: 0.7653631284916201 and parameters: {'hidden_layer_sizes': (150,), 'alpha': 6.687658210245866e-05, 'learning_rate_init': 0.0014660382013332186}. Best is trial 42 with value: 0.7895716945996275.\n",
            "/usr/local/lib/python3.10/dist-packages/optuna/distributions.py:524: UserWarning: Choices for a categorical distribution should be a tuple of None, bool, int, float and str for persistent storage but contains (50,) which is of type tuple.\n",
            "  warnings.warn(message)\n",
            "/usr/local/lib/python3.10/dist-packages/optuna/distributions.py:524: UserWarning: Choices for a categorical distribution should be a tuple of None, bool, int, float and str for persistent storage but contains (100,) which is of type tuple.\n",
            "  warnings.warn(message)\n",
            "/usr/local/lib/python3.10/dist-packages/optuna/distributions.py:524: UserWarning: Choices for a categorical distribution should be a tuple of None, bool, int, float and str for persistent storage but contains (150,) which is of type tuple.\n",
            "  warnings.warn(message)\n",
            "[I 2024-06-10 10:31:39,417] Trial 81 finished with value: 0.7877094972067038 and parameters: {'hidden_layer_sizes': (150,), 'alpha': 1.4294237504566721e-05, 'learning_rate_init': 0.0006840741687106521}. Best is trial 42 with value: 0.7895716945996275.\n",
            "/usr/local/lib/python3.10/dist-packages/optuna/distributions.py:524: UserWarning: Choices for a categorical distribution should be a tuple of None, bool, int, float and str for persistent storage but contains (50,) which is of type tuple.\n",
            "  warnings.warn(message)\n",
            "/usr/local/lib/python3.10/dist-packages/optuna/distributions.py:524: UserWarning: Choices for a categorical distribution should be a tuple of None, bool, int, float and str for persistent storage but contains (100,) which is of type tuple.\n",
            "  warnings.warn(message)\n",
            "/usr/local/lib/python3.10/dist-packages/optuna/distributions.py:524: UserWarning: Choices for a categorical distribution should be a tuple of None, bool, int, float and str for persistent storage but contains (150,) which is of type tuple.\n",
            "  warnings.warn(message)\n",
            "[I 2024-06-10 10:31:40,770] Trial 82 finished with value: 0.7877094972067038 and parameters: {'hidden_layer_sizes': (150,), 'alpha': 3.2554170143831004e-05, 'learning_rate_init': 0.000589670894608105}. Best is trial 42 with value: 0.7895716945996275.\n",
            "/usr/local/lib/python3.10/dist-packages/optuna/distributions.py:524: UserWarning: Choices for a categorical distribution should be a tuple of None, bool, int, float and str for persistent storage but contains (50,) which is of type tuple.\n",
            "  warnings.warn(message)\n",
            "/usr/local/lib/python3.10/dist-packages/optuna/distributions.py:524: UserWarning: Choices for a categorical distribution should be a tuple of None, bool, int, float and str for persistent storage but contains (100,) which is of type tuple.\n",
            "  warnings.warn(message)\n",
            "/usr/local/lib/python3.10/dist-packages/optuna/distributions.py:524: UserWarning: Choices for a categorical distribution should be a tuple of None, bool, int, float and str for persistent storage but contains (150,) which is of type tuple.\n",
            "  warnings.warn(message)\n",
            "[I 2024-06-10 10:31:42,113] Trial 83 finished with value: 0.7765363128491621 and parameters: {'hidden_layer_sizes': (150,), 'alpha': 1.2351025508073141e-05, 'learning_rate_init': 0.0011651958398940802}. Best is trial 42 with value: 0.7895716945996275.\n",
            "/usr/local/lib/python3.10/dist-packages/optuna/distributions.py:524: UserWarning: Choices for a categorical distribution should be a tuple of None, bool, int, float and str for persistent storage but contains (50,) which is of type tuple.\n",
            "  warnings.warn(message)\n",
            "/usr/local/lib/python3.10/dist-packages/optuna/distributions.py:524: UserWarning: Choices for a categorical distribution should be a tuple of None, bool, int, float and str for persistent storage but contains (100,) which is of type tuple.\n",
            "  warnings.warn(message)\n",
            "/usr/local/lib/python3.10/dist-packages/optuna/distributions.py:524: UserWarning: Choices for a categorical distribution should be a tuple of None, bool, int, float and str for persistent storage but contains (150,) which is of type tuple.\n",
            "  warnings.warn(message)\n",
            "[I 2024-06-10 10:31:43,427] Trial 84 finished with value: 0.7746741154562384 and parameters: {'hidden_layer_sizes': (150,), 'alpha': 2.4452196508602148e-05, 'learning_rate_init': 0.0008802548969013895}. Best is trial 42 with value: 0.7895716945996275.\n",
            "/usr/local/lib/python3.10/dist-packages/optuna/distributions.py:524: UserWarning: Choices for a categorical distribution should be a tuple of None, bool, int, float and str for persistent storage but contains (50,) which is of type tuple.\n",
            "  warnings.warn(message)\n",
            "/usr/local/lib/python3.10/dist-packages/optuna/distributions.py:524: UserWarning: Choices for a categorical distribution should be a tuple of None, bool, int, float and str for persistent storage but contains (100,) which is of type tuple.\n",
            "  warnings.warn(message)\n",
            "/usr/local/lib/python3.10/dist-packages/optuna/distributions.py:524: UserWarning: Choices for a categorical distribution should be a tuple of None, bool, int, float and str for persistent storage but contains (150,) which is of type tuple.\n",
            "  warnings.warn(message)\n",
            "[I 2024-06-10 10:31:44,232] Trial 85 finished with value: 0.7728119180633147 and parameters: {'hidden_layer_sizes': (50,), 'alpha': 0.000735366698935695, 'learning_rate_init': 0.000327728566893634}. Best is trial 42 with value: 0.7895716945996275.\n",
            "/usr/local/lib/python3.10/dist-packages/optuna/distributions.py:524: UserWarning: Choices for a categorical distribution should be a tuple of None, bool, int, float and str for persistent storage but contains (50,) which is of type tuple.\n",
            "  warnings.warn(message)\n",
            "/usr/local/lib/python3.10/dist-packages/optuna/distributions.py:524: UserWarning: Choices for a categorical distribution should be a tuple of None, bool, int, float and str for persistent storage but contains (100,) which is of type tuple.\n",
            "  warnings.warn(message)\n",
            "/usr/local/lib/python3.10/dist-packages/optuna/distributions.py:524: UserWarning: Choices for a categorical distribution should be a tuple of None, bool, int, float and str for persistent storage but contains (150,) which is of type tuple.\n",
            "  warnings.warn(message)\n",
            "[I 2024-06-10 10:31:45,544] Trial 86 finished with value: 0.7895716945996275 and parameters: {'hidden_layer_sizes': (150,), 'alpha': 1.8324288877725102e-05, 'learning_rate_init': 0.000705036808779164}. Best is trial 42 with value: 0.7895716945996275.\n",
            "/usr/local/lib/python3.10/dist-packages/optuna/distributions.py:524: UserWarning: Choices for a categorical distribution should be a tuple of None, bool, int, float and str for persistent storage but contains (50,) which is of type tuple.\n",
            "  warnings.warn(message)\n",
            "/usr/local/lib/python3.10/dist-packages/optuna/distributions.py:524: UserWarning: Choices for a categorical distribution should be a tuple of None, bool, int, float and str for persistent storage but contains (100,) which is of type tuple.\n",
            "  warnings.warn(message)\n",
            "/usr/local/lib/python3.10/dist-packages/optuna/distributions.py:524: UserWarning: Choices for a categorical distribution should be a tuple of None, bool, int, float and str for persistent storage but contains (150,) which is of type tuple.\n",
            "  warnings.warn(message)\n",
            "[I 2024-06-10 10:31:46,587] Trial 87 finished with value: 0.7802607076350094 and parameters: {'hidden_layer_sizes': (100,), 'alpha': 0.0015431436000849256, 'learning_rate_init': 0.0005219160263184534}. Best is trial 42 with value: 0.7895716945996275.\n",
            "/usr/local/lib/python3.10/dist-packages/optuna/distributions.py:524: UserWarning: Choices for a categorical distribution should be a tuple of None, bool, int, float and str for persistent storage but contains (50,) which is of type tuple.\n",
            "  warnings.warn(message)\n",
            "/usr/local/lib/python3.10/dist-packages/optuna/distributions.py:524: UserWarning: Choices for a categorical distribution should be a tuple of None, bool, int, float and str for persistent storage but contains (100,) which is of type tuple.\n",
            "  warnings.warn(message)\n",
            "/usr/local/lib/python3.10/dist-packages/optuna/distributions.py:524: UserWarning: Choices for a categorical distribution should be a tuple of None, bool, int, float and str for persistent storage but contains (150,) which is of type tuple.\n",
            "  warnings.warn(message)\n",
            "[I 2024-06-10 10:31:47,909] Trial 88 finished with value: 0.7728119180633147 and parameters: {'hidden_layer_sizes': (150,), 'alpha': 1.81654657299802e-05, 'learning_rate_init': 0.00013784697142986025}. Best is trial 42 with value: 0.7895716945996275.\n",
            "/usr/local/lib/python3.10/dist-packages/optuna/distributions.py:524: UserWarning: Choices for a categorical distribution should be a tuple of None, bool, int, float and str for persistent storage but contains (50,) which is of type tuple.\n",
            "  warnings.warn(message)\n",
            "/usr/local/lib/python3.10/dist-packages/optuna/distributions.py:524: UserWarning: Choices for a categorical distribution should be a tuple of None, bool, int, float and str for persistent storage but contains (100,) which is of type tuple.\n",
            "  warnings.warn(message)\n",
            "/usr/local/lib/python3.10/dist-packages/optuna/distributions.py:524: UserWarning: Choices for a categorical distribution should be a tuple of None, bool, int, float and str for persistent storage but contains (150,) which is of type tuple.\n",
            "  warnings.warn(message)\n",
            "[I 2024-06-10 10:31:49,199] Trial 89 finished with value: 0.7821229050279329 and parameters: {'hidden_layer_sizes': (150,), 'alpha': 0.002765248016856944, 'learning_rate_init': 0.0008149788493283925}. Best is trial 42 with value: 0.7895716945996275.\n",
            "/usr/local/lib/python3.10/dist-packages/optuna/distributions.py:524: UserWarning: Choices for a categorical distribution should be a tuple of None, bool, int, float and str for persistent storage but contains (50,) which is of type tuple.\n",
            "  warnings.warn(message)\n",
            "/usr/local/lib/python3.10/dist-packages/optuna/distributions.py:524: UserWarning: Choices for a categorical distribution should be a tuple of None, bool, int, float and str for persistent storage but contains (100,) which is of type tuple.\n",
            "  warnings.warn(message)\n",
            "/usr/local/lib/python3.10/dist-packages/optuna/distributions.py:524: UserWarning: Choices for a categorical distribution should be a tuple of None, bool, int, float and str for persistent storage but contains (150,) which is of type tuple.\n",
            "  warnings.warn(message)\n",
            "[I 2024-06-10 10:31:50,914] Trial 90 finished with value: 0.7783985102420857 and parameters: {'hidden_layer_sizes': (150,), 'alpha': 1.0058130114742117e-05, 'learning_rate_init': 0.0003891150519901915}. Best is trial 42 with value: 0.7895716945996275.\n",
            "/usr/local/lib/python3.10/dist-packages/optuna/distributions.py:524: UserWarning: Choices for a categorical distribution should be a tuple of None, bool, int, float and str for persistent storage but contains (50,) which is of type tuple.\n",
            "  warnings.warn(message)\n",
            "/usr/local/lib/python3.10/dist-packages/optuna/distributions.py:524: UserWarning: Choices for a categorical distribution should be a tuple of None, bool, int, float and str for persistent storage but contains (100,) which is of type tuple.\n",
            "  warnings.warn(message)\n",
            "/usr/local/lib/python3.10/dist-packages/optuna/distributions.py:524: UserWarning: Choices for a categorical distribution should be a tuple of None, bool, int, float and str for persistent storage but contains (150,) which is of type tuple.\n",
            "  warnings.warn(message)\n",
            "[I 2024-06-10 10:31:52,983] Trial 91 finished with value: 0.7858472998137803 and parameters: {'hidden_layer_sizes': (150,), 'alpha': 2.2250900405430566e-05, 'learning_rate_init': 0.0006618977937057458}. Best is trial 42 with value: 0.7895716945996275.\n",
            "/usr/local/lib/python3.10/dist-packages/optuna/distributions.py:524: UserWarning: Choices for a categorical distribution should be a tuple of None, bool, int, float and str for persistent storage but contains (50,) which is of type tuple.\n",
            "  warnings.warn(message)\n",
            "/usr/local/lib/python3.10/dist-packages/optuna/distributions.py:524: UserWarning: Choices for a categorical distribution should be a tuple of None, bool, int, float and str for persistent storage but contains (100,) which is of type tuple.\n",
            "  warnings.warn(message)\n",
            "/usr/local/lib/python3.10/dist-packages/optuna/distributions.py:524: UserWarning: Choices for a categorical distribution should be a tuple of None, bool, int, float and str for persistent storage but contains (150,) which is of type tuple.\n",
            "  warnings.warn(message)\n",
            "[I 2024-06-10 10:31:55,036] Trial 92 finished with value: 0.7765363128491621 and parameters: {'hidden_layer_sizes': (150,), 'alpha': 1.4965336311779642e-05, 'learning_rate_init': 0.0010068610894511543}. Best is trial 42 with value: 0.7895716945996275.\n",
            "/usr/local/lib/python3.10/dist-packages/optuna/distributions.py:524: UserWarning: Choices for a categorical distribution should be a tuple of None, bool, int, float and str for persistent storage but contains (50,) which is of type tuple.\n",
            "  warnings.warn(message)\n",
            "/usr/local/lib/python3.10/dist-packages/optuna/distributions.py:524: UserWarning: Choices for a categorical distribution should be a tuple of None, bool, int, float and str for persistent storage but contains (100,) which is of type tuple.\n",
            "  warnings.warn(message)\n",
            "/usr/local/lib/python3.10/dist-packages/optuna/distributions.py:524: UserWarning: Choices for a categorical distribution should be a tuple of None, bool, int, float and str for persistent storage but contains (150,) which is of type tuple.\n",
            "  warnings.warn(message)\n",
            "[I 2024-06-10 10:31:56,740] Trial 93 finished with value: 0.7877094972067038 and parameters: {'hidden_layer_sizes': (150,), 'alpha': 0.0004757474075378276, 'learning_rate_init': 0.0005736295508225545}. Best is trial 42 with value: 0.7895716945996275.\n",
            "/usr/local/lib/python3.10/dist-packages/optuna/distributions.py:524: UserWarning: Choices for a categorical distribution should be a tuple of None, bool, int, float and str for persistent storage but contains (50,) which is of type tuple.\n",
            "  warnings.warn(message)\n",
            "/usr/local/lib/python3.10/dist-packages/optuna/distributions.py:524: UserWarning: Choices for a categorical distribution should be a tuple of None, bool, int, float and str for persistent storage but contains (100,) which is of type tuple.\n",
            "  warnings.warn(message)\n",
            "/usr/local/lib/python3.10/dist-packages/optuna/distributions.py:524: UserWarning: Choices for a categorical distribution should be a tuple of None, bool, int, float and str for persistent storage but contains (150,) which is of type tuple.\n",
            "  warnings.warn(message)\n",
            "[I 2024-06-10 10:31:58,065] Trial 94 finished with value: 0.7802607076350094 and parameters: {'hidden_layer_sizes': (150,), 'alpha': 1.2164315544844386e-05, 'learning_rate_init': 0.0004854902820319255}. Best is trial 42 with value: 0.7895716945996275.\n",
            "/usr/local/lib/python3.10/dist-packages/optuna/distributions.py:524: UserWarning: Choices for a categorical distribution should be a tuple of None, bool, int, float and str for persistent storage but contains (50,) which is of type tuple.\n",
            "  warnings.warn(message)\n",
            "/usr/local/lib/python3.10/dist-packages/optuna/distributions.py:524: UserWarning: Choices for a categorical distribution should be a tuple of None, bool, int, float and str for persistent storage but contains (100,) which is of type tuple.\n",
            "  warnings.warn(message)\n",
            "/usr/local/lib/python3.10/dist-packages/optuna/distributions.py:524: UserWarning: Choices for a categorical distribution should be a tuple of None, bool, int, float and str for persistent storage but contains (150,) which is of type tuple.\n",
            "  warnings.warn(message)\n",
            "[I 2024-06-10 10:31:59,349] Trial 95 finished with value: 0.7839851024208566 and parameters: {'hidden_layer_sizes': (150,), 'alpha': 2.863482259534045e-05, 'learning_rate_init': 0.0007624511476202699}. Best is trial 42 with value: 0.7895716945996275.\n",
            "/usr/local/lib/python3.10/dist-packages/optuna/distributions.py:524: UserWarning: Choices for a categorical distribution should be a tuple of None, bool, int, float and str for persistent storage but contains (50,) which is of type tuple.\n",
            "  warnings.warn(message)\n",
            "/usr/local/lib/python3.10/dist-packages/optuna/distributions.py:524: UserWarning: Choices for a categorical distribution should be a tuple of None, bool, int, float and str for persistent storage but contains (100,) which is of type tuple.\n",
            "  warnings.warn(message)\n",
            "/usr/local/lib/python3.10/dist-packages/optuna/distributions.py:524: UserWarning: Choices for a categorical distribution should be a tuple of None, bool, int, float and str for persistent storage but contains (150,) which is of type tuple.\n",
            "  warnings.warn(message)\n",
            "[I 2024-06-10 10:32:00,639] Trial 96 finished with value: 0.7709497206703911 and parameters: {'hidden_layer_sizes': (150,), 'alpha': 4.553828848132341e-05, 'learning_rate_init': 0.0011804256344102582}. Best is trial 42 with value: 0.7895716945996275.\n",
            "/usr/local/lib/python3.10/dist-packages/optuna/distributions.py:524: UserWarning: Choices for a categorical distribution should be a tuple of None, bool, int, float and str for persistent storage but contains (50,) which is of type tuple.\n",
            "  warnings.warn(message)\n",
            "/usr/local/lib/python3.10/dist-packages/optuna/distributions.py:524: UserWarning: Choices for a categorical distribution should be a tuple of None, bool, int, float and str for persistent storage but contains (100,) which is of type tuple.\n",
            "  warnings.warn(message)\n",
            "/usr/local/lib/python3.10/dist-packages/optuna/distributions.py:524: UserWarning: Choices for a categorical distribution should be a tuple of None, bool, int, float and str for persistent storage but contains (150,) which is of type tuple.\n",
            "  warnings.warn(message)\n",
            "[I 2024-06-10 10:32:01,936] Trial 97 finished with value: 0.7858472998137801 and parameters: {'hidden_layer_sizes': (150,), 'alpha': 0.0009581077854208356, 'learning_rate_init': 0.0006328282510246765}. Best is trial 42 with value: 0.7895716945996275.\n",
            "/usr/local/lib/python3.10/dist-packages/optuna/distributions.py:524: UserWarning: Choices for a categorical distribution should be a tuple of None, bool, int, float and str for persistent storage but contains (50,) which is of type tuple.\n",
            "  warnings.warn(message)\n",
            "/usr/local/lib/python3.10/dist-packages/optuna/distributions.py:524: UserWarning: Choices for a categorical distribution should be a tuple of None, bool, int, float and str for persistent storage but contains (100,) which is of type tuple.\n",
            "  warnings.warn(message)\n",
            "/usr/local/lib/python3.10/dist-packages/optuna/distributions.py:524: UserWarning: Choices for a categorical distribution should be a tuple of None, bool, int, float and str for persistent storage but contains (150,) which is of type tuple.\n",
            "  warnings.warn(message)\n",
            "[I 2024-06-10 10:32:03,190] Trial 98 finished with value: 0.7355679702048418 and parameters: {'hidden_layer_sizes': (150,), 'alpha': 3.574202274204087e-05, 'learning_rate_init': 0.022758996495135454}. Best is trial 42 with value: 0.7895716945996275.\n",
            "/usr/local/lib/python3.10/dist-packages/optuna/distributions.py:524: UserWarning: Choices for a categorical distribution should be a tuple of None, bool, int, float and str for persistent storage but contains (50,) which is of type tuple.\n",
            "  warnings.warn(message)\n",
            "/usr/local/lib/python3.10/dist-packages/optuna/distributions.py:524: UserWarning: Choices for a categorical distribution should be a tuple of None, bool, int, float and str for persistent storage but contains (100,) which is of type tuple.\n",
            "  warnings.warn(message)\n",
            "/usr/local/lib/python3.10/dist-packages/optuna/distributions.py:524: UserWarning: Choices for a categorical distribution should be a tuple of None, bool, int, float and str for persistent storage but contains (150,) which is of type tuple.\n",
            "  warnings.warn(message)\n",
            "[I 2024-06-10 10:32:04,000] Trial 99 finished with value: 0.7597765363128491 and parameters: {'hidden_layer_sizes': (50,), 'alpha': 0.0001475608545925652, 'learning_rate_init': 0.001665481958647884}. Best is trial 42 with value: 0.7895716945996275.\n"
          ]
        }
      ]
    },
    {
      "cell_type": "code",
      "source": [
        "best_mlp = study_mlp.best_params\n",
        "print(f\"Best parameters for MLP: {best_mlp}\")"
      ],
      "metadata": {
        "colab": {
          "base_uri": "https://localhost:8080/"
        },
        "id": "W2kQUxgXfR4B",
        "outputId": "80c1c62a-9631-4488-b2f1-605949e9ae21"
      },
      "execution_count": 126,
      "outputs": [
        {
          "output_type": "stream",
          "name": "stdout",
          "text": [
            "Best parameters for MLP: {'hidden_layer_sizes': (150,), 'alpha': 0.01452797482070925, 'learning_rate_init': 0.000693736921491567}\n"
          ]
        }
      ]
    },
    {
      "cell_type": "code",
      "source": [
        "mlp = MLPClassifier(**best_mlp)\n",
        "mlp.fit(X_train, y_train)"
      ],
      "metadata": {
        "colab": {
          "base_uri": "https://localhost:8080/",
          "height": 146
        },
        "id": "vzYoWKPPfa5q",
        "outputId": "e9659a9c-f66c-40f8-c800-791c5318b3da"
      },
      "execution_count": 127,
      "outputs": [
        {
          "output_type": "stream",
          "name": "stderr",
          "text": [
            "/usr/local/lib/python3.10/dist-packages/sklearn/neural_network/_multilayer_perceptron.py:686: ConvergenceWarning: Stochastic Optimizer: Maximum iterations (200) reached and the optimization hasn't converged yet.\n",
            "  warnings.warn(\n"
          ]
        },
        {
          "output_type": "execute_result",
          "data": {
            "text/plain": [
              "MLPClassifier(alpha=0.01452797482070925, hidden_layer_sizes=(150,),\n",
              "              learning_rate_init=0.000693736921491567)"
            ],
            "text/html": [
              "<style>#sk-container-id-11 {color: black;background-color: white;}#sk-container-id-11 pre{padding: 0;}#sk-container-id-11 div.sk-toggleable {background-color: white;}#sk-container-id-11 label.sk-toggleable__label {cursor: pointer;display: block;width: 100%;margin-bottom: 0;padding: 0.3em;box-sizing: border-box;text-align: center;}#sk-container-id-11 label.sk-toggleable__label-arrow:before {content: \"▸\";float: left;margin-right: 0.25em;color: #696969;}#sk-container-id-11 label.sk-toggleable__label-arrow:hover:before {color: black;}#sk-container-id-11 div.sk-estimator:hover label.sk-toggleable__label-arrow:before {color: black;}#sk-container-id-11 div.sk-toggleable__content {max-height: 0;max-width: 0;overflow: hidden;text-align: left;background-color: #f0f8ff;}#sk-container-id-11 div.sk-toggleable__content pre {margin: 0.2em;color: black;border-radius: 0.25em;background-color: #f0f8ff;}#sk-container-id-11 input.sk-toggleable__control:checked~div.sk-toggleable__content {max-height: 200px;max-width: 100%;overflow: auto;}#sk-container-id-11 input.sk-toggleable__control:checked~label.sk-toggleable__label-arrow:before {content: \"▾\";}#sk-container-id-11 div.sk-estimator input.sk-toggleable__control:checked~label.sk-toggleable__label {background-color: #d4ebff;}#sk-container-id-11 div.sk-label input.sk-toggleable__control:checked~label.sk-toggleable__label {background-color: #d4ebff;}#sk-container-id-11 input.sk-hidden--visually {border: 0;clip: rect(1px 1px 1px 1px);clip: rect(1px, 1px, 1px, 1px);height: 1px;margin: -1px;overflow: hidden;padding: 0;position: absolute;width: 1px;}#sk-container-id-11 div.sk-estimator {font-family: monospace;background-color: #f0f8ff;border: 1px dotted black;border-radius: 0.25em;box-sizing: border-box;margin-bottom: 0.5em;}#sk-container-id-11 div.sk-estimator:hover {background-color: #d4ebff;}#sk-container-id-11 div.sk-parallel-item::after {content: \"\";width: 100%;border-bottom: 1px solid gray;flex-grow: 1;}#sk-container-id-11 div.sk-label:hover label.sk-toggleable__label {background-color: #d4ebff;}#sk-container-id-11 div.sk-serial::before {content: \"\";position: absolute;border-left: 1px solid gray;box-sizing: border-box;top: 0;bottom: 0;left: 50%;z-index: 0;}#sk-container-id-11 div.sk-serial {display: flex;flex-direction: column;align-items: center;background-color: white;padding-right: 0.2em;padding-left: 0.2em;position: relative;}#sk-container-id-11 div.sk-item {position: relative;z-index: 1;}#sk-container-id-11 div.sk-parallel {display: flex;align-items: stretch;justify-content: center;background-color: white;position: relative;}#sk-container-id-11 div.sk-item::before, #sk-container-id-11 div.sk-parallel-item::before {content: \"\";position: absolute;border-left: 1px solid gray;box-sizing: border-box;top: 0;bottom: 0;left: 50%;z-index: -1;}#sk-container-id-11 div.sk-parallel-item {display: flex;flex-direction: column;z-index: 1;position: relative;background-color: white;}#sk-container-id-11 div.sk-parallel-item:first-child::after {align-self: flex-end;width: 50%;}#sk-container-id-11 div.sk-parallel-item:last-child::after {align-self: flex-start;width: 50%;}#sk-container-id-11 div.sk-parallel-item:only-child::after {width: 0;}#sk-container-id-11 div.sk-dashed-wrapped {border: 1px dashed gray;margin: 0 0.4em 0.5em 0.4em;box-sizing: border-box;padding-bottom: 0.4em;background-color: white;}#sk-container-id-11 div.sk-label label {font-family: monospace;font-weight: bold;display: inline-block;line-height: 1.2em;}#sk-container-id-11 div.sk-label-container {text-align: center;}#sk-container-id-11 div.sk-container {/* jupyter's `normalize.less` sets `[hidden] { display: none; }` but bootstrap.min.css set `[hidden] { display: none !important; }` so we also need the `!important` here to be able to override the default hidden behavior on the sphinx rendered scikit-learn.org. See: https://github.com/scikit-learn/scikit-learn/issues/21755 */display: inline-block !important;position: relative;}#sk-container-id-11 div.sk-text-repr-fallback {display: none;}</style><div id=\"sk-container-id-11\" class=\"sk-top-container\"><div class=\"sk-text-repr-fallback\"><pre>MLPClassifier(alpha=0.01452797482070925, hidden_layer_sizes=(150,),\n",
              "              learning_rate_init=0.000693736921491567)</pre><b>In a Jupyter environment, please rerun this cell to show the HTML representation or trust the notebook. <br />On GitHub, the HTML representation is unable to render, please try loading this page with nbviewer.org.</b></div><div class=\"sk-container\" hidden><div class=\"sk-item\"><div class=\"sk-estimator sk-toggleable\"><input class=\"sk-toggleable__control sk-hidden--visually\" id=\"sk-estimator-id-11\" type=\"checkbox\" checked><label for=\"sk-estimator-id-11\" class=\"sk-toggleable__label sk-toggleable__label-arrow\">MLPClassifier</label><div class=\"sk-toggleable__content\"><pre>MLPClassifier(alpha=0.01452797482070925, hidden_layer_sizes=(150,),\n",
              "              learning_rate_init=0.000693736921491567)</pre></div></div></div></div></div>"
            ]
          },
          "metadata": {},
          "execution_count": 127
        }
      ]
    },
    {
      "cell_type": "code",
      "source": [
        "y_pred_mlp = mlp.predict(X_test)"
      ],
      "metadata": {
        "id": "4-y_zbovgCN-"
      },
      "execution_count": 128,
      "outputs": []
    },
    {
      "cell_type": "code",
      "source": [
        "print(\"Multi-Layer Perceptron Model\")\n",
        "print(\"Confusion Matrix:\")\n",
        "print(confusion_matrix(y_test, y_pred_mlp))\n",
        "print(\"Classification Report:\")\n",
        "print(classification_report(y_test, y_pred_mlp))\n",
        "print(f\"Accuracy: {accuracy_score(y_test, y_pred_mlp)}\")"
      ],
      "metadata": {
        "colab": {
          "base_uri": "https://localhost:8080/"
        },
        "id": "jtQOucjbgGp1",
        "outputId": "71409c96-b72a-4192-bbaa-25d9ed71f025"
      },
      "execution_count": 129,
      "outputs": [
        {
          "output_type": "stream",
          "name": "stdout",
          "text": [
            "Multi-Layer Perceptron Model\n",
            "Confusion Matrix:\n",
            "[[120  31]\n",
            " [ 31  49]]\n",
            "Classification Report:\n",
            "              precision    recall  f1-score   support\n",
            "\n",
            "           0       0.79      0.79      0.79       151\n",
            "           1       0.61      0.61      0.61        80\n",
            "\n",
            "    accuracy                           0.73       231\n",
            "   macro avg       0.70      0.70      0.70       231\n",
            "weighted avg       0.73      0.73      0.73       231\n",
            "\n",
            "Accuracy: 0.7316017316017316\n"
          ]
        }
      ]
    },
    {
      "cell_type": "markdown",
      "source": [
        " MLP modelinin precision ve recall değerleri sınıf 0 için oldukça iyi, ancak sınıf 1 için düşüktür. Bu, modelin sınıf 1'i (pozitif sınıf) tanımlamakta zorlandığını gösterir.\n",
        "**Precision:**\n",
        "Sınıf 0: **0.79**\n",
        "Sınıf 1: **0.61**\n",
        "\n",
        "**Recall:**\n",
        "Sınıf 0: **0.79**\n",
        "Sınıf 1: **0.61**\n",
        "\n",
        "**F1-Score:**\n",
        "Sınıf 0: **0.79**\n",
        "Sınıf 1: **0.61**\n",
        "Bu, modelin genel performansının sınıf 0 için daha iyi olduğunu, ancak sınıf 1 için iyileştirme gerektiğini gösterir.\n",
        "\n",
        "Accuracy: Modelin doğruluğu **0.73**, yani model genel olarak veri setinin **%73**'sini doğru sınıflandırmaktadır."
      ],
      "metadata": {
        "id": "k3OAXXTNvyvv"
      }
    },
    {
      "cell_type": "code",
      "source": [
        "# Extract metrics from confusion matrix\n",
        "cm_mlp = confusion_matrix(y_test, y_pred_mlp)\n",
        "TN_mlp, FP_mlp, FN_mlp, TP_mlp = cm_mlp.ravel()\n",
        "sensitivity_mlp = TP_mlp / (TP_mlp + FN_mlp)\n",
        "specificity_mlp = TN_mlp / (TN_mlp + FP_mlp)\n",
        "\n",
        "print(f\"Sensitivity (Recall): {sensitivity_mlp}\")\n",
        "print(f\"Specificity: {specificity_mlp}\")"
      ],
      "metadata": {
        "colab": {
          "base_uri": "https://localhost:8080/"
        },
        "id": "slpE2-Hwfk9F",
        "outputId": "98c73e3c-f109-4ab4-d6ba-5e4f0e11f56d"
      },
      "execution_count": 59,
      "outputs": [
        {
          "output_type": "stream",
          "name": "stdout",
          "text": [
            "Sensitivity (Recall): 0.6125\n",
            "Specificity: 0.8013245033112583\n"
          ]
        }
      ]
    },
    {
      "cell_type": "code",
      "source": [
        "# ROC Curve\n",
        "y_pred_prob_mlp = mlp.predict_proba(X_test)[:, 1]\n",
        "fpr_mlp, tpr_mlp, _ = roc_curve(y_test, y_pred_prob_mlp)\n",
        "auc_mlp = roc_auc_score(y_test, y_pred_prob_mlp)\n"
      ],
      "metadata": {
        "id": "XPGBdmbSjgDo"
      },
      "execution_count": 60,
      "outputs": []
    },
    {
      "cell_type": "code",
      "source": [
        "plt.figure()\n",
        "plt.plot(fpr_mlp, tpr_mlp, color='darkorange', lw=2, label=f'MLP ROC curve (AUC = {auc_mlp:.2f})')\n",
        "plt.plot([0, 1], [0, 1], color='navy', lw=2, linestyle='--')\n",
        "plt.xlabel('False Positive Rate')\n",
        "plt.ylabel('True Positive Rate')\n",
        "plt.title('MLP ROC Curve')\n",
        "plt.legend(loc=\"lower right\")\n",
        "plt.show()\n"
      ],
      "metadata": {
        "colab": {
          "base_uri": "https://localhost:8080/",
          "height": 472
        },
        "id": "T-3pdlmIjjuc",
        "outputId": "e3cb0e0f-8aa6-4e3d-b98c-01ee1f09e5a6"
      },
      "execution_count": 61,
      "outputs": [
        {
          "output_type": "display_data",
          "data": {
            "text/plain": [
              "<Figure size 640x480 with 1 Axes>"
            ],
            "image/png": "[encoded data removed]"
          },
          "metadata": {}
        }
      ]
    },
    {
      "cell_type": "markdown",
      "source": [
        "AUC değeri **0.79** olarak hesaplanmıştır. Bu değer, MLP modelinin nispeten iyi bir performansa sahip olduğunu göstermektedir. AUC değeri, modelin pozitif ve negatif sınıfları ayırt etmede rastgele bir modelden daha iyi performans gösterdiğini belirtir. AUC değeri 1'e ne kadar yakınsa, modelin performansı o kadar iyidir. Burada, 0.79 değeri, MLP modelinin çeşitli sınıfları tanımlamada kabul edilebilir bir performansa sahip olduğunu, ancak hala iyileştirme için alan olduğunu göstermektedir."
      ],
      "metadata": {
        "id": "Pm2DWhba-LqB"
      }
    },
    {
      "cell_type": "code",
      "source": [
        "mse_mlp = mean_squared_error(y_test, y_pred_mlp)\n",
        "print(f\"MLP Mean Squared Error: {mse_mlp}\")"
      ],
      "metadata": {
        "colab": {
          "base_uri": "https://localhost:8080/"
        },
        "id": "iOu3kihxL8d9",
        "outputId": "77c6a52c-dcfb-45be-b408-3b3eb4812acc"
      },
      "execution_count": 130,
      "outputs": [
        {
          "output_type": "stream",
          "name": "stdout",
          "text": [
            "MLP Mean Squared Error: 0.2683982683982684\n"
          ]
        }
      ]
    },
    {
      "cell_type": "markdown",
      "source": [
        "MLP modeli için Ortalama Kare Hatası (Mean Squared Error veya MSE) değeri 0.0.**2683982683982684** olarak hesaplanmıştır ve bu, modelin tahmin edilen değerlerinin gerçek değerlerden sapma miktarını göstermektedir."
      ],
      "metadata": {
        "id": "KOBz5uQJNSEp"
      }
    },
    {
      "cell_type": "markdown",
      "source": [
        "#4.Support Vector Machines (SVM)\n"
      ],
      "metadata": {
        "id": "zBFKsMCHgOmG"
      }
    },
    {
      "cell_type": "code",
      "source": [
        "def objective_svm(trial):\n",
        "    C = trial.suggest_loguniform('C', 1e-5, 1e2)\n",
        "    gamma = trial.suggest_loguniform('gamma', 1e-5, 1e2)\n",
        "    svm = SVC(probability=True, C=C, gamma=gamma)\n",
        "    svm.fit(X_train, y_train)\n",
        "    y_pred_svm = svm.predict(X_test)\n",
        "    y_pred_prob_svm = svm.predict_proba(X_test)[:, 1]\n",
        "    accuracy = accuracy_score(y_test, y_pred_svm)\n",
        "\n",
        "    return accuracy\n",
        ""
      ],
      "metadata": {
        "id": "WD6JPMBjgyau"
      },
      "execution_count": 131,
      "outputs": []
    },
    {
      "cell_type": "code",
      "source": [
        "study_svm = optuna.create_study(direction='maximize')\n",
        "study_svm.optimize(objective_svm, n_trials=50)"
      ],
      "metadata": {
        "colab": {
          "base_uri": "https://localhost:8080/"
        },
        "id": "I2E8IPnJg1OW",
        "outputId": "dcb9b49c-204a-413d-d3ec-a9bfa941802c"
      },
      "execution_count": 132,
      "outputs": [
        {
          "output_type": "stream",
          "name": "stderr",
          "text": [
            "[I 2024-06-10 10:38:37,330] A new study created in memory with name: no-name-8bcf5c97-10c9-4ce8-b3bb-1a9e28dc90e8\n",
            "<ipython-input-131-c94b374ec61f>:2: FutureWarning: suggest_loguniform has been deprecated in v3.0.0. This feature will be removed in v6.0.0. See https://github.com/optuna/optuna/releases/tag/v3.0.0. Use suggest_float(..., log=True) instead.\n",
            "  C = trial.suggest_loguniform('C', 1e-5, 1e2)\n",
            "<ipython-input-131-c94b374ec61f>:3: FutureWarning: suggest_loguniform has been deprecated in v3.0.0. This feature will be removed in v6.0.0. See https://github.com/optuna/optuna/releases/tag/v3.0.0. Use suggest_float(..., log=True) instead.\n",
            "  gamma = trial.suggest_loguniform('gamma', 1e-5, 1e2)\n",
            "[I 2024-06-10 10:38:37,405] Trial 0 finished with value: 0.70995670995671 and parameters: {'C': 4.713980950250223, 'gamma': 0.14712390537957562}. Best is trial 0 with value: 0.70995670995671.\n",
            "<ipython-input-131-c94b374ec61f>:2: FutureWarning: suggest_loguniform has been deprecated in v3.0.0. This feature will be removed in v6.0.0. See https://github.com/optuna/optuna/releases/tag/v3.0.0. Use suggest_float(..., log=True) instead.\n",
            "  C = trial.suggest_loguniform('C', 1e-5, 1e2)\n",
            "<ipython-input-131-c94b374ec61f>:3: FutureWarning: suggest_loguniform has been deprecated in v3.0.0. This feature will be removed in v6.0.0. See https://github.com/optuna/optuna/releases/tag/v3.0.0. Use suggest_float(..., log=True) instead.\n",
            "  gamma = trial.suggest_loguniform('gamma', 1e-5, 1e2)\n",
            "[I 2024-06-10 10:38:37,472] Trial 1 finished with value: 0.6536796536796536 and parameters: {'C': 7.854535412898853e-05, 'gamma': 0.21001463499665504}. Best is trial 0 with value: 0.70995670995671.\n",
            "<ipython-input-131-c94b374ec61f>:2: FutureWarning: suggest_loguniform has been deprecated in v3.0.0. This feature will be removed in v6.0.0. See https://github.com/optuna/optuna/releases/tag/v3.0.0. Use suggest_float(..., log=True) instead.\n",
            "  C = trial.suggest_loguniform('C', 1e-5, 1e2)\n",
            "<ipython-input-131-c94b374ec61f>:3: FutureWarning: suggest_loguniform has been deprecated in v3.0.0. This feature will be removed in v6.0.0. See https://github.com/optuna/optuna/releases/tag/v3.0.0. Use suggest_float(..., log=True) instead.\n",
            "  gamma = trial.suggest_loguniform('gamma', 1e-5, 1e2)\n",
            "[I 2024-06-10 10:38:37,528] Trial 2 finished with value: 0.7619047619047619 and parameters: {'C': 2.2804947974872336, 'gamma': 0.01738730319766362}. Best is trial 2 with value: 0.7619047619047619.\n",
            "<ipython-input-131-c94b374ec61f>:2: FutureWarning: suggest_loguniform has been deprecated in v3.0.0. This feature will be removed in v6.0.0. See https://github.com/optuna/optuna/releases/tag/v3.0.0. Use suggest_float(..., log=True) instead.\n",
            "  C = trial.suggest_loguniform('C', 1e-5, 1e2)\n",
            "<ipython-input-131-c94b374ec61f>:3: FutureWarning: suggest_loguniform has been deprecated in v3.0.0. This feature will be removed in v6.0.0. See https://github.com/optuna/optuna/releases/tag/v3.0.0. Use suggest_float(..., log=True) instead.\n",
            "  gamma = trial.suggest_loguniform('gamma', 1e-5, 1e2)\n",
            "[I 2024-06-10 10:38:37,593] Trial 3 finished with value: 0.7489177489177489 and parameters: {'C': 0.4793810263847194, 'gamma': 0.026138669505552777}. Best is trial 2 with value: 0.7619047619047619.\n",
            "<ipython-input-131-c94b374ec61f>:2: FutureWarning: suggest_loguniform has been deprecated in v3.0.0. This feature will be removed in v6.0.0. See https://github.com/optuna/optuna/releases/tag/v3.0.0. Use suggest_float(..., log=True) instead.\n",
            "  C = trial.suggest_loguniform('C', 1e-5, 1e2)\n",
            "<ipython-input-131-c94b374ec61f>:3: FutureWarning: suggest_loguniform has been deprecated in v3.0.0. This feature will be removed in v6.0.0. See https://github.com/optuna/optuna/releases/tag/v3.0.0. Use suggest_float(..., log=True) instead.\n",
            "  gamma = trial.suggest_loguniform('gamma', 1e-5, 1e2)\n",
            "[I 2024-06-10 10:38:37,693] Trial 4 finished with value: 0.6536796536796536 and parameters: {'C': 0.1338120396258868, 'gamma': 5.110318228295853}. Best is trial 2 with value: 0.7619047619047619.\n",
            "<ipython-input-131-c94b374ec61f>:2: FutureWarning: suggest_loguniform has been deprecated in v3.0.0. This feature will be removed in v6.0.0. See https://github.com/optuna/optuna/releases/tag/v3.0.0. Use suggest_float(..., log=True) instead.\n",
            "  C = trial.suggest_loguniform('C', 1e-5, 1e2)\n",
            "<ipython-input-131-c94b374ec61f>:3: FutureWarning: suggest_loguniform has been deprecated in v3.0.0. This feature will be removed in v6.0.0. See https://github.com/optuna/optuna/releases/tag/v3.0.0. Use suggest_float(..., log=True) instead.\n",
            "  gamma = trial.suggest_loguniform('gamma', 1e-5, 1e2)\n",
            "[I 2024-06-10 10:38:37,784] Trial 5 finished with value: 0.6536796536796536 and parameters: {'C': 0.009000632224026849, 'gamma': 2.829520573113129}. Best is trial 2 with value: 0.7619047619047619.\n",
            "<ipython-input-131-c94b374ec61f>:2: FutureWarning: suggest_loguniform has been deprecated in v3.0.0. This feature will be removed in v6.0.0. See https://github.com/optuna/optuna/releases/tag/v3.0.0. Use suggest_float(..., log=True) instead.\n",
            "  C = trial.suggest_loguniform('C', 1e-5, 1e2)\n",
            "<ipython-input-131-c94b374ec61f>:3: FutureWarning: suggest_loguniform has been deprecated in v3.0.0. This feature will be removed in v6.0.0. See https://github.com/optuna/optuna/releases/tag/v3.0.0. Use suggest_float(..., log=True) instead.\n",
            "  gamma = trial.suggest_loguniform('gamma', 1e-5, 1e2)\n",
            "[I 2024-06-10 10:38:37,891] Trial 6 finished with value: 0.6536796536796536 and parameters: {'C': 39.47211618736364, 'gamma': 9.032631779884879}. Best is trial 2 with value: 0.7619047619047619.\n",
            "<ipython-input-131-c94b374ec61f>:2: FutureWarning: suggest_loguniform has been deprecated in v3.0.0. This feature will be removed in v6.0.0. See https://github.com/optuna/optuna/releases/tag/v3.0.0. Use suggest_float(..., log=True) instead.\n",
            "  C = trial.suggest_loguniform('C', 1e-5, 1e2)\n",
            "<ipython-input-131-c94b374ec61f>:3: FutureWarning: suggest_loguniform has been deprecated in v3.0.0. This feature will be removed in v6.0.0. See https://github.com/optuna/optuna/releases/tag/v3.0.0. Use suggest_float(..., log=True) instead.\n",
            "  gamma = trial.suggest_loguniform('gamma', 1e-5, 1e2)\n",
            "[I 2024-06-10 10:38:37,962] Trial 7 finished with value: 0.7056277056277056 and parameters: {'C': 3.7419405035643463, 'gamma': 0.22188426331087718}. Best is trial 2 with value: 0.7619047619047619.\n",
            "<ipython-input-131-c94b374ec61f>:2: FutureWarning: suggest_loguniform has been deprecated in v3.0.0. This feature will be removed in v6.0.0. See https://github.com/optuna/optuna/releases/tag/v3.0.0. Use suggest_float(..., log=True) instead.\n",
            "  C = trial.suggest_loguniform('C', 1e-5, 1e2)\n",
            "<ipython-input-131-c94b374ec61f>:3: FutureWarning: suggest_loguniform has been deprecated in v3.0.0. This feature will be removed in v6.0.0. See https://github.com/optuna/optuna/releases/tag/v3.0.0. Use suggest_float(..., log=True) instead.\n",
            "  gamma = trial.suggest_loguniform('gamma', 1e-5, 1e2)\n",
            "[I 2024-06-10 10:38:38,033] Trial 8 finished with value: 0.6536796536796536 and parameters: {'C': 0.11719401635896809, 'gamma': 1.4845325947047582e-05}. Best is trial 2 with value: 0.7619047619047619.\n",
            "<ipython-input-131-c94b374ec61f>:2: FutureWarning: suggest_loguniform has been deprecated in v3.0.0. This feature will be removed in v6.0.0. See https://github.com/optuna/optuna/releases/tag/v3.0.0. Use suggest_float(..., log=True) instead.\n",
            "  C = trial.suggest_loguniform('C', 1e-5, 1e2)\n",
            "<ipython-input-131-c94b374ec61f>:3: FutureWarning: suggest_loguniform has been deprecated in v3.0.0. This feature will be removed in v6.0.0. See https://github.com/optuna/optuna/releases/tag/v3.0.0. Use suggest_float(..., log=True) instead.\n",
            "  gamma = trial.suggest_loguniform('gamma', 1e-5, 1e2)\n",
            "[I 2024-06-10 10:38:38,104] Trial 9 finished with value: 0.6536796536796536 and parameters: {'C': 1.3215043257472712e-05, 'gamma': 0.3505412101845711}. Best is trial 2 with value: 0.7619047619047619.\n",
            "<ipython-input-131-c94b374ec61f>:2: FutureWarning: suggest_loguniform has been deprecated in v3.0.0. This feature will be removed in v6.0.0. See https://github.com/optuna/optuna/releases/tag/v3.0.0. Use suggest_float(..., log=True) instead.\n",
            "  C = trial.suggest_loguniform('C', 1e-5, 1e2)\n",
            "<ipython-input-131-c94b374ec61f>:3: FutureWarning: suggest_loguniform has been deprecated in v3.0.0. This feature will be removed in v6.0.0. See https://github.com/optuna/optuna/releases/tag/v3.0.0. Use suggest_float(..., log=True) instead.\n",
            "  gamma = trial.suggest_loguniform('gamma', 1e-5, 1e2)\n",
            "[I 2024-06-10 10:38:38,189] Trial 10 finished with value: 0.6536796536796536 and parameters: {'C': 0.0026857609379691825, 'gamma': 0.0011732987576484634}. Best is trial 2 with value: 0.7619047619047619.\n",
            "<ipython-input-131-c94b374ec61f>:2: FutureWarning: suggest_loguniform has been deprecated in v3.0.0. This feature will be removed in v6.0.0. See https://github.com/optuna/optuna/releases/tag/v3.0.0. Use suggest_float(..., log=True) instead.\n",
            "  C = trial.suggest_loguniform('C', 1e-5, 1e2)\n",
            "<ipython-input-131-c94b374ec61f>:3: FutureWarning: suggest_loguniform has been deprecated in v3.0.0. This feature will be removed in v6.0.0. See https://github.com/optuna/optuna/releases/tag/v3.0.0. Use suggest_float(..., log=True) instead.\n",
            "  gamma = trial.suggest_loguniform('gamma', 1e-5, 1e2)\n",
            "[I 2024-06-10 10:38:38,265] Trial 11 finished with value: 0.7878787878787878 and parameters: {'C': 1.070302400699011, 'gamma': 0.0027093852942152268}. Best is trial 11 with value: 0.7878787878787878.\n",
            "<ipython-input-131-c94b374ec61f>:2: FutureWarning: suggest_loguniform has been deprecated in v3.0.0. This feature will be removed in v6.0.0. See https://github.com/optuna/optuna/releases/tag/v3.0.0. Use suggest_float(..., log=True) instead.\n",
            "  C = trial.suggest_loguniform('C', 1e-5, 1e2)\n",
            "<ipython-input-131-c94b374ec61f>:3: FutureWarning: suggest_loguniform has been deprecated in v3.0.0. This feature will be removed in v6.0.0. See https://github.com/optuna/optuna/releases/tag/v3.0.0. Use suggest_float(..., log=True) instead.\n",
            "  gamma = trial.suggest_loguniform('gamma', 1e-5, 1e2)\n",
            "[I 2024-06-10 10:38:38,337] Trial 12 finished with value: 0.7705627705627706 and parameters: {'C': 2.55131686252486, 'gamma': 0.0018367930161143243}. Best is trial 11 with value: 0.7878787878787878.\n",
            "<ipython-input-131-c94b374ec61f>:2: FutureWarning: suggest_loguniform has been deprecated in v3.0.0. This feature will be removed in v6.0.0. See https://github.com/optuna/optuna/releases/tag/v3.0.0. Use suggest_float(..., log=True) instead.\n",
            "  C = trial.suggest_loguniform('C', 1e-5, 1e2)\n",
            "<ipython-input-131-c94b374ec61f>:3: FutureWarning: suggest_loguniform has been deprecated in v3.0.0. This feature will be removed in v6.0.0. See https://github.com/optuna/optuna/releases/tag/v3.0.0. Use suggest_float(..., log=True) instead.\n",
            "  gamma = trial.suggest_loguniform('gamma', 1e-5, 1e2)\n",
            "[I 2024-06-10 10:38:38,412] Trial 13 finished with value: 0.7532467532467533 and parameters: {'C': 16.140142569603913, 'gamma': 0.0006948913586482222}. Best is trial 11 with value: 0.7878787878787878.\n",
            "<ipython-input-131-c94b374ec61f>:2: FutureWarning: suggest_loguniform has been deprecated in v3.0.0. This feature will be removed in v6.0.0. See https://github.com/optuna/optuna/releases/tag/v3.0.0. Use suggest_float(..., log=True) instead.\n",
            "  C = trial.suggest_loguniform('C', 1e-5, 1e2)\n",
            "<ipython-input-131-c94b374ec61f>:3: FutureWarning: suggest_loguniform has been deprecated in v3.0.0. This feature will be removed in v6.0.0. See https://github.com/optuna/optuna/releases/tag/v3.0.0. Use suggest_float(..., log=True) instead.\n",
            "  gamma = trial.suggest_loguniform('gamma', 1e-5, 1e2)\n",
            "[I 2024-06-10 10:38:38,495] Trial 14 finished with value: 0.6536796536796536 and parameters: {'C': 0.6926536918951265, 'gamma': 0.0008363193247530713}. Best is trial 11 with value: 0.7878787878787878.\n",
            "<ipython-input-131-c94b374ec61f>:2: FutureWarning: suggest_loguniform has been deprecated in v3.0.0. This feature will be removed in v6.0.0. See https://github.com/optuna/optuna/releases/tag/v3.0.0. Use suggest_float(..., log=True) instead.\n",
            "  C = trial.suggest_loguniform('C', 1e-5, 1e2)\n",
            "<ipython-input-131-c94b374ec61f>:3: FutureWarning: suggest_loguniform has been deprecated in v3.0.0. This feature will be removed in v6.0.0. See https://github.com/optuna/optuna/releases/tag/v3.0.0. Use suggest_float(..., log=True) instead.\n",
            "  gamma = trial.suggest_loguniform('gamma', 1e-5, 1e2)\n",
            "[I 2024-06-10 10:38:38,572] Trial 15 finished with value: 0.7878787878787878 and parameters: {'C': 81.95668596677663, 'gamma': 3.514452560572977e-05}. Best is trial 11 with value: 0.7878787878787878.\n",
            "<ipython-input-131-c94b374ec61f>:2: FutureWarning: suggest_loguniform has been deprecated in v3.0.0. This feature will be removed in v6.0.0. See https://github.com/optuna/optuna/releases/tag/v3.0.0. Use suggest_float(..., log=True) instead.\n",
            "  C = trial.suggest_loguniform('C', 1e-5, 1e2)\n",
            "<ipython-input-131-c94b374ec61f>:3: FutureWarning: suggest_loguniform has been deprecated in v3.0.0. This feature will be removed in v6.0.0. See https://github.com/optuna/optuna/releases/tag/v3.0.0. Use suggest_float(..., log=True) instead.\n",
            "  gamma = trial.suggest_loguniform('gamma', 1e-5, 1e2)\n",
            "[I 2024-06-10 10:38:38,650] Trial 16 finished with value: 0.6493506493506493 and parameters: {'C': 86.88145447487024, 'gamma': 1.2259183546314465e-05}. Best is trial 11 with value: 0.7878787878787878.\n",
            "<ipython-input-131-c94b374ec61f>:2: FutureWarning: suggest_loguniform has been deprecated in v3.0.0. This feature will be removed in v6.0.0. See https://github.com/optuna/optuna/releases/tag/v3.0.0. Use suggest_float(..., log=True) instead.\n",
            "  C = trial.suggest_loguniform('C', 1e-5, 1e2)\n",
            "<ipython-input-131-c94b374ec61f>:3: FutureWarning: suggest_loguniform has been deprecated in v3.0.0. This feature will be removed in v6.0.0. See https://github.com/optuna/optuna/releases/tag/v3.0.0. Use suggest_float(..., log=True) instead.\n",
            "  gamma = trial.suggest_loguniform('gamma', 1e-5, 1e2)\n",
            "[I 2024-06-10 10:38:38,725] Trial 17 finished with value: 0.6536796536796536 and parameters: {'C': 0.018005153333804435, 'gamma': 0.000137572811062805}. Best is trial 11 with value: 0.7878787878787878.\n",
            "<ipython-input-131-c94b374ec61f>:2: FutureWarning: suggest_loguniform has been deprecated in v3.0.0. This feature will be removed in v6.0.0. See https://github.com/optuna/optuna/releases/tag/v3.0.0. Use suggest_float(..., log=True) instead.\n",
            "  C = trial.suggest_loguniform('C', 1e-5, 1e2)\n",
            "<ipython-input-131-c94b374ec61f>:3: FutureWarning: suggest_loguniform has been deprecated in v3.0.0. This feature will be removed in v6.0.0. See https://github.com/optuna/optuna/releases/tag/v3.0.0. Use suggest_float(..., log=True) instead.\n",
            "  gamma = trial.suggest_loguniform('gamma', 1e-5, 1e2)\n",
            "[I 2024-06-10 10:38:38,806] Trial 18 finished with value: 0.7792207792207793 and parameters: {'C': 20.796978543539236, 'gamma': 0.00012115419219698488}. Best is trial 11 with value: 0.7878787878787878.\n",
            "<ipython-input-131-c94b374ec61f>:2: FutureWarning: suggest_loguniform has been deprecated in v3.0.0. This feature will be removed in v6.0.0. See https://github.com/optuna/optuna/releases/tag/v3.0.0. Use suggest_float(..., log=True) instead.\n",
            "  C = trial.suggest_loguniform('C', 1e-5, 1e2)\n",
            "<ipython-input-131-c94b374ec61f>:3: FutureWarning: suggest_loguniform has been deprecated in v3.0.0. This feature will be removed in v6.0.0. See https://github.com/optuna/optuna/releases/tag/v3.0.0. Use suggest_float(..., log=True) instead.\n",
            "  gamma = trial.suggest_loguniform('gamma', 1e-5, 1e2)\n",
            "[I 2024-06-10 10:38:38,967] Trial 19 finished with value: 0.6536796536796536 and parameters: {'C': 89.28012402877557, 'gamma': 65.79773142594894}. Best is trial 11 with value: 0.7878787878787878.\n",
            "<ipython-input-131-c94b374ec61f>:2: FutureWarning: suggest_loguniform has been deprecated in v3.0.0. This feature will be removed in v6.0.0. See https://github.com/optuna/optuna/releases/tag/v3.0.0. Use suggest_float(..., log=True) instead.\n",
            "  C = trial.suggest_loguniform('C', 1e-5, 1e2)\n",
            "<ipython-input-131-c94b374ec61f>:3: FutureWarning: suggest_loguniform has been deprecated in v3.0.0. This feature will be removed in v6.0.0. See https://github.com/optuna/optuna/releases/tag/v3.0.0. Use suggest_float(..., log=True) instead.\n",
            "  gamma = trial.suggest_loguniform('gamma', 1e-5, 1e2)\n",
            "[I 2024-06-10 10:38:39,047] Trial 20 finished with value: 0.6536796536796536 and parameters: {'C': 0.0018523137950288498, 'gamma': 0.006097830268284918}. Best is trial 11 with value: 0.7878787878787878.\n",
            "<ipython-input-131-c94b374ec61f>:2: FutureWarning: suggest_loguniform has been deprecated in v3.0.0. This feature will be removed in v6.0.0. See https://github.com/optuna/optuna/releases/tag/v3.0.0. Use suggest_float(..., log=True) instead.\n",
            "  C = trial.suggest_loguniform('C', 1e-5, 1e2)\n",
            "<ipython-input-131-c94b374ec61f>:3: FutureWarning: suggest_loguniform has been deprecated in v3.0.0. This feature will be removed in v6.0.0. See https://github.com/optuna/optuna/releases/tag/v3.0.0. Use suggest_float(..., log=True) instead.\n",
            "  gamma = trial.suggest_loguniform('gamma', 1e-5, 1e2)\n",
            "[I 2024-06-10 10:38:39,122] Trial 21 finished with value: 0.6536796536796536 and parameters: {'C': 10.169424302754317, 'gamma': 6.466215658157248e-05}. Best is trial 11 with value: 0.7878787878787878.\n",
            "<ipython-input-131-c94b374ec61f>:2: FutureWarning: suggest_loguniform has been deprecated in v3.0.0. This feature will be removed in v6.0.0. See https://github.com/optuna/optuna/releases/tag/v3.0.0. Use suggest_float(..., log=True) instead.\n",
            "  C = trial.suggest_loguniform('C', 1e-5, 1e2)\n",
            "<ipython-input-131-c94b374ec61f>:3: FutureWarning: suggest_loguniform has been deprecated in v3.0.0. This feature will be removed in v6.0.0. See https://github.com/optuna/optuna/releases/tag/v3.0.0. Use suggest_float(..., log=True) instead.\n",
            "  gamma = trial.suggest_loguniform('gamma', 1e-5, 1e2)\n",
            "[I 2024-06-10 10:38:39,216] Trial 22 finished with value: 0.7359307359307359 and parameters: {'C': 13.45018069078552, 'gamma': 0.00012704626043361021}. Best is trial 11 with value: 0.7878787878787878.\n",
            "<ipython-input-131-c94b374ec61f>:2: FutureWarning: suggest_loguniform has been deprecated in v3.0.0. This feature will be removed in v6.0.0. See https://github.com/optuna/optuna/releases/tag/v3.0.0. Use suggest_float(..., log=True) instead.\n",
            "  C = trial.suggest_loguniform('C', 1e-5, 1e2)\n",
            "<ipython-input-131-c94b374ec61f>:3: FutureWarning: suggest_loguniform has been deprecated in v3.0.0. This feature will be removed in v6.0.0. See https://github.com/optuna/optuna/releases/tag/v3.0.0. Use suggest_float(..., log=True) instead.\n",
            "  gamma = trial.suggest_loguniform('gamma', 1e-5, 1e2)\n",
            "[I 2024-06-10 10:38:39,300] Trial 23 finished with value: 0.6536796536796536 and parameters: {'C': 1.002282992345682, 'gamma': 4.7375807166686726e-05}. Best is trial 11 with value: 0.7878787878787878.\n",
            "<ipython-input-131-c94b374ec61f>:2: FutureWarning: suggest_loguniform has been deprecated in v3.0.0. This feature will be removed in v6.0.0. See https://github.com/optuna/optuna/releases/tag/v3.0.0. Use suggest_float(..., log=True) instead.\n",
            "  C = trial.suggest_loguniform('C', 1e-5, 1e2)\n",
            "<ipython-input-131-c94b374ec61f>:3: FutureWarning: suggest_loguniform has been deprecated in v3.0.0. This feature will be removed in v6.0.0. See https://github.com/optuna/optuna/releases/tag/v3.0.0. Use suggest_float(..., log=True) instead.\n",
            "  gamma = trial.suggest_loguniform('gamma', 1e-5, 1e2)\n",
            "[I 2024-06-10 10:38:39,374] Trial 24 finished with value: 0.7532467532467533 and parameters: {'C': 32.365172120573234, 'gamma': 0.00022589030613717547}. Best is trial 11 with value: 0.7878787878787878.\n",
            "<ipython-input-131-c94b374ec61f>:2: FutureWarning: suggest_loguniform has been deprecated in v3.0.0. This feature will be removed in v6.0.0. See https://github.com/optuna/optuna/releases/tag/v3.0.0. Use suggest_float(..., log=True) instead.\n",
            "  C = trial.suggest_loguniform('C', 1e-5, 1e2)\n",
            "<ipython-input-131-c94b374ec61f>:3: FutureWarning: suggest_loguniform has been deprecated in v3.0.0. This feature will be removed in v6.0.0. See https://github.com/optuna/optuna/releases/tag/v3.0.0. Use suggest_float(..., log=True) instead.\n",
            "  gamma = trial.suggest_loguniform('gamma', 1e-5, 1e2)\n",
            "[I 2024-06-10 10:38:39,452] Trial 25 finished with value: 0.6536796536796536 and parameters: {'C': 0.07500195409994907, 'gamma': 0.004666447940527174}. Best is trial 11 with value: 0.7878787878787878.\n",
            "<ipython-input-131-c94b374ec61f>:2: FutureWarning: suggest_loguniform has been deprecated in v3.0.0. This feature will be removed in v6.0.0. See https://github.com/optuna/optuna/releases/tag/v3.0.0. Use suggest_float(..., log=True) instead.\n",
            "  C = trial.suggest_loguniform('C', 1e-5, 1e2)\n",
            "<ipython-input-131-c94b374ec61f>:3: FutureWarning: suggest_loguniform has been deprecated in v3.0.0. This feature will be removed in v6.0.0. See https://github.com/optuna/optuna/releases/tag/v3.0.0. Use suggest_float(..., log=True) instead.\n",
            "  gamma = trial.suggest_loguniform('gamma', 1e-5, 1e2)\n",
            "[I 2024-06-10 10:38:39,531] Trial 26 finished with value: 0.6536796536796536 and parameters: {'C': 0.38853580210151556, 'gamma': 0.00029248891474886014}. Best is trial 11 with value: 0.7878787878787878.\n",
            "<ipython-input-131-c94b374ec61f>:2: FutureWarning: suggest_loguniform has been deprecated in v3.0.0. This feature will be removed in v6.0.0. See https://github.com/optuna/optuna/releases/tag/v3.0.0. Use suggest_float(..., log=True) instead.\n",
            "  C = trial.suggest_loguniform('C', 1e-5, 1e2)\n",
            "<ipython-input-131-c94b374ec61f>:3: FutureWarning: suggest_loguniform has been deprecated in v3.0.0. This feature will be removed in v6.0.0. See https://github.com/optuna/optuna/releases/tag/v3.0.0. Use suggest_float(..., log=True) instead.\n",
            "  gamma = trial.suggest_loguniform('gamma', 1e-5, 1e2)\n",
            "[I 2024-06-10 10:38:39,610] Trial 27 finished with value: 0.6536796536796536 and parameters: {'C': 7.40729850174301, 'gamma': 3.718366477716022e-05}. Best is trial 11 with value: 0.7878787878787878.\n",
            "<ipython-input-131-c94b374ec61f>:2: FutureWarning: suggest_loguniform has been deprecated in v3.0.0. This feature will be removed in v6.0.0. See https://github.com/optuna/optuna/releases/tag/v3.0.0. Use suggest_float(..., log=True) instead.\n",
            "  C = trial.suggest_loguniform('C', 1e-5, 1e2)\n",
            "<ipython-input-131-c94b374ec61f>:3: FutureWarning: suggest_loguniform has been deprecated in v3.0.0. This feature will be removed in v6.0.0. See https://github.com/optuna/optuna/releases/tag/v3.0.0. Use suggest_float(..., log=True) instead.\n",
            "  gamma = trial.suggest_loguniform('gamma', 1e-5, 1e2)\n",
            "[I 2024-06-10 10:38:39,683] Trial 28 finished with value: 0.7575757575757576 and parameters: {'C': 26.333299916923288, 'gamma': 0.0034354441802632424}. Best is trial 11 with value: 0.7878787878787878.\n",
            "<ipython-input-131-c94b374ec61f>:2: FutureWarning: suggest_loguniform has been deprecated in v3.0.0. This feature will be removed in v6.0.0. See https://github.com/optuna/optuna/releases/tag/v3.0.0. Use suggest_float(..., log=True) instead.\n",
            "  C = trial.suggest_loguniform('C', 1e-5, 1e2)\n",
            "<ipython-input-131-c94b374ec61f>:3: FutureWarning: suggest_loguniform has been deprecated in v3.0.0. This feature will be removed in v6.0.0. See https://github.com/optuna/optuna/releases/tag/v3.0.0. Use suggest_float(..., log=True) instead.\n",
            "  gamma = trial.suggest_loguniform('gamma', 1e-5, 1e2)\n",
            "[I 2024-06-10 10:38:39,760] Trial 29 finished with value: 0.670995670995671 and parameters: {'C': 2.8723094484214866, 'gamma': 0.0004590506519598674}. Best is trial 11 with value: 0.7878787878787878.\n",
            "<ipython-input-131-c94b374ec61f>:2: FutureWarning: suggest_loguniform has been deprecated in v3.0.0. This feature will be removed in v6.0.0. See https://github.com/optuna/optuna/releases/tag/v3.0.0. Use suggest_float(..., log=True) instead.\n",
            "  C = trial.suggest_loguniform('C', 1e-5, 1e2)\n",
            "<ipython-input-131-c94b374ec61f>:3: FutureWarning: suggest_loguniform has been deprecated in v3.0.0. This feature will be removed in v6.0.0. See https://github.com/optuna/optuna/releases/tag/v3.0.0. Use suggest_float(..., log=True) instead.\n",
            "  gamma = trial.suggest_loguniform('gamma', 1e-5, 1e2)\n",
            "[I 2024-06-10 10:38:39,833] Trial 30 finished with value: 0.7662337662337663 and parameters: {'C': 1.2040324872304713, 'gamma': 0.060522985774772706}. Best is trial 11 with value: 0.7878787878787878.\n",
            "<ipython-input-131-c94b374ec61f>:2: FutureWarning: suggest_loguniform has been deprecated in v3.0.0. This feature will be removed in v6.0.0. See https://github.com/optuna/optuna/releases/tag/v3.0.0. Use suggest_float(..., log=True) instead.\n",
            "  C = trial.suggest_loguniform('C', 1e-5, 1e2)\n",
            "<ipython-input-131-c94b374ec61f>:3: FutureWarning: suggest_loguniform has been deprecated in v3.0.0. This feature will be removed in v6.0.0. See https://github.com/optuna/optuna/releases/tag/v3.0.0. Use suggest_float(..., log=True) instead.\n",
            "  gamma = trial.suggest_loguniform('gamma', 1e-5, 1e2)\n",
            "[I 2024-06-10 10:38:39,905] Trial 31 finished with value: 0.7489177489177489 and parameters: {'C': 5.292327200210768, 'gamma': 0.002437157407463831}. Best is trial 11 with value: 0.7878787878787878.\n",
            "<ipython-input-131-c94b374ec61f>:2: FutureWarning: suggest_loguniform has been deprecated in v3.0.0. This feature will be removed in v6.0.0. See https://github.com/optuna/optuna/releases/tag/v3.0.0. Use suggest_float(..., log=True) instead.\n",
            "  C = trial.suggest_loguniform('C', 1e-5, 1e2)\n",
            "<ipython-input-131-c94b374ec61f>:3: FutureWarning: suggest_loguniform has been deprecated in v3.0.0. This feature will be removed in v6.0.0. See https://github.com/optuna/optuna/releases/tag/v3.0.0. Use suggest_float(..., log=True) instead.\n",
            "  gamma = trial.suggest_loguniform('gamma', 1e-5, 1e2)\n",
            "[I 2024-06-10 10:38:39,986] Trial 32 finished with value: 0.7532467532467533 and parameters: {'C': 77.68024497223925, 'gamma': 0.0014611805235168391}. Best is trial 11 with value: 0.7878787878787878.\n",
            "<ipython-input-131-c94b374ec61f>:2: FutureWarning: suggest_loguniform has been deprecated in v3.0.0. This feature will be removed in v6.0.0. See https://github.com/optuna/optuna/releases/tag/v3.0.0. Use suggest_float(..., log=True) instead.\n",
            "  C = trial.suggest_loguniform('C', 1e-5, 1e2)\n",
            "<ipython-input-131-c94b374ec61f>:3: FutureWarning: suggest_loguniform has been deprecated in v3.0.0. This feature will be removed in v6.0.0. See https://github.com/optuna/optuna/releases/tag/v3.0.0. Use suggest_float(..., log=True) instead.\n",
            "  gamma = trial.suggest_loguniform('gamma', 1e-5, 1e2)\n",
            "[I 2024-06-10 10:38:40,066] Trial 33 finished with value: 0.7532467532467533 and parameters: {'C': 1.9872121868705557, 'gamma': 0.007846355689950367}. Best is trial 11 with value: 0.7878787878787878.\n",
            "<ipython-input-131-c94b374ec61f>:2: FutureWarning: suggest_loguniform has been deprecated in v3.0.0. This feature will be removed in v6.0.0. See https://github.com/optuna/optuna/releases/tag/v3.0.0. Use suggest_float(..., log=True) instead.\n",
            "  C = trial.suggest_loguniform('C', 1e-5, 1e2)\n",
            "<ipython-input-131-c94b374ec61f>:3: FutureWarning: suggest_loguniform has been deprecated in v3.0.0. This feature will be removed in v6.0.0. See https://github.com/optuna/optuna/releases/tag/v3.0.0. Use suggest_float(..., log=True) instead.\n",
            "  gamma = trial.suggest_loguniform('gamma', 1e-5, 1e2)\n",
            "[I 2024-06-10 10:38:40,136] Trial 34 finished with value: 0.7662337662337663 and parameters: {'C': 7.870125920033797, 'gamma': 0.01716254845016631}. Best is trial 11 with value: 0.7878787878787878.\n",
            "<ipython-input-131-c94b374ec61f>:2: FutureWarning: suggest_loguniform has been deprecated in v3.0.0. This feature will be removed in v6.0.0. See https://github.com/optuna/optuna/releases/tag/v3.0.0. Use suggest_float(..., log=True) instead.\n",
            "  C = trial.suggest_loguniform('C', 1e-5, 1e2)\n",
            "<ipython-input-131-c94b374ec61f>:3: FutureWarning: suggest_loguniform has been deprecated in v3.0.0. This feature will be removed in v6.0.0. See https://github.com/optuna/optuna/releases/tag/v3.0.0. Use suggest_float(..., log=True) instead.\n",
            "  gamma = trial.suggest_loguniform('gamma', 1e-5, 1e2)\n",
            "[I 2024-06-10 10:38:40,229] Trial 35 finished with value: 0.6536796536796536 and parameters: {'C': 0.2827122108580266, 'gamma': 2.5622227734641268e-05}. Best is trial 11 with value: 0.7878787878787878.\n",
            "<ipython-input-131-c94b374ec61f>:2: FutureWarning: suggest_loguniform has been deprecated in v3.0.0. This feature will be removed in v6.0.0. See https://github.com/optuna/optuna/releases/tag/v3.0.0. Use suggest_float(..., log=True) instead.\n",
            "  C = trial.suggest_loguniform('C', 1e-5, 1e2)\n",
            "<ipython-input-131-c94b374ec61f>:3: FutureWarning: suggest_loguniform has been deprecated in v3.0.0. This feature will be removed in v6.0.0. See https://github.com/optuna/optuna/releases/tag/v3.0.0. Use suggest_float(..., log=True) instead.\n",
            "  gamma = trial.suggest_loguniform('gamma', 1e-5, 1e2)\n",
            "[I 2024-06-10 10:38:40,304] Trial 36 finished with value: 0.6536796536796536 and parameters: {'C': 0.00024309612716591, 'gamma': 0.00012105745647789833}. Best is trial 11 with value: 0.7878787878787878.\n",
            "<ipython-input-131-c94b374ec61f>:2: FutureWarning: suggest_loguniform has been deprecated in v3.0.0. This feature will be removed in v6.0.0. See https://github.com/optuna/optuna/releases/tag/v3.0.0. Use suggest_float(..., log=True) instead.\n",
            "  C = trial.suggest_loguniform('C', 1e-5, 1e2)\n",
            "<ipython-input-131-c94b374ec61f>:3: FutureWarning: suggest_loguniform has been deprecated in v3.0.0. This feature will be removed in v6.0.0. See https://github.com/optuna/optuna/releases/tag/v3.0.0. Use suggest_float(..., log=True) instead.\n",
            "  gamma = trial.suggest_loguniform('gamma', 1e-5, 1e2)\n",
            "[I 2024-06-10 10:38:40,392] Trial 37 finished with value: 0.7316017316017316 and parameters: {'C': 28.581029816947737, 'gamma': 0.05461487415131943}. Best is trial 11 with value: 0.7878787878787878.\n",
            "<ipython-input-131-c94b374ec61f>:2: FutureWarning: suggest_loguniform has been deprecated in v3.0.0. This feature will be removed in v6.0.0. See https://github.com/optuna/optuna/releases/tag/v3.0.0. Use suggest_float(..., log=True) instead.\n",
            "  C = trial.suggest_loguniform('C', 1e-5, 1e2)\n",
            "<ipython-input-131-c94b374ec61f>:3: FutureWarning: suggest_loguniform has been deprecated in v3.0.0. This feature will be removed in v6.0.0. See https://github.com/optuna/optuna/releases/tag/v3.0.0. Use suggest_float(..., log=True) instead.\n",
            "  gamma = trial.suggest_loguniform('gamma', 1e-5, 1e2)\n",
            "[I 2024-06-10 10:38:40,471] Trial 38 finished with value: 0.7142857142857143 and parameters: {'C': 3.7166815837738136, 'gamma': 0.0004269323973889856}. Best is trial 11 with value: 0.7878787878787878.\n",
            "<ipython-input-131-c94b374ec61f>:2: FutureWarning: suggest_loguniform has been deprecated in v3.0.0. This feature will be removed in v6.0.0. See https://github.com/optuna/optuna/releases/tag/v3.0.0. Use suggest_float(..., log=True) instead.\n",
            "  C = trial.suggest_loguniform('C', 1e-5, 1e2)\n",
            "<ipython-input-131-c94b374ec61f>:3: FutureWarning: suggest_loguniform has been deprecated in v3.0.0. This feature will be removed in v6.0.0. See https://github.com/optuna/optuna/releases/tag/v3.0.0. Use suggest_float(..., log=True) instead.\n",
            "  gamma = trial.suggest_loguniform('gamma', 1e-5, 1e2)\n",
            "[I 2024-06-10 10:38:40,555] Trial 39 finished with value: 0.6536796536796536 and parameters: {'C': 0.0430375805050823, 'gamma': 0.015049419684572267}. Best is trial 11 with value: 0.7878787878787878.\n",
            "<ipython-input-131-c94b374ec61f>:2: FutureWarning: suggest_loguniform has been deprecated in v3.0.0. This feature will be removed in v6.0.0. See https://github.com/optuna/optuna/releases/tag/v3.0.0. Use suggest_float(..., log=True) instead.\n",
            "  C = trial.suggest_loguniform('C', 1e-5, 1e2)\n",
            "<ipython-input-131-c94b374ec61f>:3: FutureWarning: suggest_loguniform has been deprecated in v3.0.0. This feature will be removed in v6.0.0. See https://github.com/optuna/optuna/releases/tag/v3.0.0. Use suggest_float(..., log=True) instead.\n",
            "  gamma = trial.suggest_loguniform('gamma', 1e-5, 1e2)\n",
            "[I 2024-06-10 10:38:40,636] Trial 40 finished with value: 0.6536796536796536 and parameters: {'C': 0.24666044875805868, 'gamma': 7.744065392198402e-05}. Best is trial 11 with value: 0.7878787878787878.\n",
            "<ipython-input-131-c94b374ec61f>:2: FutureWarning: suggest_loguniform has been deprecated in v3.0.0. This feature will be removed in v6.0.0. See https://github.com/optuna/optuna/releases/tag/v3.0.0. Use suggest_float(..., log=True) instead.\n",
            "  C = trial.suggest_loguniform('C', 1e-5, 1e2)\n",
            "<ipython-input-131-c94b374ec61f>:3: FutureWarning: suggest_loguniform has been deprecated in v3.0.0. This feature will be removed in v6.0.0. See https://github.com/optuna/optuna/releases/tag/v3.0.0. Use suggest_float(..., log=True) instead.\n",
            "  gamma = trial.suggest_loguniform('gamma', 1e-5, 1e2)\n",
            "[I 2024-06-10 10:38:40,704] Trial 41 finished with value: 0.7662337662337663 and parameters: {'C': 1.6777079675827968, 'gamma': 0.05338723043616908}. Best is trial 11 with value: 0.7878787878787878.\n",
            "<ipython-input-131-c94b374ec61f>:2: FutureWarning: suggest_loguniform has been deprecated in v3.0.0. This feature will be removed in v6.0.0. See https://github.com/optuna/optuna/releases/tag/v3.0.0. Use suggest_float(..., log=True) instead.\n",
            "  C = trial.suggest_loguniform('C', 1e-5, 1e2)\n",
            "<ipython-input-131-c94b374ec61f>:3: FutureWarning: suggest_loguniform has been deprecated in v3.0.0. This feature will be removed in v6.0.0. See https://github.com/optuna/optuna/releases/tag/v3.0.0. Use suggest_float(..., log=True) instead.\n",
            "  gamma = trial.suggest_loguniform('gamma', 1e-5, 1e2)\n",
            "[I 2024-06-10 10:38:40,776] Trial 42 finished with value: 0.7619047619047619 and parameters: {'C': 0.815135361229639, 'gamma': 0.09395148781688291}. Best is trial 11 with value: 0.7878787878787878.\n",
            "<ipython-input-131-c94b374ec61f>:2: FutureWarning: suggest_loguniform has been deprecated in v3.0.0. This feature will be removed in v6.0.0. See https://github.com/optuna/optuna/releases/tag/v3.0.0. Use suggest_float(..., log=True) instead.\n",
            "  C = trial.suggest_loguniform('C', 1e-5, 1e2)\n",
            "<ipython-input-131-c94b374ec61f>:3: FutureWarning: suggest_loguniform has been deprecated in v3.0.0. This feature will be removed in v6.0.0. See https://github.com/optuna/optuna/releases/tag/v3.0.0. Use suggest_float(..., log=True) instead.\n",
            "  gamma = trial.suggest_loguniform('gamma', 1e-5, 1e2)\n",
            "[I 2024-06-10 10:38:40,856] Trial 43 finished with value: 0.7835497835497836 and parameters: {'C': 1.2599505740765569, 'gamma': 0.00202076380733672}. Best is trial 11 with value: 0.7878787878787878.\n",
            "<ipython-input-131-c94b374ec61f>:2: FutureWarning: suggest_loguniform has been deprecated in v3.0.0. This feature will be removed in v6.0.0. See https://github.com/optuna/optuna/releases/tag/v3.0.0. Use suggest_float(..., log=True) instead.\n",
            "  C = trial.suggest_loguniform('C', 1e-5, 1e2)\n",
            "<ipython-input-131-c94b374ec61f>:3: FutureWarning: suggest_loguniform has been deprecated in v3.0.0. This feature will be removed in v6.0.0. See https://github.com/optuna/optuna/releases/tag/v3.0.0. Use suggest_float(..., log=True) instead.\n",
            "  gamma = trial.suggest_loguniform('gamma', 1e-5, 1e2)\n",
            "[I 2024-06-10 10:38:40,929] Trial 44 finished with value: 0.7532467532467533 and parameters: {'C': 17.09172955318574, 'gamma': 0.002162459125020935}. Best is trial 11 with value: 0.7878787878787878.\n",
            "<ipython-input-131-c94b374ec61f>:2: FutureWarning: suggest_loguniform has been deprecated in v3.0.0. This feature will be removed in v6.0.0. See https://github.com/optuna/optuna/releases/tag/v3.0.0. Use suggest_float(..., log=True) instead.\n",
            "  C = trial.suggest_loguniform('C', 1e-5, 1e2)\n",
            "<ipython-input-131-c94b374ec61f>:3: FutureWarning: suggest_loguniform has been deprecated in v3.0.0. This feature will be removed in v6.0.0. See https://github.com/optuna/optuna/releases/tag/v3.0.0. Use suggest_float(..., log=True) instead.\n",
            "  gamma = trial.suggest_loguniform('gamma', 1e-5, 1e2)\n",
            "[I 2024-06-10 10:38:41,010] Trial 45 finished with value: 0.6536796536796536 and parameters: {'C': 0.16960339762759744, 'gamma': 2.0547686264729507e-05}. Best is trial 11 with value: 0.7878787878787878.\n",
            "<ipython-input-131-c94b374ec61f>:2: FutureWarning: suggest_loguniform has been deprecated in v3.0.0. This feature will be removed in v6.0.0. See https://github.com/optuna/optuna/releases/tag/v3.0.0. Use suggest_float(..., log=True) instead.\n",
            "  C = trial.suggest_loguniform('C', 1e-5, 1e2)\n",
            "<ipython-input-131-c94b374ec61f>:3: FutureWarning: suggest_loguniform has been deprecated in v3.0.0. This feature will be removed in v6.0.0. See https://github.com/optuna/optuna/releases/tag/v3.0.0. Use suggest_float(..., log=True) instead.\n",
            "  gamma = trial.suggest_loguniform('gamma', 1e-5, 1e2)\n",
            "[I 2024-06-10 10:38:41,122] Trial 46 finished with value: 0.658008658008658 and parameters: {'C': 53.1241811735161, 'gamma': 0.4021184028250093}. Best is trial 11 with value: 0.7878787878787878.\n",
            "<ipython-input-131-c94b374ec61f>:2: FutureWarning: suggest_loguniform has been deprecated in v3.0.0. This feature will be removed in v6.0.0. See https://github.com/optuna/optuna/releases/tag/v3.0.0. Use suggest_float(..., log=True) instead.\n",
            "  C = trial.suggest_loguniform('C', 1e-5, 1e2)\n",
            "<ipython-input-131-c94b374ec61f>:3: FutureWarning: suggest_loguniform has been deprecated in v3.0.0. This feature will be removed in v6.0.0. See https://github.com/optuna/optuna/releases/tag/v3.0.0. Use suggest_float(..., log=True) instead.\n",
            "  gamma = trial.suggest_loguniform('gamma', 1e-5, 1e2)\n",
            "[I 2024-06-10 10:38:41,217] Trial 47 finished with value: 0.7575757575757576 and parameters: {'C': 5.760757885535646, 'gamma': 0.0010161506295401767}. Best is trial 11 with value: 0.7878787878787878.\n",
            "<ipython-input-131-c94b374ec61f>:2: FutureWarning: suggest_loguniform has been deprecated in v3.0.0. This feature will be removed in v6.0.0. See https://github.com/optuna/optuna/releases/tag/v3.0.0. Use suggest_float(..., log=True) instead.\n",
            "  C = trial.suggest_loguniform('C', 1e-5, 1e2)\n",
            "<ipython-input-131-c94b374ec61f>:3: FutureWarning: suggest_loguniform has been deprecated in v3.0.0. This feature will be removed in v6.0.0. See https://github.com/optuna/optuna/releases/tag/v3.0.0. Use suggest_float(..., log=True) instead.\n",
            "  gamma = trial.suggest_loguniform('gamma', 1e-5, 1e2)\n",
            "[I 2024-06-10 10:38:41,293] Trial 48 finished with value: 0.6536796536796536 and parameters: {'C': 0.5530685822154027, 'gamma': 0.00024364016951181384}. Best is trial 11 with value: 0.7878787878787878.\n",
            "<ipython-input-131-c94b374ec61f>:2: FutureWarning: suggest_loguniform has been deprecated in v3.0.0. This feature will be removed in v6.0.0. See https://github.com/optuna/optuna/releases/tag/v3.0.0. Use suggest_float(..., log=True) instead.\n",
            "  C = trial.suggest_loguniform('C', 1e-5, 1e2)\n",
            "<ipython-input-131-c94b374ec61f>:3: FutureWarning: suggest_loguniform has been deprecated in v3.0.0. This feature will be removed in v6.0.0. See https://github.com/optuna/optuna/releases/tag/v3.0.0. Use suggest_float(..., log=True) instead.\n",
            "  gamma = trial.suggest_loguniform('gamma', 1e-5, 1e2)\n",
            "[I 2024-06-10 10:38:41,361] Trial 49 finished with value: 0.7575757575757576 and parameters: {'C': 3.087822354622069, 'gamma': 0.009151124951853717}. Best is trial 11 with value: 0.7878787878787878.\n"
          ]
        }
      ]
    },
    {
      "cell_type": "code",
      "source": [
        "best_svm = study_svm.best_params\n",
        "print(f\"Best parameters for SVM: {best_svm}\")"
      ],
      "metadata": {
        "colab": {
          "base_uri": "https://localhost:8080/"
        },
        "id": "Mwud60Isg609",
        "outputId": "c0be2a53-d3d4-4ef3-af9f-ee8c07e5a44b"
      },
      "execution_count": 133,
      "outputs": [
        {
          "output_type": "stream",
          "name": "stdout",
          "text": [
            "Best parameters for SVM: {'C': 1.070302400699011, 'gamma': 0.0027093852942152268}\n"
          ]
        }
      ]
    },
    {
      "cell_type": "code",
      "source": [
        "best_svm = SVC(probability=True, C=study_svm.best_params['C'], gamma=study_svm.best_params['gamma'])\n",
        "best_svm.fit(X_train, y_train)\n"
      ],
      "metadata": {
        "colab": {
          "base_uri": "https://localhost:8080/",
          "height": 74
        },
        "id": "T5PWPqinj7-6",
        "outputId": "ad6409a2-b24c-4e39-b56e-9ba7126edf03"
      },
      "execution_count": 149,
      "outputs": [
        {
          "output_type": "execute_result",
          "data": {
            "text/plain": [
              "SVC(C=1.070302400699011, gamma=0.0027093852942152268, probability=True)"
            ],
            "text/html": [
              "<style>#sk-container-id-13 {color: black;background-color: white;}#sk-container-id-13 pre{padding: 0;}#sk-container-id-13 div.sk-toggleable {background-color: white;}#sk-container-id-13 label.sk-toggleable__label {cursor: pointer;display: block;width: 100%;margin-bottom: 0;padding: 0.3em;box-sizing: border-box;text-align: center;}#sk-container-id-13 label.sk-toggleable__label-arrow:before {content: \"▸\";float: left;margin-right: 0.25em;color: #696969;}#sk-container-id-13 label.sk-toggleable__label-arrow:hover:before {color: black;}#sk-container-id-13 div.sk-estimator:hover label.sk-toggleable__label-arrow:before {color: black;}#sk-container-id-13 div.sk-toggleable__content {max-height: 0;max-width: 0;overflow: hidden;text-align: left;background-color: #f0f8ff;}#sk-container-id-13 div.sk-toggleable__content pre {margin: 0.2em;color: black;border-radius: 0.25em;background-color: #f0f8ff;}#sk-container-id-13 input.sk-toggleable__control:checked~div.sk-toggleable__content {max-height: 200px;max-width: 100%;overflow: auto;}#sk-container-id-13 input.sk-toggleable__control:checked~label.sk-toggleable__label-arrow:before {content: \"▾\";}#sk-container-id-13 div.sk-estimator input.sk-toggleable__control:checked~label.sk-toggleable__label {background-color: #d4ebff;}#sk-container-id-13 div.sk-label input.sk-toggleable__control:checked~label.sk-toggleable__label {background-color: #d4ebff;}#sk-container-id-13 input.sk-hidden--visually {border: 0;clip: rect(1px 1px 1px 1px);clip: rect(1px, 1px, 1px, 1px);height: 1px;margin: -1px;overflow: hidden;padding: 0;position: absolute;width: 1px;}#sk-container-id-13 div.sk-estimator {font-family: monospace;background-color: #f0f8ff;border: 1px dotted black;border-radius: 0.25em;box-sizing: border-box;margin-bottom: 0.5em;}#sk-container-id-13 div.sk-estimator:hover {background-color: #d4ebff;}#sk-container-id-13 div.sk-parallel-item::after {content: \"\";width: 100%;border-bottom: 1px solid gray;flex-grow: 1;}#sk-container-id-13 div.sk-label:hover label.sk-toggleable__label {background-color: #d4ebff;}#sk-container-id-13 div.sk-serial::before {content: \"\";position: absolute;border-left: 1px solid gray;box-sizing: border-box;top: 0;bottom: 0;left: 50%;z-index: 0;}#sk-container-id-13 div.sk-serial {display: flex;flex-direction: column;align-items: center;background-color: white;padding-right: 0.2em;padding-left: 0.2em;position: relative;}#sk-container-id-13 div.sk-item {position: relative;z-index: 1;}#sk-container-id-13 div.sk-parallel {display: flex;align-items: stretch;justify-content: center;background-color: white;position: relative;}#sk-container-id-13 div.sk-item::before, #sk-container-id-13 div.sk-parallel-item::before {content: \"\";position: absolute;border-left: 1px solid gray;box-sizing: border-box;top: 0;bottom: 0;left: 50%;z-index: -1;}#sk-container-id-13 div.sk-parallel-item {display: flex;flex-direction: column;z-index: 1;position: relative;background-color: white;}#sk-container-id-13 div.sk-parallel-item:first-child::after {align-self: flex-end;width: 50%;}#sk-container-id-13 div.sk-parallel-item:last-child::after {align-self: flex-start;width: 50%;}#sk-container-id-13 div.sk-parallel-item:only-child::after {width: 0;}#sk-container-id-13 div.sk-dashed-wrapped {border: 1px dashed gray;margin: 0 0.4em 0.5em 0.4em;box-sizing: border-box;padding-bottom: 0.4em;background-color: white;}#sk-container-id-13 div.sk-label label {font-family: monospace;font-weight: bold;display: inline-block;line-height: 1.2em;}#sk-container-id-13 div.sk-label-container {text-align: center;}#sk-container-id-13 div.sk-container {/* jupyter's `normalize.less` sets `[hidden] { display: none; }` but bootstrap.min.css set `[hidden] { display: none !important; }` so we also need the `!important` here to be able to override the default hidden behavior on the sphinx rendered scikit-learn.org. See: https://github.com/scikit-learn/scikit-learn/issues/21755 */display: inline-block !important;position: relative;}#sk-container-id-13 div.sk-text-repr-fallback {display: none;}</style><div id=\"sk-container-id-13\" class=\"sk-top-container\"><div class=\"sk-text-repr-fallback\"><pre>SVC(C=1.070302400699011, gamma=0.0027093852942152268, probability=True)</pre><b>In a Jupyter environment, please rerun this cell to show the HTML representation or trust the notebook. <br />On GitHub, the HTML representation is unable to render, please try loading this page with nbviewer.org.</b></div><div class=\"sk-container\" hidden><div class=\"sk-item\"><div class=\"sk-estimator sk-toggleable\"><input class=\"sk-toggleable__control sk-hidden--visually\" id=\"sk-estimator-id-13\" type=\"checkbox\" checked><label for=\"sk-estimator-id-13\" class=\"sk-toggleable__label sk-toggleable__label-arrow\">SVC</label><div class=\"sk-toggleable__content\"><pre>SVC(C=1.070302400699011, gamma=0.0027093852942152268, probability=True)</pre></div></div></div></div></div>"
            ]
          },
          "metadata": {},
          "execution_count": 149
        }
      ]
    },
    {
      "cell_type": "code",
      "source": [
        "y_pred_svm = best_svm.predict(X_test)\n",
        "y_pred_prob_svm = best_svm.predict_proba(X_test)[:, 1]"
      ],
      "metadata": {
        "id": "0Wy8ASaIksqZ"
      },
      "execution_count": 135,
      "outputs": []
    },
    {
      "cell_type": "code",
      "source": [
        "print(\"Support Vector Machines Model\")\n",
        "print(\"Confusion Matrix:\")\n",
        "print(confusion_matrix(y_test, y_pred_svm))\n",
        "print(\"Classification Report:\")\n",
        "print(classification_report(y_test, y_pred_svm))\n",
        "print(f\"Accuracy: {accuracy_score(y_test, y_pred_svm)}\")"
      ],
      "metadata": {
        "colab": {
          "base_uri": "https://localhost:8080/"
        },
        "id": "KtW7OU9qgSe4",
        "outputId": "fe797ba5-0baf-46c9-a277-faf351fe57a2"
      },
      "execution_count": 136,
      "outputs": [
        {
          "output_type": "stream",
          "name": "stdout",
          "text": [
            "Support Vector Machines Model\n",
            "Confusion Matrix:\n",
            "[[138  13]\n",
            " [ 36  44]]\n",
            "Classification Report:\n",
            "              precision    recall  f1-score   support\n",
            "\n",
            "           0       0.79      0.91      0.85       151\n",
            "           1       0.77      0.55      0.64        80\n",
            "\n",
            "    accuracy                           0.79       231\n",
            "   macro avg       0.78      0.73      0.75       231\n",
            "weighted avg       0.79      0.79      0.78       231\n",
            "\n",
            "Accuracy: 0.7878787878787878\n"
          ]
        }
      ]
    },
    {
      "cell_type": "markdown",
      "source": [
        "**Precision:**\n",
        "Sınıfs 0: **0.79**\n",
        "Sınıf 1: **0.77**\n",
        "\n",
        "**Recall:**\n",
        "Sınıf 0: **0.91**\n",
        "Sınıf 1: **0.55**\n",
        "\n",
        "**F1-Score:**\n",
        "Sınıf 0: **0.85**\n",
        "Sınıf 1: **0.64**\n",
        "\n",
        "**Accuracy:** Modelin genel doğruluğu **%78**'tir.\n",
        "\n",
        "Bu sonuçlar, SVM modelinin genel olarak sınıf 0 (negatif) örneklerini sınıf 1 (pozitif) örneklerinden daha iyi tanımladığını göstermektedir. Ancak, sınıf 1 için hassasiyet ve geri çağırma oranlarının iyileştirilmesi gerekmektedir.\n",
        "\n",
        "Sonuçlar, SVM modelinin %78.8 doğrulukla nispeten iyi bir performansa sahip olduğunu ve farklı sınıfları ayırt etmede etkili bir şekilde kullanılabileceğini göstermektedir, ancak sınıf 1 (pozitif) örneklerini tanımada iyileştirme gerekmektedir."
      ],
      "metadata": {
        "id": "eIiAKArw-3A_"
      }
    },
    {
      "cell_type": "code",
      "source": [
        "# Extract metrics from confusion matrix\n",
        "cm_svm = confusion_matrix(y_test, y_pred_svm)\n",
        "TN_svm, FP_svm, FN_svm, TP_svm = cm_svm.ravel()\n",
        "sensitivity_svm = TP_svm / (TP_svm + FN_svm)\n",
        "specificity_svm = TN_svm / (TN_svm + FP_svm)\n",
        "\n",
        "print(f\"Sensitivity (Recall): {sensitivity_svm}\")\n",
        "print(f\"Specificity: {specificity_svm}\")"
      ],
      "metadata": {
        "colab": {
          "base_uri": "https://localhost:8080/"
        },
        "id": "t1qinTJ9ma40",
        "outputId": "a0bdfed5-4823-4ee2-9a82-a2e8b0d07626"
      },
      "execution_count": 137,
      "outputs": [
        {
          "output_type": "stream",
          "name": "stdout",
          "text": [
            "Sensitivity (Recall): 0.55\n",
            "Specificity: 0.9139072847682119\n"
          ]
        }
      ]
    },
    {
      "cell_type": "code",
      "source": [
        "# ROC Curve\n",
        "fpr_svm, tpr_svm, _ = roc_curve(y_test, y_pred_prob_svm)\n",
        "auc_svm = roc_auc_score(y_test, y_pred_prob_svm)\n"
      ],
      "metadata": {
        "id": "nNnPHIVej-mr"
      },
      "execution_count": 138,
      "outputs": []
    },
    {
      "cell_type": "code",
      "source": [
        "plt.figure()\n",
        "plt.plot(fpr_svm, tpr_svm, color='darkorange', lw=2, label=f'SVM ROC curve (AUC = {auc_svm:.2f})')\n",
        "plt.plot([0, 1], [0, 1], color='navy', lw=2, linestyle='--')\n",
        "plt.xlabel('False Positive Rate')\n",
        "plt.ylabel('True Positive Rate')\n",
        "plt.title('SVM ROC Curve')\n",
        "plt.legend(loc='lower right')\n",
        "plt.show()\n"
      ],
      "metadata": {
        "colab": {
          "base_uri": "https://localhost:8080/",
          "height": 472
        },
        "id": "tqCnfW9jlOZB",
        "outputId": "2363b6d0-1f7b-46d3-916b-7de2a11714e9"
      },
      "execution_count": 139,
      "outputs": [
        {
          "output_type": "display_data",
          "data": {
            "text/plain": [
              "<Figure size 640x480 with 1 Axes>"
            ],
            "image/png": "[encoded data removed]"
          },
          "metadata": {}
        }
      ]
    },
    {
      "cell_type": "markdown",
      "source": [
        "Burada, 0.80 değeri, SVM modelinin diyabet teşhisinde iyi bir performans sergilediğini göstermektedir. Bu AUC değeri, modelin pozitif ve negatif sınıfları ayırt etmedeki iyi performansını göstermektedir. Bu model, pozitif sınıflar (diyabet hastaları) ve negatif sınıflar (diyabet hastası olmayanlar) arasında uygun bir ayrım yapabilir, ancak yine de iyileştirme için yer vardır."
      ],
      "metadata": {
        "id": "NO0EscDhAkdq"
      }
    },
    {
      "cell_type": "code",
      "source": [
        "mse_svm = mean_squared_error(y_test, y_pred_svm)\n",
        "print(f\"SVM Mean Squared Error: {mse_svm}\")"
      ],
      "metadata": {
        "colab": {
          "base_uri": "https://localhost:8080/"
        },
        "id": "KnwxOeYQNrhD",
        "outputId": "465b3c47-61e6-4548-e72b-ba2f2e34203b"
      },
      "execution_count": 140,
      "outputs": [
        {
          "output_type": "stream",
          "name": "stdout",
          "text": [
            "SVM Mean Squared Error: 0.21212121212121213\n"
          ]
        }
      ]
    },
    {
      "cell_type": "markdown",
      "source": [
        "SVM modeli için Ortalama Kare Hatası (Mean Squared Error veya MSE) değeri 0.0**.21212121212121213** olarak hesaplanmıştır. Bu, modelin tahmin edilen değerlerinin gerçek değerlerden sapma miktarını göstermektedir."
      ],
      "metadata": {
        "id": "Dne_wT-NOYr0"
      }
    },
    {
      "cell_type": "markdown",
      "source": [
        "#Comparison"
      ],
      "metadata": {
        "id": "fDKlZ-MbaTwc"
      }
    },
    {
      "cell_type": "code",
      "source": [
        "# Naive Bayes\n",
        "accuracy_nb = accuracy_score(y_test, y_pred_nb)\n",
        "recall_nb = recall_score(y_test, y_pred_nb)\n",
        "specificity_nb = confusion_matrix(y_test, y_pred_nb)[0, 0] / (confusion_matrix(y_test, y_pred_nb)[0, 0] + confusion_matrix(y_test, y_pred_nb)[0, 1])\n",
        "f1_nb = f1_score(y_test, y_pred_nb)\n",
        "auc_nb = roc_auc_score(y_test, y_pred_nb)\n",
        "mse_nb = mean_squared_error(y_test, y_pred_nb)\n"
      ],
      "metadata": {
        "id": "-zXsLFEh948A"
      },
      "execution_count": 152,
      "outputs": []
    },
    {
      "cell_type": "code",
      "source": [
        "# KNN\n",
        "accuracy_knn = accuracy_score(y_test, y_pred_knn)\n",
        "recall_knn = recall_score(y_test, y_pred_knn)\n",
        "specificity_knn = confusion_matrix(y_test, y_pred_knn)[0, 0] / (confusion_matrix(y_test, y_pred_knn)[0, 0] + confusion_matrix(y_test, y_pred_knn)[0, 1])\n",
        "f1_knn = f1_score(y_test, y_pred_knn)\n",
        "auc_knn = roc_auc_score(y_test, y_pred_knn)\n",
        "mse_knn = mean_squared_error(y_test, y_pred_knn)"
      ],
      "metadata": {
        "id": "hA2ItyIM-dA_"
      },
      "execution_count": 153,
      "outputs": []
    },
    {
      "cell_type": "code",
      "source": [
        "# MLP\n",
        "accuracy_mlp = accuracy_score(y_test, y_pred_mlp)\n",
        "recall_mlp = recall_score(y_test, y_pred_mlp)\n",
        "specificity_mlp = confusion_matrix(y_test, y_pred_mlp)[0, 0] / (confusion_matrix(y_test, y_pred_mlp)[0, 0] + confusion_matrix(y_test, y_pred_mlp)[0, 1])\n",
        "f1_mlp = f1_score(y_test, y_pred_mlp)\n",
        "auc_mlp = roc_auc_score(y_test, y_pred_mlp)\n",
        "mse_mlp = mean_squared_error(y_test, y_pred_mlp)"
      ],
      "metadata": {
        "id": "a6WwwSxk-h1A"
      },
      "execution_count": 154,
      "outputs": []
    },
    {
      "cell_type": "code",
      "source": [
        "# SVM\n",
        "accuracy_svm = accuracy_score(y_test, y_pred_svm)\n",
        "recall_svm = recall_score(y_test, y_pred_svm)\n",
        "specificity_svm = confusion_matrix(y_test, y_pred_svm)[0, 0] / (confusion_matrix(y_test, y_pred_svm)[0, 0] + confusion_matrix(y_test, y_pred_svm)[0, 1])\n",
        "f1_svm = f1_score(y_test, y_pred_svm)\n",
        "auc_svm = roc_auc_score(y_test, y_pred_svm)\n",
        "mse_svm = mean_squared_error(y_test, y_pred_svm)"
      ],
      "metadata": {
        "id": "hrPrXlKi-lZ1"
      },
      "execution_count": 155,
      "outputs": []
    },
    {
      "cell_type": "code",
      "source": [
        "models = ['Naive Bayes', 'KNN', 'MLP', 'SVM']\n",
        "accuracy_values = [accuracy_nb, accuracy_knn, accuracy_mlp, accuracy_svm]\n",
        "recall_values = [recall_nb, recall_knn, recall_mlp, recall_svm]\n",
        "specificity_values = [specificity_nb, specificity_knn, specificity_mlp, specificity_svm]\n",
        "f1_values = [f1_nb, f1_knn, f1_mlp, f1_svm]\n",
        "auc_values = [auc_nb, auc_knn, auc_mlp, auc_svm]\n",
        "mse_values = [mse_nb, mse_knn, mse_mlp, mse_svm]\n",
        "\n",
        "# Accuracy and Recall\n",
        "plt.figure(figsize=(12, 12))\n",
        "\n",
        "plt.subplot(3, 2, 1)\n",
        "plt.bar(models, accuracy_values, color='orange')\n",
        "plt.xlabel('Models')\n",
        "plt.ylabel('Accuracy')\n",
        "plt.title('Comparison of Accuracy for Different Models')\n",
        "\n",
        "plt.subplot(3, 2, 2)\n",
        "plt.bar(models, recall_values, color='blue')\n",
        "plt.xlabel('Models')\n",
        "plt.ylabel('Recall')\n",
        "plt.title('Comparison of Recall for Different Models')\n",
        "\n",
        "#  Specificity and F1-Score\n",
        "plt.subplot(3, 2, 3)\n",
        "plt.bar(models, specificity_values, color='green')\n",
        "plt.xlabel('Models')\n",
        "plt.ylabel('Specificity')\n",
        "plt.title('Comparison of Specificity for Different Models')\n",
        "\n",
        "plt.subplot(3, 2, 4)\n",
        "plt.bar(models, f1_values, color='purple')\n",
        "plt.xlabel('Models')\n",
        "plt.ylabel('F1-Score')\n",
        "plt.title('Comparison of F1-Score for Different Models')\n",
        "\n",
        "\n",
        "# AUC and MSE\n",
        "plt.subplot(3, 2, 5)\n",
        "plt.bar(models, auc_values, color='red')\n",
        "plt.xlabel('Models')\n",
        "plt.ylabel('AUC')\n",
        "plt.title('Comparison of AUC for Different Models')\n",
        "\n",
        "plt.subplot(3, 2, 6)\n",
        "plt.bar(models, mse_values, color='cyan')\n",
        "plt.xlabel('Models')\n",
        "plt.ylabel('Mean Squared Error (MSE)')\n",
        "plt.title('Comparison of MSE for Different Models')\n",
        "\n",
        "\n",
        "plt.tight_layout()\n",
        "plt.show()"
      ],
      "metadata": {
        "colab": {
          "base_uri": "https://localhost:8080/",
          "height": 1000
        },
        "id": "pdXrTHCu902b",
        "outputId": "e47b142c-80cd-4347-d8d3-364be58ba43f"
      },
      "execution_count": 161,
      "outputs": [
        {
          "output_type": "display_data",
          "data": {
            "text/plain": [
              "<Figure size 1200x1200 with 6 Axes>"
            ],
            "image/png": "[encoded data removed]"
          },
          "metadata": {}
        }
      ]
    },
    {
      "cell_type": "markdown",
      "source": [
        "\n",
        "### Karşılaştırma Tablosu\n",
        "\n",
        "\n",
        "| Model           | Accuracy |(Recall) sınıf 1 için | Specificity | F1-Score sınıf 1 için | MSE   |\n",
        "|-----------------|---------------------|----------------------------------|-------------|----------------------|-------|\n",
        "| Naive Bayes     | 0.74                | 0.66                             | 0.788       | 0.59                 | 0.255 |\n",
        "| KNN             | 0.74                | 0.51                             | 0.868       | 0.58                 | 0.281 |\n",
        "| MLP             | 0.72                | 0.59                             | 0.788       | 0.59                 | 0.281 |\n",
        "| SVM             | 0.75                | 0.60                             | 0.828       | 0.62                 | 0.251 |\n",
        "\n",
        "\n",
        "\n",
        "1. **Accuracy**\n",
        "- SVM algoritması, 0.79 doğruluk ile en iyi performansı göstermiştir ve ardından 0.75 ve 0.74 doğruluk ile sırasıyla MLP ve Naive Bayes gelmektedir.\n",
        "- KNN algoritması, 0.69 doğruluk ile en düşük doğruluğa sahiptir.\n",
        "\n",
        "\n",
        "2. **Sensitivity/Recall**\n",
        "- Naive Bayes, 0.79 ile en yüksek duyarlılığa sahiptir.\n",
        "- KNN, 0.40 ile en düşük duyarlılığa sahiptir.\n",
        "\n",
        "\n",
        "3. **Specificity**\n",
        "- KNN algoritması, 0.84 ile en iyi özgüllüğe sahiptir.\n",
        "- Naive Bayes ve MLP, KNN ve SVM'ye kıyasla daha düşük ve birbirine yakın değerlere sahiptir.\n",
        "\n",
        "\n",
        "4. **F1-Score**\n",
        "- Naive Bayes, 0.80 ile en iyi F1 skoruna sahiptir.\n",
        "- KNN, 0.47 ile en düşük F1 skoruna sahiptir.\n",
        "\n",
        "\n",
        "5. **AUC**\n",
        "- SVM, 0.80 ile en iyi performansa sahiptir.\n",
        "- Naive Bayes ve MLP, 0.79 değerleri ile benzer performans göstermektedir.\n",
        "- KNN, 0.74 ile en düşük performansa sahiptir.\n",
        "\n",
        "\n",
        "6. **MSE**\n",
        "- SVM, 0.25 değeri ile MSE ölçütünde en iyi performansa sahiptir.\n",
        "- KNN, 0.31 değeri ile en yüksek MSE değerine sahiptir ve bu da en yüksek tahmin hatasını gösterir.\n",
        "\n",
        "\n",
        "### Genel Sonuç\n",
        "- SVM algoritması, genel olarak tüm algoritmalar arasında en iyi performansa sahiptir; yüksek doğruluk, uygun özgüllük ve en düşük MSE değeri ile.\n",
        "- Naive Bayes algoritması da özellikle duyarlılık ve F1 skoru ölçütlerinde iyi bir performans göstermektedir.\n",
        "- KNN algoritmasının, özellikle duyarlılık ve F1 skoru ölçütlerinde geliştirilmesi gerekmektedir.\n",
        "- MLP algoritması da iyi bir performansa sahiptir ancak özgüllük ölçütünde SVM ve KNN'ye kıyasla biraz daha zayıftır."
      ],
      "metadata": {
        "id": "GtEBPyVZb4lV"
      }
    }
  ]
}